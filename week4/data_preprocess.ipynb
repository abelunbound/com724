{
 "cells": [
  {
   "cell_type": "code",
   "execution_count": 21,
   "metadata": {
    "collapsed": true,
    "pycharm": {
     "name": "#%%\n"
    }
   },
   "outputs": [
    {
     "name": "stdout",
     "output_type": "stream",
     "text": [
      "\n",
      "----------My data dimension----------\n",
      "\n",
      "(771, 9)\n",
      "\n",
      "----------First 5 Data rows----------\n",
      "\n",
      "   preg   plas  pres  skin   test  mass   pedi   age  class\n",
      "0     6  148.0  72.0    35    0.0  33.6  0.627  50.0      1\n",
      "1     1   85.0  66.0    29    0.0  26.6  0.351  31.0      0\n",
      "2     8  183.0  64.0     0    0.0  23.3  0.672  32.0      1\n",
      "3     1   89.0  66.0    23   94.0  28.1  0.167  21.0      0\n",
      "4     0  137.0  40.0    35  168.0  43.1  2.288  33.0      1\n",
      "\n",
      "----------Last 5 Data rows----------\n",
      "\n",
      "     preg   plas  pres  skin   test  mass   pedi   age  class\n",
      "766     2  122.0  70.0    27    0.0  36.8  0.340  27.0      0\n",
      "767     5  121.0  72.0    23  112.0  26.2  0.245  30.0      0\n",
      "768     1  126.0  60.0     0    0.0  30.1  0.349  47.0      1\n",
      "769     1   93.0  70.0    31    0.0  30.4  0.315  23.0      0\n",
      "770     2    NaN  58.0    26    NaN  28.4  0.766   NaN      0\n",
      "\n",
      " -----Data Types of each row----- \n",
      "\n",
      "preg       int64\n",
      "plas     float64\n",
      "pres     float64\n",
      "skin       int64\n",
      "test     float64\n",
      "mass     float64\n",
      "pedi     float64\n",
      "age      float64\n",
      "class      int64\n",
      "dtype: object\n"
     ]
    }
   ],
   "source": [
    "from pandas import read_csv\n",
    "from numpy  import set_printoptions\n",
    "from sklearn import preprocessing\n",
    "\n",
    "#load data into a dataframe\n",
    "header_names = ['preg','plas','pres','skin','test','mass','pedi','age','class']\n",
    "my_data = read_csv(\"pima_indians_diabetes_2.csv\",names=header_names)\n",
    "\n",
    "\n",
    "print('\\n----------My data dimension----------\\n')\n",
    "print(my_data.shape)\n",
    "print('\\n----------First 5 Data rows----------\\n')\n",
    "print(my_data.head(5))\n",
    "print('\\n----------Last 5 Data rows----------\\n')\n",
    "print(my_data.tail(5))\n",
    "print(\"\\n -----Data Types of each row----- \\n\")\n",
    "print(my_data.dtypes)"
   ]
  }
 ],
 "metadata": {
  "kernelspec": {
   "display_name": "Python 3",
   "language": "python",
   "name": "python3"
  },
  "language_info": {
   "codemirror_mode": {
    "name": "ipython",
    "version": 2
   },
   "file_extension": ".py",
   "mimetype": "text/x-python",
   "name": "python",
   "nbconvert_exporter": "python",
   "pygments_lexer": "ipython2",
   "version": "2.7.6"
  }
 },
 "nbformat": 4,
 "nbformat_minor": 0
}