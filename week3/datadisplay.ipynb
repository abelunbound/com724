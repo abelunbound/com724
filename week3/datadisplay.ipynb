{
 "cells": [
  {
   "cell_type": "code",
   "execution_count": 1,
   "outputs": [
    {
     "ename": "ModuleNotFoundError",
     "evalue": "No module named 'numpy'",
     "output_type": "error",
     "traceback": [
      "\u001B[1;31m---------------------------------------------------------------------------\u001B[0m",
      "\u001B[1;31mModuleNotFoundError\u001B[0m                       Traceback (most recent call last)",
      "Input \u001B[1;32mIn [1]\u001B[0m, in \u001B[0;36m<cell line: 2>\u001B[1;34m()\u001B[0m\n\u001B[0;32m      1\u001B[0m \u001B[38;5;28;01mimport\u001B[39;00m \u001B[38;5;21;01mcsv\u001B[39;00m\n\u001B[1;32m----> 2\u001B[0m \u001B[38;5;28;01mimport\u001B[39;00m \u001B[38;5;21;01mnumpy\u001B[39;00m \u001B[38;5;28;01mas\u001B[39;00m \u001B[38;5;21;01mnp\u001B[39;00m\n\u001B[0;32m      3\u001B[0m \u001B[38;5;28;01mwith\u001B[39;00m \u001B[38;5;28mopen\u001B[39m (\u001B[38;5;124m\"\u001B[39m\u001B[38;5;124mpima_indians_diabetes.csv\u001B[39m\u001B[38;5;124m\"\u001B[39m, \u001B[38;5;124m'\u001B[39m\u001B[38;5;124mr\u001B[39m\u001B[38;5;124m'\u001B[39m) \u001B[38;5;28;01mas\u001B[39;00m diabetics:\n\u001B[0;32m      4\u001B[0m     read_data \u001B[38;5;241m=\u001B[39m csv\u001B[38;5;241m.\u001B[39mreader(diabetics,delimiter \u001B[38;5;241m=\u001B[39m\u001B[38;5;124m'\u001B[39m\u001B[38;5;124m,\u001B[39m\u001B[38;5;124m'\u001B[39m)\n",
      "\u001B[1;31mModuleNotFoundError\u001B[0m: No module named 'numpy'"
     ]
    }
   ],
   "source": [
    "import csv\n",
    "import numpy as np\n",
    "with open (\"pima_indians_diabetes.csv\", 'r') as diabetics:\n",
    "    read_data = csv.reader(diabetics,delimiter =',')\n",
    "    diabetics_headers = next(read_data)\n",
    "    diabetics_data = list(read_data)\n",
    "    diabetics_data = np.array(diabetics_data).astype(float)\n",
    "\n",
    "print(diabetics_headers)\n",
    "print(diabetics_data.shape)\n",
    "print(diabetics_data[:2])"
   ],
   "metadata": {
    "collapsed": false,
    "pycharm": {
     "name": "#%% loading data with csv\n"
    }
   }
  },
  {
   "cell_type": "code",
   "execution_count": null,
   "outputs": [],
   "source": [
    "from numpy import loadtxt\n",
    "from numpy import genfromtxt\n",
    "datalocation = open(\"pima_indians_diabetes.csv\",'r')\n",
    "data = loadtxt(datalocation, delimiter=',')\n",
    "print(data.shape)\n",
    "print(data[:3])\n"
   ],
   "metadata": {
    "collapsed": false,
    "pycharm": {
     "name": "#%% loading data with numpy\n"
    }
   }
  },
  {
   "cell_type": "code",
   "execution_count": null,
   "outputs": [],
   "source": [
    "from pandas import  read_csv\n",
    "my_data = read_csv(\"pima_indians_diabetes.csv\")\n",
    "print(my_data.shape)\n",
    "print(my_data[:5])"
   ],
   "metadata": {
    "collapsed": false,
    "pycharm": {
     "name": "#%% loading data with pandas\n"
    }
   }
  },
  {
   "cell_type": "code",
   "execution_count": null,
   "outputs": [],
   "source": [
    "from pandas import  read_csv\n",
    "\n",
    "#create column header\n",
    "header_names = ['preg','plas','pres','skin','test','mass','pedi','age','class']\n",
    "my_data = read_csv(\"pima_indians_diabetes.csv\",names=header_names)\n",
    "print(my_data.shape)\n",
    "\n",
    "#Print a given number of rows including the row carrying the headers\n",
    "print(my_data[:10])"
   ],
   "metadata": {
    "collapsed": false,
    "pycharm": {
     "name": "#%% Using pandas with headers added\n"
    }
   }
  },
  {
   "cell_type": "code",
   "execution_count": null,
   "outputs": [],
   "source": [
    "from pandas import  read_csv\n",
    "header_names = ['preg','plas','pres','skin','test','mass','pedi','age','class']\n",
    "my_data = read_csv(\"pima_indians_diabetes.csv\",names=header_names)\n",
    "print(my_data.shape)\n",
    "print('Printing the first 5 data rows...')\n",
    "\n",
    "#Print set of rows without counting the headers\n",
    "print(my_data.head(5))\n",
    "\n",
    "print(\"\\n ---------- \\n\")\n",
    "print('Printing first the last 5 data row...')\n",
    "print(my_data.tail(5))\n",
    "print(\"\\n -----Data Types of each row----- \\n\")\n",
    "print(my_data.dtypes)"
   ],
   "metadata": {
    "collapsed": false,
    "pycharm": {
     "name": "#%% using the head and tail method\n"
    }
   }
  },
  {
   "cell_type": "code",
   "execution_count": null,
   "outputs": [],
   "source": [
    "from pandas import read_csv\n",
    "from pandas import set_option\n",
    "\n",
    "header_names = ['sepal_length','sepal_width','petal_length','petal_width','iris_class']\n",
    "my_data = read_csv(\"iris_data.csv\", names=header_names)\n",
    "\n",
    "#my_data = read_csv(\"iris_data.csv\", names=header_names, engine='python',sep=',\\s*', skipinitialspace=True)\n",
    "#What is the function of these two lines of codes? They keep throwing up errors?\n",
    "#set_option('display.width', 100)\n",
    "#set_option('precision', 2)\n",
    "#What is the function of these two lines of codes above? They keep throwing up errors?\n",
    "\n",
    "print('\\n----------My data dimension----------\\n')\n",
    "#Why does the .shape not end with()?\n",
    "print(my_data.shape)\n",
    "print('\\n----------Descriptive Statistics----------\\n')\n",
    "print(my_data.describe())\n",
    "print('\\n----------The mean value of each variable----------\\n')\n",
    "print(my_data.mean())\n",
    "print('\\n----------The median value of each variable----------\\n')\n",
    "print(my_data.mean())"
   ],
   "metadata": {
    "collapsed": false,
    "pycharm": {
     "name": "#%% Statistical evaluation to understand our data\n"
    }
   }
  },
  {
   "cell_type": "code",
   "execution_count": null,
   "outputs": [],
   "source": [
    "from pandas import  read_csv\n",
    "from pandas import set_option\n",
    "header_names = ['preg','plas','pres','skin','test','mass','pedi','age','class']\n",
    "my_data = read_csv(\"pima_indians_diabetes.csv\",names=header_names)\n",
    "count_diabetics_class = my_data.groupby('class').size()\n",
    "print(count_diabetics_class)\n"
   ],
   "metadata": {
    "collapsed": false,
    "pycharm": {
     "name": "#%% counting ouput groups\n"
    }
   }
  },
  {
   "cell_type": "code",
   "execution_count": null,
   "outputs": [],
   "source": [
    "from pandas import  read_csv\n",
    "from pandas import set_option\n",
    "header_names = ['preg','plas','pres','skin','test','mass','pedi','age','class']\n",
    "my_data = read_csv(\"pima_indians_diabetes.csv\",names=header_names)\n",
    "\n",
    "# set_option('display.width', 100)\n",
    "set_option('display.precision', 2)\n",
    "print('\\n----------Correlation Matrix----------\\n')\n",
    "mydata_correlations = my_data.corr(method='pearson')\n",
    "print(mydata_correlations)\n",
    "print('\\n----------Test for Skeweness----------\\n')\n",
    "print(my_data.skew())"
   ],
   "metadata": {
    "collapsed": false,
    "pycharm": {
     "name": "#%% Correlation Analysis\n"
    }
   }
  },
  {
   "cell_type": "code",
   "execution_count": null,
   "outputs": [],
   "source": [
    "from pandas import read_csv\n",
    "from matplotlib import pyplot\n",
    "import pandas as pd\n",
    "header_names = ['preg','plas','pres','skin','test','mass','pedi','age','class']\n",
    "my_data = read_csv(\"pima_indians_diabetes.csv\",names=header_names)\n",
    "\n",
    "# set_option('display.width', 100)\n",
    "set_option('display.precision', 2)\n",
    "\n",
    "my_data.hist()\n",
    "pyplot.show()"
   ],
   "metadata": {
    "collapsed": false,
    "pycharm": {
     "name": "#%% Data Visualisation with Histogram\n"
    }
   }
  },
  {
   "cell_type": "code",
   "execution_count": null,
   "outputs": [],
   "source": [],
   "metadata": {
    "collapsed": false,
    "pycharm": {
     "name": "#%%\n"
    }
   }
  },
  {
   "cell_type": "code",
   "execution_count": null,
   "outputs": [],
   "source": [
    "from pandas import read_csv\n",
    "from matplotlib import pyplot\n",
    "import pandas as pd\n",
    "header_names = ['preg','plas','pres','skin','test','mass','pedi','age','class']\n",
    "my_data = read_csv(\"pima_indians_diabetes.csv\",names=header_names)\n",
    "\n",
    "# set_option('display.width', 100)\n",
    "set_option('display.precision', 2)\n",
    "\n",
    "my_data.hist()\n",
    "pyplot.show()"
   ],
   "metadata": {
    "collapsed": false,
    "pycharm": {
     "name": "#%% Data Visualisation with Histogram\n"
    }
   }
  },
  {
   "cell_type": "code",
   "execution_count": null,
   "outputs": [],
   "source": [],
   "metadata": {
    "collapsed": false,
    "pycharm": {
     "name": "#%%\n"
    }
   }
  },
  {
   "cell_type": "code",
   "execution_count": null,
   "outputs": [],
   "source": [
    "from pandas import read_csv\n",
    "from matplotlib import pyplot\n",
    "import pandas as pd\n",
    "\n",
    "my_data = pd.read_csv(\"MentalHQ2020.csv\")\n",
    "\n",
    "# set_option('display.width', 100)\n",
    "# set_option('display.precision', 2)\n",
    "\n",
    "print('\\n----------My data dimension----------\\n')\n",
    "#Why does the .shape not end with()?\n",
    "print(my_data.shape)\n",
    "\n",
    "print('\\n----------Descriptive Statistics----------\\n')\n",
    "print(my_data.describe())\n",
    "print('\\n----------The mean value of each variable----------\\n')\n",
    "print(my_data.mean())\n",
    "print('\\n----------The median value of each variable----------\\n')\n",
    "print(my_data.median())\n",
    "\n",
    "df = pd.DataFrame(my_data)"
   ],
   "metadata": {
    "collapsed": false,
    "pycharm": {
     "name": "#%% Extra Work\n"
    }
   }
  },
  {
   "cell_type": "code",
   "execution_count": 3,
   "outputs": [
    {
     "ename": "NameError",
     "evalue": "name 'df' is not defined",
     "output_type": "error",
     "traceback": [
      "\u001B[1;31m---------------------------------------------------------------------------\u001B[0m",
      "\u001B[1;31mNameError\u001B[0m                                 Traceback (most recent call last)",
      "Input \u001B[1;32mIn [3]\u001B[0m, in \u001B[0;36m<cell line: 1>\u001B[1;34m()\u001B[0m\n\u001B[1;32m----> 1\u001B[0m \u001B[38;5;28mprint\u001B[39m(\u001B[43mdf\u001B[49m[\u001B[38;5;124m'\u001B[39m\u001B[38;5;124mgender\u001B[39m\u001B[38;5;124m'\u001B[39m])\n",
      "\u001B[1;31mNameError\u001B[0m: name 'df' is not defined"
     ]
    }
   ],
   "source": [
    "print(df['gender'])"
   ],
   "metadata": {
    "collapsed": false,
    "pycharm": {
     "name": "#%%\n"
    }
   }
  },
  {
   "cell_type": "code",
   "execution_count": 2,
   "outputs": [
    {
     "ename": "NameError",
     "evalue": "name 'df' is not defined",
     "output_type": "error",
     "traceback": [
      "\u001B[1;31m---------------------------------------------------------------------------\u001B[0m",
      "\u001B[1;31mNameError\u001B[0m                                 Traceback (most recent call last)",
      "Input \u001B[1;32mIn [2]\u001B[0m, in \u001B[0;36m<cell line: 1>\u001B[1;34m()\u001B[0m\n\u001B[1;32m----> 1\u001B[0m \u001B[38;5;28mprint\u001B[39m(\u001B[43mdf\u001B[49m[\u001B[38;5;124m'\u001B[39m\u001B[38;5;124mgender\u001B[39m\u001B[38;5;124m'\u001B[39m])\n\u001B[0;32m      3\u001B[0m \u001B[38;5;28mprint\u001B[39m(df[\u001B[38;5;124m'\u001B[39m\u001B[38;5;124mgender\u001B[39m\u001B[38;5;124m'\u001B[39m][\u001B[38;5;241m3\u001B[39m])\n\u001B[0;32m      4\u001B[0m df[\u001B[38;5;124m'\u001B[39m\u001B[38;5;124mgender\u001B[39m\u001B[38;5;124m'\u001B[39m][\u001B[38;5;241m3\u001B[39m]\u001B[38;5;241m=\u001B[39m \u001B[38;5;124m'\u001B[39m\u001B[38;5;124mbisexual\u001B[39m\u001B[38;5;124m'\u001B[39m\n",
      "\u001B[1;31mNameError\u001B[0m: name 'df' is not defined"
     ]
    }
   ],
   "source": [
    "print(df['gender'])\n",
    "\n",
    "print(df['gender'][3])\n",
    "df['gender'][3]= 'bisexual'\n",
    "\n",
    "print(df['gender'])"
   ],
   "metadata": {
    "collapsed": false,
    "pycharm": {
     "name": "#%%\n"
    }
   }
  }
 ],
 "metadata": {
  "kernelspec": {
   "display_name": "Python 3",
   "language": "python",
   "name": "python3"
  },
  "language_info": {
   "codemirror_mode": {
    "name": "ipython",
    "version": 2
   },
   "file_extension": ".py",
   "mimetype": "text/x-python",
   "name": "python",
   "nbconvert_exporter": "python",
   "pygments_lexer": "ipython2",
   "version": "2.7.6"
  }
 },
 "nbformat": 4,
 "nbformat_minor": 0
}