{
 "cells": [
  {
   "cell_type": "code",
   "execution_count": 102,
   "outputs": [
    {
     "name": "stdout",
     "output_type": "stream",
     "text": [
      "['6', '148', '72', '35', '0', '33.6', '0.627', '50', '1']\n",
      "(767, 9)\n",
      "[[  1.     85.     66.     29.      0.     26.6     0.351  31.      0.   ]\n",
      " [  8.    183.     64.      0.      0.     23.3     0.672  32.      1.   ]]\n"
     ]
    }
   ],
   "source": [
    "import csv\n",
    "import numpy as np\n",
    "with open (\"pima_indians_diabetes.csv\", 'r') as diabetics:\n",
    "    read_data = csv.reader(diabetics,delimiter =',')\n",
    "    diabetics_headers = next(read_data)\n",
    "    diabetics_data = list(read_data)\n",
    "    diabetics_data = np.array(diabetics_data).astype(float)\n",
    "\n",
    "print(diabetics_headers)\n",
    "print(diabetics_data.shape)\n",
    "print(diabetics_data[:2])"
   ],
   "metadata": {
    "collapsed": false,
    "pycharm": {
     "name": "#%% loading data with csv\n"
    }
   }
  },
  {
   "cell_type": "code",
   "execution_count": 103,
   "outputs": [
    {
     "name": "stdout",
     "output_type": "stream",
     "text": [
      "(768, 9)\n",
      "[[  6.    148.     72.     35.      0.     33.6     0.627  50.      1.   ]\n",
      " [  1.     85.     66.     29.      0.     26.6     0.351  31.      0.   ]\n",
      " [  8.    183.     64.      0.      0.     23.3     0.672  32.      1.   ]]\n"
     ]
    }
   ],
   "source": [
    "from numpy import loadtxt\n",
    "from numpy import genfromtxt\n",
    "datalocation = open(\"pima_indians_diabetes.csv\",'r')\n",
    "data = loadtxt(datalocation, delimiter=',')\n",
    "print(data.shape)\n",
    "print(data[:3])\n"
   ],
   "metadata": {
    "collapsed": false,
    "pycharm": {
     "name": "#%% loading data with numpy\n"
    }
   }
  },
  {
   "cell_type": "code",
   "execution_count": 104,
   "outputs": [
    {
     "name": "stdout",
     "output_type": "stream",
     "text": [
      "(767, 9)\n",
      "   6  148  72  35    0  33.6  0.627  50  1\n",
      "0  1   85  66  29    0  26.6   0.35  31  0\n",
      "1  8  183  64   0    0  23.3   0.67  32  1\n",
      "2  1   89  66  23   94  28.1   0.17  21  0\n",
      "3  0  137  40  35  168  43.1   2.29  33  1\n",
      "4  5  116  74   0    0  25.6   0.20  30  0\n"
     ]
    }
   ],
   "source": [
    "from pandas import  read_csv\n",
    "my_data = read_csv(\"pima_indians_diabetes.csv\")\n",
    "print(my_data.shape)\n",
    "print(my_data[:5])"
   ],
   "metadata": {
    "collapsed": false,
    "pycharm": {
     "name": "#%% loading data with pandas\n"
    }
   }
  },
  {
   "cell_type": "code",
   "execution_count": 105,
   "outputs": [
    {
     "name": "stdout",
     "output_type": "stream",
     "text": [
      "(768, 9)\n",
      "   preg  plas  pres  skin  test  mass  pedi  age  class\n",
      "0     6   148    72    35     0  33.6  0.63   50      1\n",
      "1     1    85    66    29     0  26.6  0.35   31      0\n",
      "2     8   183    64     0     0  23.3  0.67   32      1\n",
      "3     1    89    66    23    94  28.1  0.17   21      0\n",
      "4     0   137    40    35   168  43.1  2.29   33      1\n",
      "5     5   116    74     0     0  25.6  0.20   30      0\n",
      "6     3    78    50    32    88  31.0  0.25   26      1\n",
      "7    10   115     0     0     0  35.3  0.13   29      0\n",
      "8     2   197    70    45   543  30.5  0.16   53      1\n",
      "9     8   125    96     0     0   0.0  0.23   54      1\n"
     ]
    }
   ],
   "source": [
    "from pandas import  read_csv\n",
    "\n",
    "#create column header\n",
    "header_names = ['preg','plas','pres','skin','test','mass','pedi','age','class']\n",
    "my_data = read_csv(\"pima_indians_diabetes.csv\",names=header_names)\n",
    "print(my_data.shape)\n",
    "\n",
    "#Print a given number of rows including the row carrying the headers\n",
    "print(my_data[:10])"
   ],
   "metadata": {
    "collapsed": false,
    "pycharm": {
     "name": "#%% Using pandas with headers added\n"
    }
   }
  },
  {
   "cell_type": "code",
   "execution_count": 106,
   "outputs": [
    {
     "name": "stdout",
     "output_type": "stream",
     "text": [
      "(768, 9)\n",
      "Printing the first 5 data rows...\n",
      "   preg  plas  pres  skin  test  mass  pedi  age  class\n",
      "0     6   148    72    35     0  33.6  0.63   50      1\n",
      "1     1    85    66    29     0  26.6  0.35   31      0\n",
      "2     8   183    64     0     0  23.3  0.67   32      1\n",
      "3     1    89    66    23    94  28.1  0.17   21      0\n",
      "4     0   137    40    35   168  43.1  2.29   33      1\n",
      "\n",
      " ---------- \n",
      "\n",
      "Printing first the last 5 data row...\n",
      "     preg  plas  pres  skin  test  mass  pedi  age  class\n",
      "763    10   101    76    48   180  32.9  0.17   63      0\n",
      "764     2   122    70    27     0  36.8  0.34   27      0\n",
      "765     5   121    72    23   112  26.2  0.24   30      0\n",
      "766     1   126    60     0     0  30.1  0.35   47      1\n",
      "767     1    93    70    31     0  30.4  0.32   23      0\n",
      "\n",
      " -----Data Types of each row----- \n",
      "\n",
      "preg       int64\n",
      "plas       int64\n",
      "pres       int64\n",
      "skin       int64\n",
      "test       int64\n",
      "mass     float64\n",
      "pedi     float64\n",
      "age        int64\n",
      "class      int64\n",
      "dtype: object\n"
     ]
    }
   ],
   "source": [
    "from pandas import  read_csv\n",
    "header_names = ['preg','plas','pres','skin','test','mass','pedi','age','class']\n",
    "my_data = read_csv(\"pima_indians_diabetes.csv\",names=header_names)\n",
    "print(my_data.shape)\n",
    "print('Printing the first 5 data rows...')\n",
    "\n",
    "#Print set of rows without counting the headers\n",
    "print(my_data.head(5))\n",
    "\n",
    "print(\"\\n ---------- \\n\")\n",
    "print('Printing first the last 5 data row...')\n",
    "print(my_data.tail(5))\n",
    "print(\"\\n -----Data Types of each row----- \\n\")\n",
    "print(my_data.dtypes)"
   ],
   "metadata": {
    "collapsed": false,
    "pycharm": {
     "name": "#%% using the head and tail method\n"
    }
   }
  },
  {
   "cell_type": "code",
   "execution_count": 107,
   "outputs": [
    {
     "name": "stdout",
     "output_type": "stream",
     "text": [
      "\n",
      "----------My data dimension----------\n",
      "\n",
      "(150, 5)\n",
      "\n",
      "----------Descriptive Statistics----------\n",
      "\n",
      "       sepal_length  sepal_width  petal_length  petal_width\n",
      "count        150.00       150.00        150.00       150.00\n",
      "mean           5.84         3.05          3.76         1.20\n",
      "std            0.83         0.43          1.76         0.76\n",
      "min            4.30         2.00          1.00         0.10\n",
      "25%            5.10         2.80          1.60         0.30\n",
      "50%            5.80         3.00          4.35         1.30\n",
      "75%            6.40         3.30          5.10         1.80\n",
      "max            7.90         4.40          6.90         2.50\n",
      "\n",
      "----------The mean value of each variable----------\n",
      "\n",
      "sepal_length    5.84\n",
      "sepal_width     3.05\n",
      "petal_length    3.76\n",
      "petal_width     1.20\n",
      "dtype: float64\n",
      "\n",
      "----------The median value of each variable----------\n",
      "\n",
      "sepal_length    5.84\n",
      "sepal_width     3.05\n",
      "petal_length    3.76\n",
      "petal_width     1.20\n",
      "dtype: float64\n"
     ]
    },
    {
     "name": "stderr",
     "output_type": "stream",
     "text": [
      "C:\\Users\\5akena74\\AppData\\Local\\Temp\\ipykernel_14132\\4184305275.py:19: FutureWarning: Dropping of nuisance columns in DataFrame reductions (with 'numeric_only=None') is deprecated; in a future version this will raise TypeError.  Select only valid columns before calling the reduction.\n",
      "  print(my_data.mean())\n",
      "C:\\Users\\5akena74\\AppData\\Local\\Temp\\ipykernel_14132\\4184305275.py:21: FutureWarning: Dropping of nuisance columns in DataFrame reductions (with 'numeric_only=None') is deprecated; in a future version this will raise TypeError.  Select only valid columns before calling the reduction.\n",
      "  print(my_data.mean())\n"
     ]
    }
   ],
   "source": [
    "from pandas import read_csv\n",
    "from pandas import set_option\n",
    "\n",
    "header_names = ['sepal_length','sepal_width','petal_length','petal_width','iris_class']\n",
    "my_data = read_csv(\"iris_data.csv\", names=header_names)\n",
    "\n",
    "#my_data = read_csv(\"iris_data.csv\", names=header_names, engine='python',sep=',\\s*', skipinitialspace=True)\n",
    "#What is the function of these two lines of codes? They keep throwing up errors?\n",
    "#set_option('display.width', 100)\n",
    "#set_option('precision', 2)\n",
    "#What is the function of these two lines of codes above? They keep throwing up errors?\n",
    "\n",
    "print('\\n----------My data dimension----------\\n')\n",
    "#Why does the .shape not end with()?\n",
    "print(my_data.shape)\n",
    "print('\\n----------Descriptive Statistics----------\\n')\n",
    "print(my_data.describe())\n",
    "print('\\n----------The mean value of each variable----------\\n')\n",
    "print(my_data.mean())\n",
    "print('\\n----------The median value of each variable----------\\n')\n",
    "print(my_data.mean())"
   ],
   "metadata": {
    "collapsed": false,
    "pycharm": {
     "name": "#%% Statistical evaluation to understand our data\n"
    }
   }
  },
  {
   "cell_type": "code",
   "execution_count": 108,
   "outputs": [
    {
     "name": "stdout",
     "output_type": "stream",
     "text": [
      "class\n",
      "0    500\n",
      "1    268\n",
      "dtype: int64\n"
     ]
    }
   ],
   "source": [
    "from pandas import  read_csv\n",
    "from pandas import set_option\n",
    "header_names = ['preg','plas','pres','skin','test','mass','pedi','age','class']\n",
    "my_data = read_csv(\"pima_indians_diabetes.csv\",names=header_names)\n",
    "count_diabetics_class = my_data.groupby('class').size()\n",
    "print(count_diabetics_class)\n"
   ],
   "metadata": {
    "collapsed": false,
    "pycharm": {
     "name": "#%% counting ouput groups\n"
    }
   }
  },
  {
   "cell_type": "code",
   "execution_count": 109,
   "outputs": [
    {
     "name": "stdout",
     "output_type": "stream",
     "text": [
      "\n",
      "----------Correlation Matrix----------\n",
      "\n",
      "       preg  plas  pres  skin  test  mass  pedi   age  class\n",
      "preg   1.00  0.13  0.14 -0.08 -0.07  0.02 -0.03  0.54   0.22\n",
      "plas   0.13  1.00  0.15  0.06  0.33  0.22  0.14  0.26   0.47\n",
      "pres   0.14  0.15  1.00  0.21  0.09  0.28  0.04  0.24   0.07\n",
      "skin  -0.08  0.06  0.21  1.00  0.44  0.39  0.18 -0.11   0.07\n",
      "test  -0.07  0.33  0.09  0.44  1.00  0.20  0.19 -0.04   0.13\n",
      "mass   0.02  0.22  0.28  0.39  0.20  1.00  0.14  0.04   0.29\n",
      "pedi  -0.03  0.14  0.04  0.18  0.19  0.14  1.00  0.03   0.17\n",
      "age    0.54  0.26  0.24 -0.11 -0.04  0.04  0.03  1.00   0.24\n",
      "class  0.22  0.47  0.07  0.07  0.13  0.29  0.17  0.24   1.00\n",
      "\n",
      "----------Test for Skeweness----------\n",
      "\n",
      "preg     0.90\n",
      "plas     0.17\n",
      "pres    -1.84\n",
      "skin     0.11\n",
      "test     2.27\n",
      "mass    -0.43\n",
      "pedi     1.92\n",
      "age      1.13\n",
      "class    0.64\n",
      "dtype: float64\n"
     ]
    }
   ],
   "source": [
    "from pandas import  read_csv\n",
    "from pandas import set_option\n",
    "header_names = ['preg','plas','pres','skin','test','mass','pedi','age','class']\n",
    "my_data = read_csv(\"pima_indians_diabetes.csv\",names=header_names)\n",
    "\n",
    "# set_option('display.width', 100)\n",
    "set_option('display.precision', 2)\n",
    "print('\\n----------Correlation Matrix----------\\n')\n",
    "mydata_correlations = my_data.corr(method='pearson')\n",
    "print(mydata_correlations)\n",
    "print('\\n----------Test for Skeweness----------\\n')\n",
    "print(my_data.skew())"
   ],
   "metadata": {
    "collapsed": false,
    "pycharm": {
     "name": "#%% Correlation Analysis\n"
    }
   }
  },
  {
   "cell_type": "code",
   "execution_count": 110,
   "outputs": [
    {
     "data": {
      "text/plain": "<Figure size 432x288 with 9 Axes>",
      "image/png": "[encoded data removed]"
     },
     "metadata": {
      "needs_background": "light"
     },
     "output_type": "display_data"
    }
   ],
   "source": [
    "from pandas import read_csv\n",
    "from matplotlib import pyplot\n",
    "import pandas as pd\n",
    "header_names = ['preg','plas','pres','skin','test','mass','pedi','age','class']\n",
    "my_data = read_csv(\"pima_indians_diabetes.csv\",names=header_names)\n",
    "\n",
    "# set_option('display.width', 100)\n",
    "set_option('display.precision', 2)\n",
    "\n",
    "my_data.hist()\n",
    "pyplot.show()"
   ],
   "metadata": {
    "collapsed": false,
    "pycharm": {
     "name": "#%% Data Visualisation with Histogram\n"
    }
   }
  },
  {
   "cell_type": "code",
   "execution_count": 110,
   "outputs": [],
   "source": [],
   "metadata": {
    "collapsed": false,
    "pycharm": {
     "name": "#%%\n"
    }
   }
  },
  {
   "cell_type": "code",
   "execution_count": 111,
   "outputs": [
    {
     "data": {
      "text/plain": "<Figure size 432x288 with 9 Axes>",
      "image/png": "[encoded data removed]"
     },
     "metadata": {
      "needs_background": "light"
     },
     "output_type": "display_data"
    }
   ],
   "source": [
    "from pandas import read_csv\n",
    "from matplotlib import pyplot\n",
    "import pandas as pd\n",
    "header_names = ['preg','plas','pres','skin','test','mass','pedi','age','class']\n",
    "my_data = read_csv(\"pima_indians_diabetes.csv\",names=header_names)\n",
    "\n",
    "# set_option('display.width', 100)\n",
    "set_option('display.precision', 2)\n",
    "\n",
    "my_data.hist()\n",
    "pyplot.show()"
   ],
   "metadata": {
    "collapsed": false,
    "pycharm": {
     "name": "#%% Data Visualisation with Histogram\n"
    }
   }
  },
  {
   "cell_type": "code",
   "execution_count": 111,
   "outputs": [],
   "source": [],
   "metadata": {
    "collapsed": false,
    "pycharm": {
     "name": "#%%\n"
    }
   }
  },
  {
   "cell_type": "code",
   "execution_count": 112,
   "outputs": [
    {
     "name": "stdout",
     "output_type": "stream",
     "text": [
      "\n",
      "----------My data dimension----------\n",
      "\n",
      "(542, 53)\n",
      "\n",
      "----------Descriptive Statistics----------\n",
      "\n",
      "       birthpositionfather  birthpositionmother  averagebreakperday\n",
      "count               517.00               517.00              496.00\n",
      "mean                  3.51                 2.78                2.13\n",
      "std                   2.62                 2.00                2.23\n",
      "min                   1.00                 1.00                0.00\n",
      "25%                   1.00                 1.00                1.00\n",
      "50%                   3.00                 2.00                2.00\n",
      "75%                   5.00                 4.00                3.00\n",
      "max                  10.00                10.00               10.00\n",
      "\n",
      "----------The mean value of each variable----------\n",
      "\n",
      "birthpositionfather    3.51\n",
      "birthpositionmother    2.78\n",
      "averagebreakperday     2.13\n",
      "dtype: float64\n",
      "\n",
      "----------The median value of each variable----------\n",
      "\n",
      "birthpositionfather    3.0\n",
      "birthpositionmother    2.0\n",
      "averagebreakperday     2.0\n",
      "dtype: float64\n",
      "\n",
      "----------Categorical data----------\n",
      "\n",
      "\n",
      "----------Numeric Data----------\n",
      "\n"
     ]
    },
    {
     "name": "stderr",
     "output_type": "stream",
     "text": [
      "C:\\Users\\5akena74\\AppData\\Local\\Temp\\ipykernel_14132\\3012528568.py:17: FutureWarning: Dropping of nuisance columns in DataFrame reductions (with 'numeric_only=None') is deprecated; in a future version this will raise TypeError.  Select only valid columns before calling the reduction.\n",
      "  print(my_data.mean())\n",
      "C:\\Users\\5akena74\\AppData\\Local\\Temp\\ipykernel_14132\\3012528568.py:19: FutureWarning: Dropping of nuisance columns in DataFrame reductions (with 'numeric_only=None') is deprecated; in a future version this will raise TypeError.  Select only valid columns before calling the reduction.\n",
      "  print(my_data.median())\n"
     ]
    }
   ],
   "source": [
    "from pandas import read_csv\n",
    "from matplotlib import pyplot\n",
    "import pandas as pd\n",
    "\n",
    "my_data = read_csv(\"MentalHQ2020.csv\")\n",
    "\n",
    "# set_option('display.width', 100)\n",
    "# set_option('display.precision', 2)\n",
    "\n",
    "print('\\n----------My data dimension----------\\n')\n",
    "#Why does the .shape not end with()?\n",
    "print(my_data.shape)\n",
    "\n",
    "print('\\n----------Descriptive Statistics----------\\n')\n",
    "print(my_data.describe())\n",
    "print('\\n----------The mean value of each variable----------\\n')\n",
    "print(my_data.mean())\n",
    "print('\\n----------The median value of each variable----------\\n')\n",
    "print(my_data.median())\n",
    "\n",
    "df = pd.DataFrame(my_data)\n",
    "\n",
    "df_numeric = df.select_dtypes(include=['float64'])\n",
    "df_categorical = df.select_dtypes(include=['object'])\n",
    "print('\\n----------Categorical data----------\\n')\n",
    "df_numeric\n",
    "print('\\n----------Numeric Data----------\\n')"
   ],
   "metadata": {
    "collapsed": false,
    "pycharm": {
     "name": "#%% Extra Work\n"
    }
   }
  },
  {
   "cell_type": "code",
   "execution_count": 112,
   "outputs": [],
   "source": [
    "kjj"
   ],
   "metadata": {
    "collapsed": false,
    "pycharm": {
     "name": "#%%\n"
    }
   }
  }
 ],
 "metadata": {
  "kernelspec": {
   "display_name": "Python 3",
   "language": "python",
   "name": "python3"
  },
  "language_info": {
   "codemirror_mode": {
    "name": "ipython",
    "version": 2
   },
   "file_extension": ".py",
   "mimetype": "text/x-python",
   "name": "python",
   "nbconvert_exporter": "python",
   "pygments_lexer": "ipython2",
   "version": "2.7.6"
  }
 },
 "nbformat": 4,
 "nbformat_minor": 0
}