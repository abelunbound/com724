{
 "cells": [
  {
   "cell_type": "markdown",
   "id": "328f18f5",
   "metadata": {
    "papermill": {
     "duration": 0.08256,
     "end_time": "2021-08-25T15:25:26.624090",
     "exception": false,
     "start_time": "2021-08-25T15:25:26.541530",
     "status": "completed"
    },
    "pycharm": {
     "name": "#%% md\n"
    },
    "tags": []
   },
   "source": [
    "# Bitcoin price Prediction using LSTM"
   ]
  },
  {
   "cell_type": "markdown",
   "id": "f465f95f",
   "metadata": {
    "pycharm": {
     "name": "#%% md\n"
    }
   },
   "source": [
    "![](https://media0.giphy.com/media/f67U9Xc53i4ViUs5T2/giphy.gif?cid=ecf05e47h4dpv8s5ppc6omcbb5uzwprey8y97x3fy8qk8dk8&rid=giphy.gif&ct=g) "
   ]
  },
  {
   "cell_type": "markdown",
   "id": "d516982c",
   "metadata": {
    "papermill": {
     "duration": 0.078138,
     "end_time": "2021-08-25T15:25:26.938302",
     "exception": false,
     "start_time": "2021-08-25T15:25:26.860164",
     "status": "completed"
    },
    "pycharm": {
     "name": "#%% md\n"
    },
    "tags": []
   },
   "source": [
    "# [](http://) Table of Content \n",
    "<hr style='height:2px'>\n",
    "\n",
    "## 1. What is LSTM?\n",
    "## 2. Importing Library\n",
    "## 3. Loading Dataset\n",
    "## 4. EDA\n",
    "## 5. Biulding Model\n",
    "## 6. Prediction\n",
    "## 7. Evaluation \n",
    "## 8. Conclusion\n",
    "<hr style='height:2px'>"
   ]
  },
  {
   "cell_type": "markdown",
   "id": "46a44b8f",
   "metadata": {
    "papermill": {
     "duration": 0.081822,
     "end_time": "2021-08-25T15:25:27.098575",
     "exception": false,
     "start_time": "2021-08-25T15:25:27.016753",
     "status": "completed"
    },
    "pycharm": {
     "name": "#%% md\n"
    },
    "tags": []
   },
   "source": [
    "# 1. What is LSTM ?"
   ]
  },
  {
   "cell_type": "markdown",
   "id": "99e98248",
   "metadata": {
    "papermill": {
     "duration": 0.078422,
     "end_time": "2021-08-25T15:25:27.267177",
     "exception": false,
     "start_time": "2021-08-25T15:25:27.188755",
     "status": "completed"
    },
    "pycharm": {
     "name": "#%% md\n"
    },
    "tags": []
   },
   "source": [
    "* ###  Long short-term memory is an artificial recurrent neural network architecture used in the field of deep learning. Unlike standard feedforward neural networks, LSTM has feedback connections. It can process not only single data points, but also entire sequences of data.\n",
    "\n",
    "* ### Long Short-Term Memory (LSTM) networks are a type of recurrent neural network capable of learning order dependence in sequence prediction problems. This is a behavior required in complex problem domains like machine translation, speech recognition, and more. LSTMs are a complex area of deep learning.\n",
    "\n",
    "* ### LSTMs are often referred to as fancy RNNs. Vanilla RNNs do not have a cell state. They only have hidden states and those hidden states serve as the memory for RNNs. Meanwhile, LSTM has both cell states and a hidden states."
   ]
  },
  {
   "cell_type": "markdown",
   "id": "d09c3daa",
   "metadata": {
    "papermill": {
     "duration": 0.07851,
     "end_time": "2021-08-25T15:25:26.781722",
     "exception": false,
     "start_time": "2021-08-25T15:25:26.703212",
     "status": "completed"
    },
    "pycharm": {
     "name": "#%% md\n"
    },
    "tags": []
   },
   "source": [
    "![image](https://blog.floydhub.com/content/images/2019/06/Slide19.JPG)"
   ]
  },
  {
   "cell_type": "markdown",
   "id": "160fdb10",
   "metadata": {
    "papermill": {
     "duration": 0.094965,
     "end_time": "2021-08-25T15:25:27.595137",
     "exception": false,
     "start_time": "2021-08-25T15:25:27.500172",
     "status": "completed"
    },
    "pycharm": {
     "name": "#%% md\n"
    },
    "tags": []
   },
   "source": [
    "# 2. Importing Library"
   ]
  },
  {
   "cell_type": "code",
   "execution_count": 3,
   "id": "1c8da167",
   "metadata": {
    "execution": {
     "iopub.execute_input": "2021-08-25T15:25:27.782935Z",
     "iopub.status.busy": "2021-08-25T15:25:27.782308Z",
     "iopub.status.idle": "2021-08-25T15:25:35.581250Z",
     "shell.execute_reply": "2021-08-25T15:25:35.581774Z",
     "shell.execute_reply.started": "2021-08-25T14:39:09.654385Z"
    },
    "papermill": {
     "duration": 7.892655,
     "end_time": "2021-08-25T15:25:35.582092",
     "exception": false,
     "start_time": "2021-08-25T15:25:27.689437",
     "status": "completed"
    },
    "pycharm": {
     "name": "#%%\n"
    },
    "tags": []
   },
   "outputs": [
    {
     "name": "stdout",
     "output_type": "stream",
     "text": [
      "test\n"
     ]
    }
   ],
   "source": [
    "# First we will import the necessary Library \n",
    "\n",
    "import os\n",
    "import pandas as pd\n",
    "import numpy as np\n",
    "import math\n",
    "import datetime as dt\n",
    "\n",
    "# For Evalution we will use these library\n",
    "\n",
    "from sklearn.metrics import mean_squared_error, mean_absolute_error, explained_variance_score, r2_score \n",
    "from sklearn.metrics import mean_poisson_deviance, mean_gamma_deviance, accuracy_score\n",
    "from sklearn.preprocessing import MinMaxScaler\n",
    "\n",
    "# For model building we will use these library\n",
    "\n",
    "import tensorflow as tf\n",
    "from tensorflow.keras.models import Sequential\n",
    "from tensorflow.keras.layers import Dense, Dropout\n",
    "from tensorflow.keras.layers import LSTM\n",
    "\n",
    "\n",
    "# For PLotting we will use these library\n",
    "\n",
    "# import matplotlib.pyplot as plt\n",
    "from itertools import cycle\n",
    "import plotly.graph_objects as go\n",
    "import plotly.express as px\n",
    "from plotly.subplots import make_subplots\n",
    "\n",
    "print('test')"
   ]
  },
  {
   "cell_type": "markdown",
   "id": "424041da",
   "metadata": {
    "papermill": {
     "duration": 0.07749,
     "end_time": "2021-08-25T15:25:35.738265",
     "exception": false,
     "start_time": "2021-08-25T15:25:35.660775",
     "status": "completed"
    },
    "pycharm": {
     "name": "#%% md\n"
    },
    "tags": []
   },
   "source": [
    "# 3. Loading Dataset"
   ]
  },
  {
   "cell_type": "markdown",
   "id": "09af2958",
   "metadata": {
    "pycharm": {
     "name": "#%% md\n"
    }
   },
   "source": [
    "#  [We can use this link to download bitcoin dataset from yahoo finance](https://finance.yahoo.com/quote/BTC-USD/history?p=BTC-USD)"
   ]
  },
  {
   "cell_type": "code",
   "execution_count": 6,
   "id": "ebf61949",
   "metadata": {
    "execution": {
     "iopub.execute_input": "2021-08-25T15:25:35.899702Z",
     "iopub.status.busy": "2021-08-25T15:25:35.899097Z",
     "iopub.status.idle": "2021-08-25T15:25:35.933510Z",
     "shell.execute_reply": "2021-08-25T15:25:35.934033Z",
     "shell.execute_reply.started": "2021-08-25T14:39:17.453368Z"
    },
    "papermill": {
     "duration": 0.117711,
     "end_time": "2021-08-25T15:25:35.934307",
     "exception": false,
     "start_time": "2021-08-25T15:25:35.816596",
     "status": "completed"
    },
    "pycharm": {
     "name": "#%%\n"
    },
    "tags": []
   },
   "outputs": [],
   "source": [
    "# Load our dataset \n",
    "# Note it should be in same dir\n",
    "\n",
    "\n",
    "maindf=pd.read_csv('BTC-USD.csv')"
   ]
  },
  {
   "cell_type": "code",
   "execution_count": 10,
   "id": "77ad4b2c",
   "metadata": {
    "execution": {
     "iopub.execute_input": "2021-08-25T15:25:36.097449Z",
     "iopub.status.busy": "2021-08-25T15:25:36.096726Z",
     "iopub.status.idle": "2021-08-25T15:25:36.100297Z",
     "shell.execute_reply": "2021-08-25T15:25:36.100783Z",
     "shell.execute_reply.started": "2021-08-25T14:39:17.488721Z"
    },
    "papermill": {
     "duration": 0.087042,
     "end_time": "2021-08-25T15:25:36.100939",
     "exception": false,
     "start_time": "2021-08-25T15:25:36.013897",
     "status": "completed"
    },
    "pycharm": {
     "name": "#%%\n"
    },
    "tags": []
   },
   "outputs": [
    {
     "name": "stdout",
     "output_type": "stream",
     "text": [
      "Total number of days present in the dataset:  2713\n",
      "Total number of features present in the dataset:  7\n"
     ]
    }
   ],
   "source": [
    "print('Total number of days present in the dataset: ',maindf.shape[0])\n",
    "print('Total number of features present in the dataset: ',maindf.shape[1])"
   ]
  },
  {
   "cell_type": "code",
   "execution_count": 11,
   "id": "be25161a",
   "metadata": {
    "execution": {
     "iopub.execute_input": "2021-08-25T15:25:36.264704Z",
     "iopub.status.busy": "2021-08-25T15:25:36.264060Z",
     "iopub.status.idle": "2021-08-25T15:25:36.267398Z",
     "shell.execute_reply": "2021-08-25T15:25:36.267904Z",
     "shell.execute_reply.started": "2021-08-25T14:39:17.498307Z"
    },
    "papermill": {
     "duration": 0.089126,
     "end_time": "2021-08-25T15:25:36.268098",
     "exception": false,
     "start_time": "2021-08-25T15:25:36.178972",
     "status": "completed"
    },
    "pycharm": {
     "name": "#%%\n"
    },
    "tags": []
   },
   "outputs": [
    {
     "data": {
      "text/plain": [
       "(2713, 7)"
      ]
     },
     "execution_count": 11,
     "metadata": {},
     "output_type": "execute_result"
    }
   ],
   "source": [
    "maindf.shape"
   ]
  },
  {
   "cell_type": "code",
   "execution_count": 12,
   "id": "c5a49f2d",
   "metadata": {
    "execution": {
     "iopub.execute_input": "2021-08-25T15:25:36.427821Z",
     "iopub.status.busy": "2021-08-25T15:25:36.427247Z",
     "iopub.status.idle": "2021-08-25T15:25:36.453352Z",
     "shell.execute_reply": "2021-08-25T15:25:36.452774Z",
     "shell.execute_reply.started": "2021-08-25T14:39:17.514051Z"
    },
    "papermill": {
     "duration": 0.107432,
     "end_time": "2021-08-25T15:25:36.453525",
     "exception": false,
     "start_time": "2021-08-25T15:25:36.346093",
     "status": "completed"
    },
    "pycharm": {
     "name": "#%%\n"
    },
    "tags": []
   },
   "outputs": [
    {
     "data": {
      "text/html": [
       "<div>\n",
       "<style scoped>\n",
       "    .dataframe tbody tr th:only-of-type {\n",
       "        vertical-align: middle;\n",
       "    }\n",
       "\n",
       "    .dataframe tbody tr th {\n",
       "        vertical-align: top;\n",
       "    }\n",
       "\n",
       "    .dataframe thead th {\n",
       "        text-align: right;\n",
       "    }\n",
       "</style>\n",
       "<table border=\"1\" class=\"dataframe\">\n",
       "  <thead>\n",
       "    <tr style=\"text-align: right;\">\n",
       "      <th></th>\n",
       "      <th>Date</th>\n",
       "      <th>Open</th>\n",
       "      <th>High</th>\n",
       "      <th>Low</th>\n",
       "      <th>Close</th>\n",
       "      <th>Adj Close</th>\n",
       "      <th>Volume</th>\n",
       "    </tr>\n",
       "  </thead>\n",
       "  <tbody>\n",
       "    <tr>\n",
       "      <th>0</th>\n",
       "      <td>2014-09-17</td>\n",
       "      <td>465.864014</td>\n",
       "      <td>468.174011</td>\n",
       "      <td>452.421997</td>\n",
       "      <td>457.334015</td>\n",
       "      <td>457.334015</td>\n",
       "      <td>21056800</td>\n",
       "    </tr>\n",
       "    <tr>\n",
       "      <th>1</th>\n",
       "      <td>2014-09-18</td>\n",
       "      <td>456.859985</td>\n",
       "      <td>456.859985</td>\n",
       "      <td>413.104004</td>\n",
       "      <td>424.440002</td>\n",
       "      <td>424.440002</td>\n",
       "      <td>34483200</td>\n",
       "    </tr>\n",
       "    <tr>\n",
       "      <th>2</th>\n",
       "      <td>2014-09-19</td>\n",
       "      <td>424.102997</td>\n",
       "      <td>427.834991</td>\n",
       "      <td>384.532013</td>\n",
       "      <td>394.795990</td>\n",
       "      <td>394.795990</td>\n",
       "      <td>37919700</td>\n",
       "    </tr>\n",
       "    <tr>\n",
       "      <th>3</th>\n",
       "      <td>2014-09-20</td>\n",
       "      <td>394.673004</td>\n",
       "      <td>423.295990</td>\n",
       "      <td>389.882996</td>\n",
       "      <td>408.903992</td>\n",
       "      <td>408.903992</td>\n",
       "      <td>36863600</td>\n",
       "    </tr>\n",
       "    <tr>\n",
       "      <th>4</th>\n",
       "      <td>2014-09-21</td>\n",
       "      <td>408.084991</td>\n",
       "      <td>412.425995</td>\n",
       "      <td>393.181000</td>\n",
       "      <td>398.821014</td>\n",
       "      <td>398.821014</td>\n",
       "      <td>26580100</td>\n",
       "    </tr>\n",
       "  </tbody>\n",
       "</table>\n",
       "</div>"
      ],
      "text/plain": [
       "         Date        Open        High         Low       Close   Adj Close  \\\n",
       "0  2014-09-17  465.864014  468.174011  452.421997  457.334015  457.334015   \n",
       "1  2014-09-18  456.859985  456.859985  413.104004  424.440002  424.440002   \n",
       "2  2014-09-19  424.102997  427.834991  384.532013  394.795990  394.795990   \n",
       "3  2014-09-20  394.673004  423.295990  389.882996  408.903992  408.903992   \n",
       "4  2014-09-21  408.084991  412.425995  393.181000  398.821014  398.821014   \n",
       "\n",
       "     Volume  \n",
       "0  21056800  \n",
       "1  34483200  \n",
       "2  37919700  \n",
       "3  36863600  \n",
       "4  26580100  "
      ]
     },
     "execution_count": 12,
     "metadata": {},
     "output_type": "execute_result"
    }
   ],
   "source": [
    "maindf.head()"
   ]
  },
  {
   "cell_type": "code",
   "execution_count": 13,
   "id": "13d05378",
   "metadata": {
    "execution": {
     "iopub.execute_input": "2021-08-25T15:25:36.615948Z",
     "iopub.status.busy": "2021-08-25T15:25:36.615328Z",
     "iopub.status.idle": "2021-08-25T15:25:36.630093Z",
     "shell.execute_reply": "2021-08-25T15:25:36.629510Z",
     "shell.execute_reply.started": "2021-08-25T14:39:17.547397Z"
    },
    "papermill": {
     "duration": 0.095912,
     "end_time": "2021-08-25T15:25:36.630246",
     "exception": false,
     "start_time": "2021-08-25T15:25:36.534334",
     "status": "completed"
    },
    "pycharm": {
     "name": "#%%\n"
    },
    "tags": []
   },
   "outputs": [
    {
     "data": {
      "text/html": [
       "<div>\n",
       "<style scoped>\n",
       "    .dataframe tbody tr th:only-of-type {\n",
       "        vertical-align: middle;\n",
       "    }\n",
       "\n",
       "    .dataframe tbody tr th {\n",
       "        vertical-align: top;\n",
       "    }\n",
       "\n",
       "    .dataframe thead th {\n",
       "        text-align: right;\n",
       "    }\n",
       "</style>\n",
       "<table border=\"1\" class=\"dataframe\">\n",
       "  <thead>\n",
       "    <tr style=\"text-align: right;\">\n",
       "      <th></th>\n",
       "      <th>Date</th>\n",
       "      <th>Open</th>\n",
       "      <th>High</th>\n",
       "      <th>Low</th>\n",
       "      <th>Close</th>\n",
       "      <th>Adj Close</th>\n",
       "      <th>Volume</th>\n",
       "    </tr>\n",
       "  </thead>\n",
       "  <tbody>\n",
       "    <tr>\n",
       "      <th>2708</th>\n",
       "      <td>2022-02-15</td>\n",
       "      <td>42586.464844</td>\n",
       "      <td>44667.218750</td>\n",
       "      <td>42491.035156</td>\n",
       "      <td>44575.203125</td>\n",
       "      <td>44575.203125</td>\n",
       "      <td>22721659051</td>\n",
       "    </tr>\n",
       "    <tr>\n",
       "      <th>2709</th>\n",
       "      <td>2022-02-16</td>\n",
       "      <td>44578.277344</td>\n",
       "      <td>44578.277344</td>\n",
       "      <td>43456.691406</td>\n",
       "      <td>43961.859375</td>\n",
       "      <td>43961.859375</td>\n",
       "      <td>19792547657</td>\n",
       "    </tr>\n",
       "    <tr>\n",
       "      <th>2710</th>\n",
       "      <td>2022-02-17</td>\n",
       "      <td>43937.070313</td>\n",
       "      <td>44132.972656</td>\n",
       "      <td>40249.371094</td>\n",
       "      <td>40538.011719</td>\n",
       "      <td>40538.011719</td>\n",
       "      <td>26246662813</td>\n",
       "    </tr>\n",
       "    <tr>\n",
       "      <th>2711</th>\n",
       "      <td>2022-02-18</td>\n",
       "      <td>40552.132813</td>\n",
       "      <td>40929.152344</td>\n",
       "      <td>39637.617188</td>\n",
       "      <td>40030.976563</td>\n",
       "      <td>40030.976563</td>\n",
       "      <td>23310007704</td>\n",
       "    </tr>\n",
       "    <tr>\n",
       "      <th>2712</th>\n",
       "      <td>2022-02-19</td>\n",
       "      <td>40022.132813</td>\n",
       "      <td>40246.027344</td>\n",
       "      <td>40010.867188</td>\n",
       "      <td>40126.429688</td>\n",
       "      <td>40126.429688</td>\n",
       "      <td>22263900160</td>\n",
       "    </tr>\n",
       "  </tbody>\n",
       "</table>\n",
       "</div>"
      ],
      "text/plain": [
       "            Date          Open          High           Low         Close  \\\n",
       "2708  2022-02-15  42586.464844  44667.218750  42491.035156  44575.203125   \n",
       "2709  2022-02-16  44578.277344  44578.277344  43456.691406  43961.859375   \n",
       "2710  2022-02-17  43937.070313  44132.972656  40249.371094  40538.011719   \n",
       "2711  2022-02-18  40552.132813  40929.152344  39637.617188  40030.976563   \n",
       "2712  2022-02-19  40022.132813  40246.027344  40010.867188  40126.429688   \n",
       "\n",
       "         Adj Close       Volume  \n",
       "2708  44575.203125  22721659051  \n",
       "2709  43961.859375  19792547657  \n",
       "2710  40538.011719  26246662813  \n",
       "2711  40030.976563  23310007704  \n",
       "2712  40126.429688  22263900160  "
      ]
     },
     "execution_count": 13,
     "metadata": {},
     "output_type": "execute_result"
    }
   ],
   "source": [
    "maindf.tail()"
   ]
  },
  {
   "cell_type": "code",
   "execution_count": 14,
   "id": "f1dc78b0",
   "metadata": {
    "execution": {
     "iopub.execute_input": "2021-08-25T15:25:36.799265Z",
     "iopub.status.busy": "2021-08-25T15:25:36.798661Z",
     "iopub.status.idle": "2021-08-25T15:25:36.818413Z",
     "shell.execute_reply": "2021-08-25T15:25:36.817761Z",
     "shell.execute_reply.started": "2021-08-25T14:39:17.565471Z"
    },
    "papermill": {
     "duration": 0.107308,
     "end_time": "2021-08-25T15:25:36.818557",
     "exception": false,
     "start_time": "2021-08-25T15:25:36.711249",
     "status": "completed"
    },
    "pycharm": {
     "name": "#%%\n"
    },
    "tags": []
   },
   "outputs": [
    {
     "name": "stdout",
     "output_type": "stream",
     "text": [
      "<class 'pandas.core.frame.DataFrame'>\n",
      "RangeIndex: 2713 entries, 0 to 2712\n",
      "Data columns (total 7 columns):\n",
      " #   Column     Non-Null Count  Dtype  \n",
      "---  ------     --------------  -----  \n",
      " 0   Date       2713 non-null   object \n",
      " 1   Open       2713 non-null   float64\n",
      " 2   High       2713 non-null   float64\n",
      " 3   Low        2713 non-null   float64\n",
      " 4   Close      2713 non-null   float64\n",
      " 5   Adj Close  2713 non-null   float64\n",
      " 6   Volume     2713 non-null   int64  \n",
      "dtypes: float64(5), int64(1), object(1)\n",
      "memory usage: 148.5+ KB\n"
     ]
    }
   ],
   "source": [
    "maindf.info()"
   ]
  },
  {
   "cell_type": "code",
   "execution_count": 15,
   "id": "95b0d4b4",
   "metadata": {
    "execution": {
     "iopub.execute_input": "2021-08-25T15:25:37.156932Z",
     "iopub.status.busy": "2021-08-25T15:25:37.156293Z",
     "iopub.status.idle": "2021-08-25T15:25:37.184734Z",
     "shell.execute_reply": "2021-08-25T15:25:37.184116Z",
     "shell.execute_reply.started": "2021-08-25T14:39:17.593034Z"
    },
    "papermill": {
     "duration": 0.120346,
     "end_time": "2021-08-25T15:25:37.184873",
     "exception": false,
     "start_time": "2021-08-25T15:25:37.064527",
     "status": "completed"
    },
    "pycharm": {
     "name": "#%%\n"
    },
    "tags": []
   },
   "outputs": [
    {
     "data": {
      "text/html": [
       "<div>\n",
       "<style scoped>\n",
       "    .dataframe tbody tr th:only-of-type {\n",
       "        vertical-align: middle;\n",
       "    }\n",
       "\n",
       "    .dataframe tbody tr th {\n",
       "        vertical-align: top;\n",
       "    }\n",
       "\n",
       "    .dataframe thead th {\n",
       "        text-align: right;\n",
       "    }\n",
       "</style>\n",
       "<table border=\"1\" class=\"dataframe\">\n",
       "  <thead>\n",
       "    <tr style=\"text-align: right;\">\n",
       "      <th></th>\n",
       "      <th>Open</th>\n",
       "      <th>High</th>\n",
       "      <th>Low</th>\n",
       "      <th>Close</th>\n",
       "      <th>Adj Close</th>\n",
       "      <th>Volume</th>\n",
       "    </tr>\n",
       "  </thead>\n",
       "  <tbody>\n",
       "    <tr>\n",
       "      <th>count</th>\n",
       "      <td>2713.000000</td>\n",
       "      <td>2713.000000</td>\n",
       "      <td>2713.000000</td>\n",
       "      <td>2713.000000</td>\n",
       "      <td>2713.000000</td>\n",
       "      <td>2.713000e+03</td>\n",
       "    </tr>\n",
       "    <tr>\n",
       "      <th>mean</th>\n",
       "      <td>11311.041069</td>\n",
       "      <td>11614.292482</td>\n",
       "      <td>10975.555057</td>\n",
       "      <td>11323.914637</td>\n",
       "      <td>11323.914637</td>\n",
       "      <td>1.470462e+10</td>\n",
       "    </tr>\n",
       "    <tr>\n",
       "      <th>std</th>\n",
       "      <td>16106.428891</td>\n",
       "      <td>16537.390649</td>\n",
       "      <td>15608.572560</td>\n",
       "      <td>16110.365010</td>\n",
       "      <td>16110.365010</td>\n",
       "      <td>2.001627e+10</td>\n",
       "    </tr>\n",
       "    <tr>\n",
       "      <th>min</th>\n",
       "      <td>176.897003</td>\n",
       "      <td>211.731003</td>\n",
       "      <td>171.509995</td>\n",
       "      <td>178.102997</td>\n",
       "      <td>178.102997</td>\n",
       "      <td>5.914570e+06</td>\n",
       "    </tr>\n",
       "    <tr>\n",
       "      <th>25%</th>\n",
       "      <td>606.396973</td>\n",
       "      <td>609.260986</td>\n",
       "      <td>604.109985</td>\n",
       "      <td>606.718994</td>\n",
       "      <td>606.718994</td>\n",
       "      <td>7.991080e+07</td>\n",
       "    </tr>\n",
       "    <tr>\n",
       "      <th>50%</th>\n",
       "      <td>6301.569824</td>\n",
       "      <td>6434.617676</td>\n",
       "      <td>6214.220215</td>\n",
       "      <td>6317.609863</td>\n",
       "      <td>6317.609863</td>\n",
       "      <td>5.098183e+09</td>\n",
       "    </tr>\n",
       "    <tr>\n",
       "      <th>75%</th>\n",
       "      <td>10452.399414</td>\n",
       "      <td>10762.644531</td>\n",
       "      <td>10202.387695</td>\n",
       "      <td>10462.259766</td>\n",
       "      <td>10462.259766</td>\n",
       "      <td>2.456992e+10</td>\n",
       "    </tr>\n",
       "    <tr>\n",
       "      <th>max</th>\n",
       "      <td>67549.734375</td>\n",
       "      <td>68789.625000</td>\n",
       "      <td>66382.062500</td>\n",
       "      <td>67566.828125</td>\n",
       "      <td>67566.828125</td>\n",
       "      <td>3.509679e+11</td>\n",
       "    </tr>\n",
       "  </tbody>\n",
       "</table>\n",
       "</div>"
      ],
      "text/plain": [
       "               Open          High           Low         Close     Adj Close  \\\n",
       "count   2713.000000   2713.000000   2713.000000   2713.000000   2713.000000   \n",
       "mean   11311.041069  11614.292482  10975.555057  11323.914637  11323.914637   \n",
       "std    16106.428891  16537.390649  15608.572560  16110.365010  16110.365010   \n",
       "min      176.897003    211.731003    171.509995    178.102997    178.102997   \n",
       "25%      606.396973    609.260986    604.109985    606.718994    606.718994   \n",
       "50%     6301.569824   6434.617676   6214.220215   6317.609863   6317.609863   \n",
       "75%    10452.399414  10762.644531  10202.387695  10462.259766  10462.259766   \n",
       "max    67549.734375  68789.625000  66382.062500  67566.828125  67566.828125   \n",
       "\n",
       "             Volume  \n",
       "count  2.713000e+03  \n",
       "mean   1.470462e+10  \n",
       "std    2.001627e+10  \n",
       "min    5.914570e+06  \n",
       "25%    7.991080e+07  \n",
       "50%    5.098183e+09  \n",
       "75%    2.456992e+10  \n",
       "max    3.509679e+11  "
      ]
     },
     "execution_count": 15,
     "metadata": {},
     "output_type": "execute_result"
    }
   ],
   "source": [
    "maindf.describe()"
   ]
  },
  {
   "cell_type": "markdown",
   "id": "f1c61fb3",
   "metadata": {
    "papermill": {
     "duration": 0.08049,
     "end_time": "2021-08-25T15:25:37.347045",
     "exception": false,
     "start_time": "2021-08-25T15:25:37.266555",
     "status": "completed"
    },
    "pycharm": {
     "name": "#%% md\n"
    },
    "tags": []
   },
   "source": [
    "# Checking for Null Values"
   ]
  },
  {
   "cell_type": "code",
   "execution_count": null,
   "id": "ac8e4d6c",
   "metadata": {
    "execution": {
     "iopub.execute_input": "2021-08-25T15:25:37.514087Z",
     "iopub.status.busy": "2021-08-25T15:25:37.513444Z",
     "iopub.status.idle": "2021-08-25T15:25:37.518126Z",
     "shell.execute_reply": "2021-08-25T15:25:37.518601Z",
     "shell.execute_reply.started": "2021-08-25T14:39:17.633054Z"
    },
    "papermill": {
     "duration": 0.091282,
     "end_time": "2021-08-25T15:25:37.518762",
     "exception": false,
     "start_time": "2021-08-25T15:25:37.427480",
     "status": "completed"
    },
    "pycharm": {
     "name": "#%%\n"
    },
    "tags": []
   },
   "outputs": [],
   "source": [
    "print('Null Values:',maindf.isnull().values.sum())"
   ]
  },
  {
   "cell_type": "code",
   "execution_count": null,
   "id": "4373a085",
   "metadata": {
    "execution": {
     "iopub.execute_input": "2021-08-25T15:25:37.688062Z",
     "iopub.status.busy": "2021-08-25T15:25:37.687444Z",
     "iopub.status.idle": "2021-08-25T15:25:37.690547Z",
     "shell.execute_reply": "2021-08-25T15:25:37.690976Z",
     "shell.execute_reply.started": "2021-08-25T14:39:17.641897Z"
    },
    "papermill": {
     "duration": 0.090564,
     "end_time": "2021-08-25T15:25:37.691155",
     "exception": false,
     "start_time": "2021-08-25T15:25:37.600591",
     "status": "completed"
    },
    "pycharm": {
     "name": "#%%\n"
    },
    "tags": []
   },
   "outputs": [],
   "source": [
    "print('NA values:',maindf.isnull().values.any())"
   ]
  },
  {
   "cell_type": "code",
   "execution_count": null,
   "id": "dc958808",
   "metadata": {
    "execution": {
     "iopub.execute_input": "2021-08-25T15:25:37.862302Z",
     "iopub.status.busy": "2021-08-25T15:25:37.861494Z",
     "iopub.status.idle": "2021-08-25T15:25:37.881324Z",
     "shell.execute_reply": "2021-08-25T15:25:37.880596Z",
     "shell.execute_reply.started": "2021-08-25T14:39:17.653870Z"
    },
    "papermill": {
     "duration": 0.10845,
     "end_time": "2021-08-25T15:25:37.881480",
     "exception": false,
     "start_time": "2021-08-25T15:25:37.773030",
     "status": "completed"
    },
    "pycharm": {
     "name": "#%%\n"
    },
    "tags": []
   },
   "outputs": [],
   "source": [
    "# If dataset had null values we can use this code to drop all the null values present in the dataset\n",
    "\n",
    "# maindf=maindf.dropna()\n",
    "# print('Null Values:',maindf.isnull().values.sum())\n",
    "# print('NA values:',maindf.isnull().values.any())"
   ]
  },
  {
   "cell_type": "code",
   "execution_count": null,
   "id": "f6deda18",
   "metadata": {
    "execution": {
     "iopub.execute_input": "2021-08-25T15:25:38.401181Z",
     "iopub.status.busy": "2021-08-25T15:25:38.400277Z",
     "iopub.status.idle": "2021-08-25T15:25:38.404268Z",
     "shell.execute_reply": "2021-08-25T15:25:38.403637Z",
     "shell.execute_reply.started": "2021-08-25T14:39:17.699295Z"
    },
    "papermill": {
     "duration": 0.090439,
     "end_time": "2021-08-25T15:25:38.404401",
     "exception": false,
     "start_time": "2021-08-25T15:25:38.313962",
     "status": "completed"
    },
    "pycharm": {
     "name": "#%%\n"
    },
    "tags": []
   },
   "outputs": [],
   "source": [
    "# Final shape of the dataset after dealing with null values \n",
    "\n",
    "maindf.shape"
   ]
  },
  {
   "cell_type": "markdown",
   "id": "366b830f",
   "metadata": {
    "papermill": {
     "duration": 0.082893,
     "end_time": "2021-08-25T15:25:38.569865",
     "exception": false,
     "start_time": "2021-08-25T15:25:38.486972",
     "status": "completed"
    },
    "pycharm": {
     "name": "#%% md\n"
    },
    "tags": []
   },
   "source": [
    "# 4. EDA(Exploratory Data Analysis)"
   ]
  },
  {
   "cell_type": "code",
   "execution_count": null,
   "id": "fe302090",
   "metadata": {
    "execution": {
     "iopub.execute_input": "2021-08-25T15:25:38.790271Z",
     "iopub.status.busy": "2021-08-25T15:25:38.789297Z",
     "iopub.status.idle": "2021-08-25T15:25:38.794586Z",
     "shell.execute_reply": "2021-08-25T15:25:38.793832Z",
     "shell.execute_reply.started": "2021-08-25T14:39:17.710441Z"
    },
    "papermill": {
     "duration": 0.093686,
     "end_time": "2021-08-25T15:25:38.794779",
     "exception": false,
     "start_time": "2021-08-25T15:25:38.701093",
     "status": "completed"
    },
    "pycharm": {
     "name": "#%%\n"
    },
    "tags": []
   },
   "outputs": [],
   "source": [
    "# Printing the start date and End date of the dataset\n",
    "\n",
    "sd=maindf.iloc[0][0]\n",
    "ed=maindf.iloc[-1][0]\n",
    "\n",
    "\n",
    "print('Starting Date',sd)\n",
    "print('Ending Date',ed)\n"
   ]
  },
  {
   "cell_type": "markdown",
   "id": "c7c63086",
   "metadata": {
    "papermill": {
     "duration": 0.082756,
     "end_time": "2021-08-25T15:25:38.961760",
     "exception": false,
     "start_time": "2021-08-25T15:25:38.879004",
     "status": "completed"
    },
    "pycharm": {
     "name": "#%% md\n"
    },
    "tags": []
   },
   "source": [
    "#### StockPrice Analysis from Start"
   ]
  },
  {
   "cell_type": "markdown",
   "id": "e75ae8f4",
   "metadata": {
    "pycharm": {
     "name": "#%% md\n"
    }
   },
   "source": [
    "# Analysis of year 2014"
   ]
  },
  {
   "cell_type": "code",
   "execution_count": null,
   "id": "c9ac50dd",
   "metadata": {
    "pycharm": {
     "name": "#%%\n"
    }
   },
   "outputs": [],
   "source": [
    "maindf['Date'] = pd.to_datetime(maindf['Date'], format='%Y-%m-%d')\n",
    "\n",
    "y_2014 = maindf.loc[(maindf['Date'] >= '2014-09-17')\n",
    "                     & (maindf['Date'] < '2014-12-31')]\n",
    "\n",
    "y_2014.drop(y_2014[['Adj Close','Volume']],axis=1)"
   ]
  },
  {
   "cell_type": "code",
   "execution_count": null,
   "id": "5ffe9c1c",
   "metadata": {
    "pycharm": {
     "name": "#%%\n"
    }
   },
   "outputs": [],
   "source": [
    "monthvise= y_2014.groupby(y_2014['Date'].dt.strftime('%B'))[['Open','Close']].mean()\n",
    "new_order = ['January', 'February', 'March', 'April', 'May', 'June', 'July', 'August', \n",
    "             'September', 'October', 'November', 'December']\n",
    "monthvise = monthvise.reindex(new_order, axis=0)\n",
    "monthvise"
   ]
  },
  {
   "cell_type": "markdown",
   "id": "c5948583",
   "metadata": {
    "pycharm": {
     "name": "#%% md\n"
    }
   },
   "source": [
    " Note that we only have few months in 2014 so the rest of the months are **NaN**"
   ]
  },
  {
   "cell_type": "code",
   "execution_count": null,
   "id": "3013dc37",
   "metadata": {
    "pycharm": {
     "name": "#%%\n"
    }
   },
   "outputs": [],
   "source": [
    "fig = go.Figure()\n",
    "\n",
    "fig.add_trace(go.Bar(\n",
    "    x=monthvise.index,\n",
    "    y=monthvise['Open'],\n",
    "    name='Bitcoin Open Price',\n",
    "    marker_color='crimson'\n",
    "))\n",
    "fig.add_trace(go.Bar(\n",
    "    x=monthvise.index,\n",
    "    y=monthvise['Close'],\n",
    "    name='Bitcoin Close Price',\n",
    "    marker_color='lightsalmon'\n",
    "))\n",
    "\n",
    "fig.update_layout(barmode='group', xaxis_tickangle=-45, \n",
    "                  title='Monthwise comparision between Bitcoin open and close price')\n",
    "fig.show()"
   ]
  },
  {
   "cell_type": "markdown",
   "id": "bee3b8ff",
   "metadata": {
    "pycharm": {
     "name": "#%% md\n"
    }
   },
   "source": [
    "Note that we only have few months in 2014 so the rest of the months are not plotted since we do not have the data"
   ]
  },
  {
   "cell_type": "code",
   "execution_count": null,
   "id": "d0f291aa",
   "metadata": {
    "pycharm": {
     "name": "#%%\n"
    }
   },
   "outputs": [],
   "source": [
    "y_2014.groupby(y_2014['Date'].dt.strftime('%B'))['Low'].min()\n",
    "monthvise_high = y_2014.groupby(maindf['Date'].dt.strftime('%B'))['High'].max()\n",
    "monthvise_high = monthvise_high.reindex(new_order, axis=0)\n",
    "\n",
    "monthvise_low = y_2014.groupby(y_2014['Date'].dt.strftime('%B'))['Low'].min()\n",
    "monthvise_low = monthvise_low.reindex(new_order, axis=0)\n",
    "\n",
    "fig = go.Figure()\n",
    "fig.add_trace(go.Bar(\n",
    "    x=monthvise_high.index,\n",
    "    y=monthvise_high,\n",
    "    name='Bitcoin high Price',\n",
    "    marker_color='rgb(0, 153, 204)'\n",
    "))\n",
    "fig.add_trace(go.Bar(\n",
    "    x=monthvise_low.index,\n",
    "    y=monthvise_low,\n",
    "    name='Bitcoin low Price',\n",
    "    marker_color='rgb(255, 128, 0)'\n",
    "))\n",
    "\n",
    "fig.update_layout(barmode='group', \n",
    "                  title=' Monthwise High and Low Bitcoin price')\n",
    "fig.show()"
   ]
  },
  {
   "cell_type": "markdown",
   "id": "8cf9930e",
   "metadata": {
    "pycharm": {
     "name": "#%% md\n"
    }
   },
   "source": [
    "Note that we only have few months in 2014 so the rest of the months are not plotted since we do not have the data"
   ]
  },
  {
   "cell_type": "code",
   "execution_count": null,
   "id": "07ccadf8",
   "metadata": {
    "pycharm": {
     "name": "#%%\n"
    }
   },
   "outputs": [],
   "source": [
    "names = cycle(['Bitcoin Open Price','Bitcoin Close Price','Bitcoin High Price','Bitcoin Low Price'])\n",
    "\n",
    "fig = px.line(y_2014, x=y_2014.Date, y=[y_2014['Open'], y_2014['Close'], \n",
    "                                          y_2014['High'], y_2014['Low']],\n",
    "             labels={'Date': 'Date','value':'Bitcoin value'})\n",
    "fig.update_layout(title_text='Bitcoin analysis chart', font_size=15, font_color='black',legend_title_text='Bitcoin Parameters')\n",
    "fig.for_each_trace(lambda t:  t.update(name = next(names)))\n",
    "fig.update_xaxes(showgrid=False)\n",
    "fig.update_yaxes(showgrid=False)\n",
    "\n",
    "fig.show()"
   ]
  },
  {
   "cell_type": "raw",
   "id": "6f6715da",
   "metadata": {
    "pycharm": {
     "name": "#%% raw\n"
    }
   },
   "source": [
    "Note that we only have few months in 2014 so the rest of the months are not plotted since we do not have the data"
   ]
  },
  {
   "cell_type": "markdown",
   "id": "0254a3f4",
   "metadata": {
    "papermill": {
     "duration": 0.083988,
     "end_time": "2021-08-25T15:25:39.129732",
     "exception": false,
     "start_time": "2021-08-25T15:25:39.045744",
     "status": "completed"
    },
    "pycharm": {
     "name": "#%% md\n"
    },
    "tags": []
   },
   "source": [
    "# Analysis of Year 2015"
   ]
  },
  {
   "cell_type": "code",
   "execution_count": null,
   "id": "97da56c0",
   "metadata": {
    "execution": {
     "iopub.execute_input": "2021-08-25T15:25:39.319463Z",
     "iopub.status.busy": "2021-08-25T15:25:39.318554Z",
     "iopub.status.idle": "2021-08-25T15:25:39.322350Z",
     "shell.execute_reply": "2021-08-25T15:25:39.322798Z",
     "shell.execute_reply.started": "2021-08-25T14:39:17.723863Z"
    },
    "papermill": {
     "duration": 0.110638,
     "end_time": "2021-08-25T15:25:39.322957",
     "exception": false,
     "start_time": "2021-08-25T15:25:39.212319",
     "status": "completed"
    },
    "pycharm": {
     "name": "#%%\n"
    },
    "tags": []
   },
   "outputs": [],
   "source": [
    "maindf['Date'] = pd.to_datetime(maindf['Date'], format='%Y-%m-%d')\n",
    "\n",
    "y_2015 = maindf.loc[(maindf['Date'] >= '2015-01-01')\n",
    "                     & (maindf['Date'] < '2016-01-01')]\n",
    "\n",
    "y_2015.drop(y_2015[['Adj Close','Volume']],axis=1)"
   ]
  },
  {
   "cell_type": "code",
   "execution_count": null,
   "id": "515f55d3",
   "metadata": {
    "execution": {
     "iopub.execute_input": "2021-08-25T15:25:39.509861Z",
     "iopub.status.busy": "2021-08-25T15:25:39.508854Z",
     "iopub.status.idle": "2021-08-25T15:25:39.513161Z",
     "shell.execute_reply": "2021-08-25T15:25:39.512555Z",
     "shell.execute_reply.started": "2021-08-25T14:39:17.764814Z"
    },
    "papermill": {
     "duration": 0.107827,
     "end_time": "2021-08-25T15:25:39.513296",
     "exception": false,
     "start_time": "2021-08-25T15:25:39.405469",
     "status": "completed"
    },
    "pycharm": {
     "name": "#%%\n"
    },
    "tags": []
   },
   "outputs": [],
   "source": [
    "monthvise= y_2015.groupby(y_2015['Date'].dt.strftime('%B'))[['Open','Close']].mean()\n",
    "new_order = ['January', 'February', 'March', 'April', 'May', 'June', 'July', 'August', \n",
    "             'September', 'October', 'November', 'December']\n",
    "monthvise = monthvise.reindex(new_order, axis=0)\n",
    "monthvise"
   ]
  },
  {
   "cell_type": "code",
   "execution_count": null,
   "id": "405de347",
   "metadata": {
    "execution": {
     "iopub.execute_input": "2021-08-25T15:25:39.688414Z",
     "iopub.status.busy": "2021-08-25T15:25:39.687723Z",
     "iopub.status.idle": "2021-08-25T15:25:39.804128Z",
     "shell.execute_reply": "2021-08-25T15:25:39.803578Z",
     "shell.execute_reply.started": "2021-08-25T14:39:17.792936Z"
    },
    "papermill": {
     "duration": 0.206833,
     "end_time": "2021-08-25T15:25:39.804276",
     "exception": false,
     "start_time": "2021-08-25T15:25:39.597443",
     "status": "completed"
    },
    "pycharm": {
     "name": "#%%\n"
    },
    "tags": []
   },
   "outputs": [],
   "source": [
    "fig = go.Figure()\n",
    "\n",
    "fig.add_trace(go.Bar(\n",
    "    x=monthvise.index,\n",
    "    y=monthvise['Open'],\n",
    "    name='Stock Open Price',\n",
    "    marker_color='crimson'\n",
    "))\n",
    "fig.add_trace(go.Bar(\n",
    "    x=monthvise.index,\n",
    "    y=monthvise['Close'],\n",
    "    name='Stock Close Price',\n",
    "    marker_color='lightsalmon'\n",
    "))\n",
    "\n",
    "fig.update_layout(barmode='group', xaxis_tickangle=-45, \n",
    "                  title='Monthwise comparision between Stock open and close price')\n",
    "fig.show()"
   ]
  },
  {
   "cell_type": "code",
   "execution_count": null,
   "id": "eff91c50",
   "metadata": {
    "execution": {
     "iopub.execute_input": "2021-08-25T15:25:40.032019Z",
     "iopub.status.busy": "2021-08-25T15:25:40.031341Z",
     "iopub.status.idle": "2021-08-25T15:25:40.036325Z",
     "shell.execute_reply": "2021-08-25T15:25:40.035795Z",
     "shell.execute_reply.started": "2021-08-25T14:39:17.921989Z"
    },
    "papermill": {
     "duration": 0.146003,
     "end_time": "2021-08-25T15:25:40.036460",
     "exception": false,
     "start_time": "2021-08-25T15:25:39.890457",
     "status": "completed"
    },
    "pycharm": {
     "name": "#%%\n"
    },
    "tags": []
   },
   "outputs": [],
   "source": [
    "y_2015.groupby(y_2015['Date'].dt.strftime('%B'))['Low'].min()\n",
    "monthvise_high = y_2015.groupby(maindf['Date'].dt.strftime('%B'))['High'].max()\n",
    "monthvise_high = monthvise_high.reindex(new_order, axis=0)\n",
    "\n",
    "monthvise_low = y_2015.groupby(y_2015['Date'].dt.strftime('%B'))['Low'].min()\n",
    "monthvise_low = monthvise_low.reindex(new_order, axis=0)\n",
    "\n",
    "fig = go.Figure()\n",
    "fig.add_trace(go.Bar(\n",
    "    x=monthvise_high.index,\n",
    "    y=monthvise_high,\n",
    "    name='Stock high Price',\n",
    "    marker_color='rgb(0, 153, 204)'\n",
    "))\n",
    "fig.add_trace(go.Bar(\n",
    "    x=monthvise_low.index,\n",
    "    y=monthvise_low,\n",
    "    name='Stock low Price',\n",
    "    marker_color='rgb(255, 128, 0)'\n",
    "))\n",
    "\n",
    "fig.update_layout(barmode='group', \n",
    "                  title=' Monthwise High and Low stock price')\n",
    "fig.show()"
   ]
  },
  {
   "cell_type": "code",
   "execution_count": null,
   "id": "b1f01230",
   "metadata": {
    "execution": {
     "iopub.execute_input": "2021-08-25T15:25:40.241006Z",
     "iopub.status.busy": "2021-08-25T15:25:40.240290Z",
     "iopub.status.idle": "2021-08-25T15:25:41.529303Z",
     "shell.execute_reply": "2021-08-25T15:25:41.527892Z",
     "shell.execute_reply.started": "2021-08-25T14:39:17.980573Z"
    },
    "papermill": {
     "duration": 1.391491,
     "end_time": "2021-08-25T15:25:41.529454",
     "exception": false,
     "start_time": "2021-08-25T15:25:40.137963",
     "status": "completed"
    },
    "pycharm": {
     "name": "#%%\n"
    },
    "tags": []
   },
   "outputs": [],
   "source": [
    "names = cycle(['Stock Open Price','Stock Close Price','Stock High Price','Stock Low Price'])\n",
    "\n",
    "fig = px.line(y_2015, x=y_2015.Date, y=[y_2015['Open'], y_2015['Close'], \n",
    "                                          y_2015['High'], y_2015['Low']],\n",
    "             labels={'Date': 'Date','value':'Stock value'})\n",
    "fig.update_layout(title_text='Stock analysis chart', font_size=15, font_color='black',legend_title_text='Stock Parameters')\n",
    "fig.for_each_trace(lambda t:  t.update(name = next(names)))\n",
    "fig.update_xaxes(showgrid=False)\n",
    "fig.update_yaxes(showgrid=False)\n",
    "\n",
    "fig.show()"
   ]
  },
  {
   "cell_type": "markdown",
   "id": "8e50afb1",
   "metadata": {
    "papermill": {
     "duration": 0.088092,
     "end_time": "2021-08-25T15:25:41.707976",
     "exception": false,
     "start_time": "2021-08-25T15:25:41.619884",
     "status": "completed"
    },
    "pycharm": {
     "name": "#%% md\n"
    },
    "tags": []
   },
   "source": [
    "# Analysis of Year 2016"
   ]
  },
  {
   "cell_type": "code",
   "execution_count": null,
   "id": "2964e395",
   "metadata": {
    "execution": {
     "iopub.execute_input": "2021-08-25T15:25:41.893517Z",
     "iopub.status.busy": "2021-08-25T15:25:41.892884Z",
     "iopub.status.idle": "2021-08-25T15:25:41.909067Z",
     "shell.execute_reply": "2021-08-25T15:25:41.909563Z",
     "shell.execute_reply.started": "2021-08-25T14:39:19.097681Z"
    },
    "papermill": {
     "duration": 0.114569,
     "end_time": "2021-08-25T15:25:41.909722",
     "exception": false,
     "start_time": "2021-08-25T15:25:41.795153",
     "status": "completed"
    },
    "pycharm": {
     "name": "#%%\n"
    },
    "tags": []
   },
   "outputs": [],
   "source": [
    "maindf['Date'] = pd.to_datetime(maindf['Date'], format='%Y-%m-%d')\n",
    "\n",
    "y_2016 = maindf.loc[(maindf['Date'] >= '2016-01-01')\n",
    "                     & (maindf['Date'] < '2017-01-01')]\n",
    "\n",
    "y_2016.drop(y_2016[['Adj Close','Volume']],axis=1)"
   ]
  },
  {
   "cell_type": "code",
   "execution_count": null,
   "id": "d80a7e10",
   "metadata": {
    "execution": {
     "iopub.execute_input": "2021-08-25T15:25:42.091855Z",
     "iopub.status.busy": "2021-08-25T15:25:42.091186Z",
     "iopub.status.idle": "2021-08-25T15:25:42.111392Z",
     "shell.execute_reply": "2021-08-25T15:25:42.110708Z",
     "shell.execute_reply.started": "2021-08-25T14:39:19.124803Z"
    },
    "papermill": {
     "duration": 0.113246,
     "end_time": "2021-08-25T15:25:42.111537",
     "exception": false,
     "start_time": "2021-08-25T15:25:41.998291",
     "status": "completed"
    },
    "pycharm": {
     "name": "#%%\n"
    },
    "tags": []
   },
   "outputs": [],
   "source": [
    "monthvise= y_2016.groupby(y_2016['Date'].dt.strftime('%B'))[['Open','Close']].mean()\n",
    "new_order = ['January', 'February', 'March', 'April', 'May', 'June', 'July', 'August', \n",
    "             'September', 'October', 'November', 'December']\n",
    "monthvise = monthvise.reindex(new_order, axis=0)\n",
    "monthvise"
   ]
  },
  {
   "cell_type": "code",
   "execution_count": null,
   "id": "89c5aba8",
   "metadata": {
    "execution": {
     "iopub.execute_input": "2021-08-25T15:25:42.291620Z",
     "iopub.status.busy": "2021-08-25T15:25:42.290984Z",
     "iopub.status.idle": "2021-08-25T15:25:42.306149Z",
     "shell.execute_reply": "2021-08-25T15:25:42.306641Z",
     "shell.execute_reply.started": "2021-08-25T14:39:19.156346Z"
    },
    "papermill": {
     "duration": 0.106366,
     "end_time": "2021-08-25T15:25:42.306796",
     "exception": false,
     "start_time": "2021-08-25T15:25:42.200430",
     "status": "completed"
    },
    "pycharm": {
     "name": "#%%\n"
    },
    "tags": []
   },
   "outputs": [],
   "source": [
    "fig = go.Figure()\n",
    "\n",
    "fig.add_trace(go.Bar(\n",
    "    x=monthvise.index,\n",
    "    y=monthvise['Open'],\n",
    "    name='Stock Open Price',\n",
    "    marker_color='crimson'\n",
    "))\n",
    "fig.add_trace(go.Bar(\n",
    "    x=monthvise.index,\n",
    "    y=monthvise['Close'],\n",
    "    name='Stock Close Price',\n",
    "    marker_color='lightsalmon'\n",
    "))\n",
    "\n",
    "fig.update_layout(barmode='group', xaxis_tickangle=-45, \n",
    "                  title='Monthwise comparision between Stock open and close price')\n",
    "fig.show()"
   ]
  },
  {
   "cell_type": "code",
   "execution_count": null,
   "id": "31450890",
   "metadata": {
    "execution": {
     "iopub.execute_input": "2021-08-25T15:25:42.488661Z",
     "iopub.status.busy": "2021-08-25T15:25:42.488017Z",
     "iopub.status.idle": "2021-08-25T15:25:42.538396Z",
     "shell.execute_reply": "2021-08-25T15:25:42.538864Z",
     "shell.execute_reply.started": "2021-08-25T14:39:19.176916Z"
    },
    "papermill": {
     "duration": 0.142267,
     "end_time": "2021-08-25T15:25:42.539030",
     "exception": false,
     "start_time": "2021-08-25T15:25:42.396763",
     "status": "completed"
    },
    "pycharm": {
     "name": "#%%\n"
    },
    "tags": []
   },
   "outputs": [],
   "source": [
    "y_2016.groupby(y_2016['Date'].dt.strftime('%B'))['Low'].min()\n",
    "monthvise_high = y_2016.groupby(maindf['Date'].dt.strftime('%B'))['High'].max()\n",
    "monthvise_high = monthvise_high.reindex(new_order, axis=0)\n",
    "\n",
    "monthvise_low = y_2016.groupby(y_2016['Date'].dt.strftime('%B'))['Low'].min()\n",
    "monthvise_low = monthvise_low.reindex(new_order, axis=0)\n",
    "\n",
    "fig = go.Figure()\n",
    "fig.add_trace(go.Bar(\n",
    "    x=monthvise_high.index,\n",
    "    y=monthvise_high,\n",
    "    name='Stock high Price',\n",
    "    marker_color='rgb(0, 153, 204)'\n",
    "))\n",
    "fig.add_trace(go.Bar(\n",
    "    x=monthvise_low.index,\n",
    "    y=monthvise_low,\n",
    "    name='Stock low Price',\n",
    "    marker_color='rgb(255, 128, 0)'\n",
    "))\n",
    "\n",
    "fig.update_layout(barmode='group', \n",
    "                  title=' Monthwise High and Low stock price')\n",
    "fig.show()"
   ]
  },
  {
   "cell_type": "code",
   "execution_count": null,
   "id": "7207268a",
   "metadata": {
    "execution": {
     "iopub.execute_input": "2021-08-25T15:25:42.744010Z",
     "iopub.status.busy": "2021-08-25T15:25:42.743326Z",
     "iopub.status.idle": "2021-08-25T15:25:42.876941Z",
     "shell.execute_reply": "2021-08-25T15:25:42.876376Z",
     "shell.execute_reply.started": "2021-08-25T14:39:19.231396Z"
    },
    "papermill": {
     "duration": 0.247719,
     "end_time": "2021-08-25T15:25:42.877090",
     "exception": false,
     "start_time": "2021-08-25T15:25:42.629371",
     "status": "completed"
    },
    "pycharm": {
     "name": "#%%\n"
    },
    "tags": []
   },
   "outputs": [],
   "source": [
    "names = cycle(['Stock Open Price','Stock Close Price','Stock High Price','Stock Low Price'])\n",
    "\n",
    "fig = px.line(y_2016, x=y_2016.Date, y=[y_2016['Open'], y_2016['Close'], \n",
    "                                          y_2016['High'], y_2016['Low']],\n",
    "             labels={'Date': 'Date','value':'Stock value'})\n",
    "fig.update_layout(title_text='Stock analysis chart', font_size=15, font_color='black',legend_title_text='Stock Parameters')\n",
    "fig.for_each_trace(lambda t:  t.update(name = next(names)))\n",
    "fig.update_xaxes(showgrid=False)\n",
    "fig.update_yaxes(showgrid=False)\n",
    "\n",
    "fig.show()"
   ]
  },
  {
   "cell_type": "markdown",
   "id": "81c5ce11",
   "metadata": {
    "papermill": {
     "duration": 0.090675,
     "end_time": "2021-08-25T15:25:43.059127",
     "exception": false,
     "start_time": "2021-08-25T15:25:42.968452",
     "status": "completed"
    },
    "pycharm": {
     "name": "#%% md\n"
    },
    "tags": []
   },
   "source": [
    "# Analysis of Year 2017"
   ]
  },
  {
   "cell_type": "code",
   "execution_count": null,
   "id": "9bc07849",
   "metadata": {
    "execution": {
     "iopub.execute_input": "2021-08-25T15:25:43.265157Z",
     "iopub.status.busy": "2021-08-25T15:25:43.264214Z",
     "iopub.status.idle": "2021-08-25T15:25:43.268633Z",
     "shell.execute_reply": "2021-08-25T15:25:43.268174Z",
     "shell.execute_reply.started": "2021-08-25T14:39:19.389014Z"
    },
    "papermill": {
     "duration": 0.119481,
     "end_time": "2021-08-25T15:25:43.268766",
     "exception": false,
     "start_time": "2021-08-25T15:25:43.149285",
     "status": "completed"
    },
    "pycharm": {
     "name": "#%%\n"
    },
    "tags": []
   },
   "outputs": [],
   "source": [
    "maindf['Date'] = pd.to_datetime(maindf['Date'], format='%Y-%m-%d')\n",
    "\n",
    "y_2017 = maindf.loc[(maindf['Date'] >= '2017-01-01')\n",
    "                     & (maindf['Date'] < '2018-01-01')]\n",
    "\n",
    "y_2017.drop(y_2017[['Adj Close','Volume']],axis=1)"
   ]
  },
  {
   "cell_type": "code",
   "execution_count": null,
   "id": "460f2748",
   "metadata": {
    "execution": {
     "iopub.execute_input": "2021-08-25T15:25:43.472244Z",
     "iopub.status.busy": "2021-08-25T15:25:43.471371Z",
     "iopub.status.idle": "2021-08-25T15:25:43.475622Z",
     "shell.execute_reply": "2021-08-25T15:25:43.474984Z",
     "shell.execute_reply.started": "2021-08-25T14:39:19.415495Z"
    },
    "papermill": {
     "duration": 0.11588,
     "end_time": "2021-08-25T15:25:43.475775",
     "exception": false,
     "start_time": "2021-08-25T15:25:43.359895",
     "status": "completed"
    },
    "pycharm": {
     "name": "#%%\n"
    },
    "tags": []
   },
   "outputs": [],
   "source": [
    "monthvise= y_2017.groupby(y_2017['Date'].dt.strftime('%B'))[['Open','Close']].mean()\n",
    "new_order = ['January', 'February', 'March', 'April', 'May', 'June', 'July', 'August', \n",
    "             'September', 'October', 'November', 'December']\n",
    "monthvise = monthvise.reindex(new_order, axis=0)\n",
    "monthvise"
   ]
  },
  {
   "cell_type": "code",
   "execution_count": null,
   "id": "40a31638",
   "metadata": {
    "execution": {
     "iopub.execute_input": "2021-08-25T15:25:43.667248Z",
     "iopub.status.busy": "2021-08-25T15:25:43.666274Z",
     "iopub.status.idle": "2021-08-25T15:25:43.682480Z",
     "shell.execute_reply": "2021-08-25T15:25:43.682951Z",
     "shell.execute_reply.started": "2021-08-25T14:39:19.437645Z"
    },
    "papermill": {
     "duration": 0.113929,
     "end_time": "2021-08-25T15:25:43.683131",
     "exception": false,
     "start_time": "2021-08-25T15:25:43.569202",
     "status": "completed"
    },
    "pycharm": {
     "name": "#%%\n"
    },
    "tags": []
   },
   "outputs": [],
   "source": [
    "fig = go.Figure()\n",
    "\n",
    "fig.add_trace(go.Bar(\n",
    "    x=monthvise.index,\n",
    "    y=monthvise['Open'],\n",
    "    name='Stock Open Price',\n",
    "    marker_color='crimson'\n",
    "))\n",
    "fig.add_trace(go.Bar(\n",
    "    x=monthvise.index,\n",
    "    y=monthvise['Close'],\n",
    "    name='Stock Close Price',\n",
    "    marker_color='lightsalmon'\n",
    "))\n",
    "\n",
    "fig.update_layout(barmode='group', xaxis_tickangle=-45, \n",
    "                  title='Monthwise comparision between Stock open and close price')\n",
    "fig.show()"
   ]
  },
  {
   "cell_type": "code",
   "execution_count": null,
   "id": "d8f87f94",
   "metadata": {
    "execution": {
     "iopub.execute_input": "2021-08-25T15:25:43.873983Z",
     "iopub.status.busy": "2021-08-25T15:25:43.872935Z",
     "iopub.status.idle": "2021-08-25T15:25:43.923375Z",
     "shell.execute_reply": "2021-08-25T15:25:43.923838Z",
     "shell.execute_reply.started": "2021-08-25T14:39:19.460980Z"
    },
    "papermill": {
     "duration": 0.147704,
     "end_time": "2021-08-25T15:25:43.924020",
     "exception": false,
     "start_time": "2021-08-25T15:25:43.776316",
     "status": "completed"
    },
    "pycharm": {
     "name": "#%%\n"
    },
    "tags": []
   },
   "outputs": [],
   "source": [
    "y_2017.groupby(y_2017['Date'].dt.strftime('%B'))['Low'].min()\n",
    "monthvise_high = y_2017.groupby(maindf['Date'].dt.strftime('%B'))['High'].max()\n",
    "monthvise_high = monthvise_high.reindex(new_order, axis=0)\n",
    "\n",
    "monthvise_low = y_2017.groupby(y_2017['Date'].dt.strftime('%B'))['Low'].min()\n",
    "monthvise_low = monthvise_low.reindex(new_order, axis=0)\n",
    "\n",
    "fig = go.Figure()\n",
    "fig.add_trace(go.Bar(\n",
    "    x=monthvise_high.index,\n",
    "    y=monthvise_high,\n",
    "    name='Stock high Price',\n",
    "    marker_color='rgb(0, 153, 204)'\n",
    "))\n",
    "fig.add_trace(go.Bar(\n",
    "    x=monthvise_low.index,\n",
    "    y=monthvise_low,\n",
    "    name='Stock low Price',\n",
    "    marker_color='rgb(255, 128, 0)'\n",
    "))\n",
    "\n",
    "fig.update_layout(barmode='group', \n",
    "                  title=' Monthwise High and Low stock price')\n",
    "fig.show()"
   ]
  },
  {
   "cell_type": "code",
   "execution_count": null,
   "id": "542b201c",
   "metadata": {
    "execution": {
     "iopub.execute_input": "2021-08-25T15:25:44.113919Z",
     "iopub.status.busy": "2021-08-25T15:25:44.113000Z",
     "iopub.status.idle": "2021-08-25T15:25:44.266751Z",
     "shell.execute_reply": "2021-08-25T15:25:44.267257Z",
     "shell.execute_reply.started": "2021-08-25T14:39:19.521310Z"
    },
    "papermill": {
     "duration": 0.250316,
     "end_time": "2021-08-25T15:25:44.267430",
     "exception": false,
     "start_time": "2021-08-25T15:25:44.017114",
     "status": "completed"
    },
    "pycharm": {
     "name": "#%%\n"
    },
    "tags": []
   },
   "outputs": [],
   "source": [
    "names = cycle(['Stock Open Price','Stock Close Price','Stock High Price','Stock Low Price'])\n",
    "\n",
    "fig = px.line(y_2017, x=y_2017.Date, y=[y_2017['Open'], y_2017['Close'], \n",
    "                                          y_2017['High'], y_2017['Low']],\n",
    "             labels={'Date': 'Date','value':'Stock value'})\n",
    "fig.update_layout(title_text='Stock analysis chart', font_size=15, font_color='black',legend_title_text='Stock Parameters')\n",
    "fig.for_each_trace(lambda t:  t.update(name = next(names)))\n",
    "fig.update_xaxes(showgrid=False)\n",
    "fig.update_yaxes(showgrid=False)\n",
    "\n",
    "fig.show()"
   ]
  },
  {
   "cell_type": "markdown",
   "id": "c8d98878",
   "metadata": {
    "papermill": {
     "duration": 0.095575,
     "end_time": "2021-08-25T15:25:44.459439",
     "exception": false,
     "start_time": "2021-08-25T15:25:44.363864",
     "status": "completed"
    },
    "pycharm": {
     "name": "#%% md\n"
    },
    "tags": []
   },
   "source": [
    "# Analysis of Year 2018"
   ]
  },
  {
   "cell_type": "code",
   "execution_count": null,
   "id": "7f67e8ba",
   "metadata": {
    "execution": {
     "iopub.execute_input": "2021-08-25T15:25:44.673626Z",
     "iopub.status.busy": "2021-08-25T15:25:44.672940Z",
     "iopub.status.idle": "2021-08-25T15:25:44.676481Z",
     "shell.execute_reply": "2021-08-25T15:25:44.675935Z",
     "shell.execute_reply.started": "2021-08-25T14:39:19.678560Z"
    },
    "papermill": {
     "duration": 0.121851,
     "end_time": "2021-08-25T15:25:44.676613",
     "exception": false,
     "start_time": "2021-08-25T15:25:44.554762",
     "status": "completed"
    },
    "pycharm": {
     "name": "#%%\n"
    },
    "tags": []
   },
   "outputs": [],
   "source": [
    "maindf['Date'] = pd.to_datetime(maindf['Date'], format='%Y-%m-%d')\n",
    "\n",
    "y_2018 = maindf.loc[(maindf['Date'] >= '2018-01-01')\n",
    "                     & (maindf['Date'] < '2019-01-01')]\n",
    "\n",
    "y_2018.drop(y_2018[['Adj Close','Volume']],axis=1)"
   ]
  },
  {
   "cell_type": "code",
   "execution_count": null,
   "id": "f17f1552",
   "metadata": {
    "execution": {
     "iopub.execute_input": "2021-08-25T15:25:44.872516Z",
     "iopub.status.busy": "2021-08-25T15:25:44.871832Z",
     "iopub.status.idle": "2021-08-25T15:25:44.891912Z",
     "shell.execute_reply": "2021-08-25T15:25:44.891395Z",
     "shell.execute_reply.started": "2021-08-25T14:39:19.707391Z"
    },
    "papermill": {
     "duration": 0.118731,
     "end_time": "2021-08-25T15:25:44.892044",
     "exception": false,
     "start_time": "2021-08-25T15:25:44.773313",
     "status": "completed"
    },
    "pycharm": {
     "name": "#%%\n"
    },
    "tags": []
   },
   "outputs": [],
   "source": [
    "monthvise= y_2018.groupby(y_2018['Date'].dt.strftime('%B'))[['Open','Close']].mean()\n",
    "new_order = ['January', 'February', 'March', 'April', 'May', 'June', 'July', 'August', \n",
    "             'September', 'October', 'November', 'December']\n",
    "monthvise = monthvise.reindex(new_order, axis=0)\n",
    "monthvise"
   ]
  },
  {
   "cell_type": "code",
   "execution_count": null,
   "id": "044b470f",
   "metadata": {
    "execution": {
     "iopub.execute_input": "2021-08-25T15:25:45.102337Z",
     "iopub.status.busy": "2021-08-25T15:25:45.101618Z",
     "iopub.status.idle": "2021-08-25T15:25:45.105413Z",
     "shell.execute_reply": "2021-08-25T15:25:45.105970Z",
     "shell.execute_reply.started": "2021-08-25T14:39:19.734779Z"
    },
    "papermill": {
     "duration": 0.117144,
     "end_time": "2021-08-25T15:25:45.106146",
     "exception": false,
     "start_time": "2021-08-25T15:25:44.989002",
     "status": "completed"
    },
    "pycharm": {
     "name": "#%%\n"
    },
    "tags": []
   },
   "outputs": [],
   "source": [
    "fig = go.Figure()\n",
    "\n",
    "fig.add_trace(go.Bar(\n",
    "    x=monthvise.index,\n",
    "    y=monthvise['Open'],\n",
    "    name='Stock Open Price',\n",
    "    marker_color='crimson'\n",
    "))\n",
    "fig.add_trace(go.Bar(\n",
    "    x=monthvise.index,\n",
    "    y=monthvise['Close'],\n",
    "    name='Stock Close Price',\n",
    "    marker_color='lightsalmon'\n",
    "))\n",
    "\n",
    "fig.update_layout(barmode='group', xaxis_tickangle=-45, \n",
    "                  title='Monthwise comparision between Stock open and close price')\n",
    "fig.show()"
   ]
  },
  {
   "cell_type": "code",
   "execution_count": null,
   "id": "b20a4688",
   "metadata": {
    "execution": {
     "iopub.execute_input": "2021-08-25T15:25:45.304734Z",
     "iopub.status.busy": "2021-08-25T15:25:45.304037Z",
     "iopub.status.idle": "2021-08-25T15:25:45.355080Z",
     "shell.execute_reply": "2021-08-25T15:25:45.354546Z",
     "shell.execute_reply.started": "2021-08-25T14:39:19.758471Z"
    },
    "papermill": {
     "duration": 0.151681,
     "end_time": "2021-08-25T15:25:45.355217",
     "exception": false,
     "start_time": "2021-08-25T15:25:45.203536",
     "status": "completed"
    },
    "pycharm": {
     "name": "#%%\n"
    },
    "tags": []
   },
   "outputs": [],
   "source": [
    "y_2018.groupby(y_2018['Date'].dt.strftime('%B'))['Low'].min()\n",
    "monthvise_high = y_2018.groupby(maindf['Date'].dt.strftime('%B'))['High'].max()\n",
    "monthvise_high = monthvise_high.reindex(new_order, axis=0)\n",
    "\n",
    "monthvise_low = y_2018.groupby(y_2018['Date'].dt.strftime('%B'))['Low'].min()\n",
    "monthvise_low = monthvise_low.reindex(new_order, axis=0)\n",
    "\n",
    "fig = go.Figure()\n",
    "fig.add_trace(go.Bar(\n",
    "    x=monthvise_high.index,\n",
    "    y=monthvise_high,\n",
    "    name='Stock high Price',\n",
    "    marker_color='rgb(0, 153, 204)'\n",
    "))\n",
    "fig.add_trace(go.Bar(\n",
    "    x=monthvise_low.index,\n",
    "    y=monthvise_low,\n",
    "    name='Stock low Price',\n",
    "    marker_color='rgb(255, 128, 0)'\n",
    "))\n",
    "\n",
    "fig.update_layout(barmode='group', \n",
    "                  title=' Monthwise High and Low stock price')\n",
    "fig.show()"
   ]
  },
  {
   "cell_type": "code",
   "execution_count": null,
   "id": "e0892138",
   "metadata": {
    "execution": {
     "iopub.execute_input": "2021-08-25T15:25:45.573251Z",
     "iopub.status.busy": "2021-08-25T15:25:45.572568Z",
     "iopub.status.idle": "2021-08-25T15:25:45.709396Z",
     "shell.execute_reply": "2021-08-25T15:25:45.709877Z",
     "shell.execute_reply.started": "2021-08-25T14:39:19.813218Z"
    },
    "papermill": {
     "duration": 0.256577,
     "end_time": "2021-08-25T15:25:45.710043",
     "exception": false,
     "start_time": "2021-08-25T15:25:45.453466",
     "status": "completed"
    },
    "pycharm": {
     "name": "#%%\n"
    },
    "tags": []
   },
   "outputs": [],
   "source": [
    "names = cycle(['Stock Open Price','Stock Close Price','Stock High Price','Stock Low Price'])\n",
    "\n",
    "fig = px.line(y_2018, x=y_2018.Date, y=[y_2018['Open'], y_2018['Close'], \n",
    "                                          y_2018['High'], y_2018['Low']],\n",
    "             labels={'Date': 'Date','value':'Stock value'})\n",
    "fig.update_layout(title_text='Stock analysis chart', font_size=15, font_color='black',legend_title_text='Stock Parameters')\n",
    "fig.for_each_trace(lambda t:  t.update(name = next(names)))\n",
    "fig.update_xaxes(showgrid=False)\n",
    "fig.update_yaxes(showgrid=False)\n",
    "\n",
    "fig.show()"
   ]
  },
  {
   "cell_type": "markdown",
   "id": "ed24cb93",
   "metadata": {
    "papermill": {
     "duration": 0.099775,
     "end_time": "2021-08-25T15:25:45.910195",
     "exception": false,
     "start_time": "2021-08-25T15:25:45.810420",
     "status": "completed"
    },
    "pycharm": {
     "name": "#%% md\n"
    },
    "tags": []
   },
   "source": [
    "# Analysis of Year 2019"
   ]
  },
  {
   "cell_type": "code",
   "execution_count": null,
   "id": "0fc7f663",
   "metadata": {
    "execution": {
     "iopub.execute_input": "2021-08-25T15:25:46.114850Z",
     "iopub.status.busy": "2021-08-25T15:25:46.114173Z",
     "iopub.status.idle": "2021-08-25T15:25:46.134493Z",
     "shell.execute_reply": "2021-08-25T15:25:46.134922Z",
     "shell.execute_reply.started": "2021-08-25T14:39:19.972836Z"
    },
    "papermill": {
     "duration": 0.126022,
     "end_time": "2021-08-25T15:25:46.135109",
     "exception": false,
     "start_time": "2021-08-25T15:25:46.009087",
     "status": "completed"
    },
    "pycharm": {
     "name": "#%%\n"
    },
    "tags": []
   },
   "outputs": [],
   "source": [
    "maindf['Date'] = pd.to_datetime(maindf['Date'], format='%Y-%m-%d')\n",
    "\n",
    "y_2019 = maindf.loc[(maindf['Date'] >= '2019-01-01')\n",
    "                     & (maindf['Date'] < '2020-01-01')]\n",
    "\n",
    "y_2019.drop(y_2019[['Adj Close','Volume']],axis=1)"
   ]
  },
  {
   "cell_type": "code",
   "execution_count": null,
   "id": "90583e21",
   "metadata": {
    "execution": {
     "iopub.execute_input": "2021-08-25T15:25:46.339258Z",
     "iopub.status.busy": "2021-08-25T15:25:46.338669Z",
     "iopub.status.idle": "2021-08-25T15:25:46.358131Z",
     "shell.execute_reply": "2021-08-25T15:25:46.358692Z",
     "shell.execute_reply.started": "2021-08-25T14:39:20.001446Z"
    },
    "papermill": {
     "duration": 0.123022,
     "end_time": "2021-08-25T15:25:46.358849",
     "exception": false,
     "start_time": "2021-08-25T15:25:46.235827",
     "status": "completed"
    },
    "pycharm": {
     "name": "#%%\n"
    },
    "tags": []
   },
   "outputs": [],
   "source": [
    "monthvise= y_2019.groupby(y_2019['Date'].dt.strftime('%B'))[['Open','Close']].mean()\n",
    "new_order = ['January', 'February', 'March', 'April', 'May', 'June', 'July', 'August', \n",
    "             'September', 'October', 'November', 'December']\n",
    "monthvise = monthvise.reindex(new_order, axis=0)\n",
    "monthvise"
   ]
  },
  {
   "cell_type": "code",
   "execution_count": null,
   "id": "5da60726",
   "metadata": {
    "execution": {
     "iopub.execute_input": "2021-08-25T15:25:46.561388Z",
     "iopub.status.busy": "2021-08-25T15:25:46.560745Z",
     "iopub.status.idle": "2021-08-25T15:25:46.575834Z",
     "shell.execute_reply": "2021-08-25T15:25:46.576395Z",
     "shell.execute_reply.started": "2021-08-25T14:39:20.028525Z"
    },
    "papermill": {
     "duration": 0.117939,
     "end_time": "2021-08-25T15:25:46.576580",
     "exception": false,
     "start_time": "2021-08-25T15:25:46.458641",
     "status": "completed"
    },
    "pycharm": {
     "name": "#%%\n"
    },
    "tags": []
   },
   "outputs": [],
   "source": [
    "fig = go.Figure()\n",
    "\n",
    "fig.add_trace(go.Bar(\n",
    "    x=monthvise.index,\n",
    "    y=monthvise['Open'],\n",
    "    name='Stock Open Price',\n",
    "    marker_color='crimson'\n",
    "))\n",
    "fig.add_trace(go.Bar(\n",
    "    x=monthvise.index,\n",
    "    y=monthvise['Close'],\n",
    "    name='Stock Close Price',\n",
    "    marker_color='lightsalmon'\n",
    "))\n",
    "\n",
    "fig.update_layout(barmode='group', xaxis_tickangle=-45, \n",
    "                  title='Monthwise comparision between Stock open and close price')\n",
    "fig.show()"
   ]
  },
  {
   "cell_type": "code",
   "execution_count": null,
   "id": "aa0675c3",
   "metadata": {
    "execution": {
     "iopub.execute_input": "2021-08-25T15:25:46.790604Z",
     "iopub.status.busy": "2021-08-25T15:25:46.789791Z",
     "iopub.status.idle": "2021-08-25T15:25:46.842534Z",
     "shell.execute_reply": "2021-08-25T15:25:46.842976Z",
     "shell.execute_reply.started": "2021-08-25T14:39:20.047679Z"
    },
    "papermill": {
     "duration": 0.165272,
     "end_time": "2021-08-25T15:25:46.843162",
     "exception": false,
     "start_time": "2021-08-25T15:25:46.677890",
     "status": "completed"
    },
    "pycharm": {
     "name": "#%%\n"
    },
    "tags": []
   },
   "outputs": [],
   "source": [
    "y_2019.groupby(y_2019['Date'].dt.strftime('%B'))['Low'].min()\n",
    "monthvise_high = y_2019.groupby(maindf['Date'].dt.strftime('%B'))['High'].max()\n",
    "monthvise_high = monthvise_high.reindex(new_order, axis=0)\n",
    "\n",
    "monthvise_low = y_2019.groupby(y_2019['Date'].dt.strftime('%B'))['Low'].min()\n",
    "monthvise_low = monthvise_low.reindex(new_order, axis=0)\n",
    "\n",
    "fig = go.Figure()\n",
    "fig.add_trace(go.Bar(\n",
    "    x=monthvise_high.index,\n",
    "    y=monthvise_high,\n",
    "    name='Stock high Price',\n",
    "    marker_color='rgb(0, 153, 204)'\n",
    "))\n",
    "fig.add_trace(go.Bar(\n",
    "    x=monthvise_low.index,\n",
    "    y=monthvise_low,\n",
    "    name='Stock low Price',\n",
    "    marker_color='rgb(255, 128, 0)'\n",
    "))\n",
    "\n",
    "fig.update_layout(barmode='group', \n",
    "                  title=' Monthwise High and Low stock price')\n",
    "fig.show()"
   ]
  },
  {
   "cell_type": "code",
   "execution_count": null,
   "id": "37d0b5c9",
   "metadata": {
    "execution": {
     "iopub.execute_input": "2021-08-25T15:25:47.074406Z",
     "iopub.status.busy": "2021-08-25T15:25:47.069026Z",
     "iopub.status.idle": "2021-08-25T15:25:47.218959Z",
     "shell.execute_reply": "2021-08-25T15:25:47.219437Z",
     "shell.execute_reply.started": "2021-08-25T14:39:20.107188Z"
    },
    "papermill": {
     "duration": 0.272688,
     "end_time": "2021-08-25T15:25:47.219596",
     "exception": false,
     "start_time": "2021-08-25T15:25:46.946908",
     "status": "completed"
    },
    "pycharm": {
     "name": "#%%\n"
    },
    "tags": []
   },
   "outputs": [],
   "source": [
    "names = cycle(['Stock Open Price','Stock Close Price','Stock High Price','Stock Low Price'])\n",
    "\n",
    "fig = px.line(y_2019, x=y_2019.Date, y=[y_2019['Open'], y_2019['Close'], \n",
    "                                          y_2019['High'], y_2019['Low']],\n",
    "             labels={'Date': 'Date','value':'Stock value'})\n",
    "fig.update_layout(title_text='Stock analysis chart', font_size=15, font_color='black',legend_title_text='Stock Parameters')\n",
    "fig.for_each_trace(lambda t:  t.update(name = next(names)))\n",
    "fig.update_xaxes(showgrid=False)\n",
    "fig.update_yaxes(showgrid=False)\n",
    "\n",
    "fig.show()"
   ]
  },
  {
   "cell_type": "markdown",
   "id": "1b0e5e42",
   "metadata": {
    "papermill": {
     "duration": 0.102065,
     "end_time": "2021-08-25T15:25:47.427918",
     "exception": false,
     "start_time": "2021-08-25T15:25:47.325853",
     "status": "completed"
    },
    "pycharm": {
     "name": "#%% md\n"
    },
    "tags": []
   },
   "source": [
    "# Analysis of Year 2020"
   ]
  },
  {
   "cell_type": "code",
   "execution_count": null,
   "id": "b6496a26",
   "metadata": {
    "execution": {
     "iopub.execute_input": "2021-08-25T15:25:47.638596Z",
     "iopub.status.busy": "2021-08-25T15:25:47.637888Z",
     "iopub.status.idle": "2021-08-25T15:25:47.661340Z",
     "shell.execute_reply": "2021-08-25T15:25:47.660740Z",
     "shell.execute_reply.started": "2021-08-25T14:39:20.266098Z"
    },
    "papermill": {
     "duration": 0.13032,
     "end_time": "2021-08-25T15:25:47.661484",
     "exception": false,
     "start_time": "2021-08-25T15:25:47.531164",
     "status": "completed"
    },
    "pycharm": {
     "name": "#%%\n"
    },
    "tags": []
   },
   "outputs": [],
   "source": [
    "maindf['Date'] = pd.to_datetime(maindf['Date'], format='%Y-%m-%d')\n",
    "\n",
    "y_2020 = maindf.loc[(maindf['Date'] >= '2020-01-01')\n",
    "                     & (maindf['Date'] < '2021-01-01')]\n",
    "\n",
    "y_2020.drop(y_2020[['Adj Close','Volume']],axis=1)"
   ]
  },
  {
   "cell_type": "code",
   "execution_count": null,
   "id": "2be42737",
   "metadata": {
    "execution": {
     "iopub.execute_input": "2021-08-25T15:25:47.889057Z",
     "iopub.status.busy": "2021-08-25T15:25:47.888162Z",
     "iopub.status.idle": "2021-08-25T15:25:47.892346Z",
     "shell.execute_reply": "2021-08-25T15:25:47.891834Z",
     "shell.execute_reply.started": "2021-08-25T14:39:20.291848Z"
    },
    "papermill": {
     "duration": 0.127827,
     "end_time": "2021-08-25T15:25:47.892508",
     "exception": false,
     "start_time": "2021-08-25T15:25:47.764681",
     "status": "completed"
    },
    "pycharm": {
     "name": "#%%\n"
    },
    "tags": []
   },
   "outputs": [],
   "source": [
    "monthvise= y_2020.groupby(y_2020['Date'].dt.strftime('%B'))[['Open','Close']].mean()\n",
    "new_order = ['January', 'February', 'March', 'April', 'May', 'June', 'July', 'August', \n",
    "             'September', 'October', 'November', 'December']\n",
    "monthvise = monthvise.reindex(new_order, axis=0)\n",
    "monthvise"
   ]
  },
  {
   "cell_type": "code",
   "execution_count": null,
   "id": "60c41d1e",
   "metadata": {
    "execution": {
     "iopub.execute_input": "2021-08-25T15:25:48.121971Z",
     "iopub.status.busy": "2021-08-25T15:25:48.120985Z",
     "iopub.status.idle": "2021-08-25T15:25:48.126291Z",
     "shell.execute_reply": "2021-08-25T15:25:48.125764Z",
     "shell.execute_reply.started": "2021-08-25T14:39:20.318199Z"
    },
    "papermill": {
     "duration": 0.128128,
     "end_time": "2021-08-25T15:25:48.126430",
     "exception": false,
     "start_time": "2021-08-25T15:25:47.998302",
     "status": "completed"
    },
    "pycharm": {
     "name": "#%%\n"
    },
    "tags": []
   },
   "outputs": [],
   "source": [
    "fig = go.Figure()\n",
    "\n",
    "fig.add_trace(go.Bar(\n",
    "    x=monthvise.index,\n",
    "    y=monthvise['Open'],\n",
    "    name='Stock Open Price',\n",
    "    marker_color='crimson'\n",
    "))\n",
    "fig.add_trace(go.Bar(\n",
    "    x=monthvise.index,\n",
    "    y=monthvise['Close'],\n",
    "    name='Stock Close Price',\n",
    "    marker_color='lightsalmon'\n",
    "))\n",
    "\n",
    "fig.update_layout(barmode='group', xaxis_tickangle=-45, \n",
    "                  title='Monthwise comparision between Stock open and close price')\n",
    "fig.show()"
   ]
  },
  {
   "cell_type": "code",
   "execution_count": null,
   "id": "9054a46f",
   "metadata": {
    "execution": {
     "iopub.execute_input": "2021-08-25T15:25:48.340911Z",
     "iopub.status.busy": "2021-08-25T15:25:48.339986Z",
     "iopub.status.idle": "2021-08-25T15:25:48.389735Z",
     "shell.execute_reply": "2021-08-25T15:25:48.389230Z",
     "shell.execute_reply.started": "2021-08-25T14:39:20.340982Z"
    },
    "papermill": {
     "duration": 0.158423,
     "end_time": "2021-08-25T15:25:48.389863",
     "exception": false,
     "start_time": "2021-08-25T15:25:48.231440",
     "status": "completed"
    },
    "pycharm": {
     "name": "#%%\n"
    },
    "tags": []
   },
   "outputs": [],
   "source": [
    "y_2020.groupby(y_2020['Date'].dt.strftime('%B'))['Low'].min()\n",
    "monthvise_high = y_2020.groupby(maindf['Date'].dt.strftime('%B'))['High'].max()\n",
    "monthvise_high = monthvise_high.reindex(new_order, axis=0)\n",
    "\n",
    "monthvise_low = y_2020.groupby(y_2020['Date'].dt.strftime('%B'))['Low'].min()\n",
    "monthvise_low = monthvise_low.reindex(new_order, axis=0)\n",
    "\n",
    "fig = go.Figure()\n",
    "fig.add_trace(go.Bar(\n",
    "    x=monthvise_high.index,\n",
    "    y=monthvise_high,\n",
    "    name='Stock high Price',\n",
    "    marker_color='rgb(0, 153, 204)'\n",
    "))\n",
    "fig.add_trace(go.Bar(\n",
    "    x=monthvise_low.index,\n",
    "    y=monthvise_low,\n",
    "    name='Stock low Price',\n",
    "    marker_color='rgb(255, 128, 0)'\n",
    "))\n",
    "\n",
    "fig.update_layout(barmode='group', \n",
    "                  title=' Monthwise High and Low stock price')\n",
    "fig.show()"
   ]
  },
  {
   "cell_type": "code",
   "execution_count": null,
   "id": "ad893f37",
   "metadata": {
    "execution": {
     "iopub.execute_input": "2021-08-25T15:25:48.627746Z",
     "iopub.status.busy": "2021-08-25T15:25:48.626634Z",
     "iopub.status.idle": "2021-08-25T15:25:48.755747Z",
     "shell.execute_reply": "2021-08-25T15:25:48.756272Z",
     "shell.execute_reply.started": "2021-08-25T14:39:20.398390Z"
    },
    "papermill": {
     "duration": 0.260806,
     "end_time": "2021-08-25T15:25:48.756432",
     "exception": false,
     "start_time": "2021-08-25T15:25:48.495626",
     "status": "completed"
    },
    "pycharm": {
     "name": "#%%\n"
    },
    "tags": []
   },
   "outputs": [],
   "source": [
    "names = cycle(['Stock Open Price','Stock Close Price','Stock High Price','Stock Low Price'])\n",
    "\n",
    "fig = px.line(y_2020, x=y_2020.Date, y=[y_2020['Open'], y_2020['Close'], \n",
    "                                          y_2020['High'], y_2020['Low']],\n",
    "             labels={'Date': 'Date','value':'Stock value'})\n",
    "fig.update_layout(title_text='Stock analysis chart', font_size=15, font_color='black',legend_title_text='Stock Parameters')\n",
    "fig.for_each_trace(lambda t:  t.update(name = next(names)))\n",
    "fig.update_xaxes(showgrid=False)\n",
    "fig.update_yaxes(showgrid=False)\n",
    "\n",
    "fig.show()"
   ]
  },
  {
   "cell_type": "markdown",
   "id": "ceefa334",
   "metadata": {
    "papermill": {
     "duration": 0.103009,
     "end_time": "2021-08-25T15:25:48.967310",
     "exception": false,
     "start_time": "2021-08-25T15:25:48.864301",
     "status": "completed"
    },
    "pycharm": {
     "name": "#%% md\n"
    },
    "tags": []
   },
   "source": [
    "# Analysis of Year 2021"
   ]
  },
  {
   "cell_type": "code",
   "execution_count": null,
   "id": "e1495422",
   "metadata": {
    "execution": {
     "iopub.execute_input": "2021-08-25T15:25:49.205876Z",
     "iopub.status.busy": "2021-08-25T15:25:49.204998Z",
     "iopub.status.idle": "2021-08-25T15:25:49.209506Z",
     "shell.execute_reply": "2021-08-25T15:25:49.208945Z",
     "shell.execute_reply.started": "2021-08-25T14:39:20.558198Z"
    },
    "papermill": {
     "duration": 0.134257,
     "end_time": "2021-08-25T15:25:49.209643",
     "exception": false,
     "start_time": "2021-08-25T15:25:49.075386",
     "status": "completed"
    },
    "pycharm": {
     "name": "#%%\n"
    },
    "tags": []
   },
   "outputs": [],
   "source": [
    "maindf['Date'] = pd.to_datetime(maindf['Date'], format='%Y-%m-%d')\n",
    "\n",
    "y_2021 = maindf.loc[(maindf['Date'] >= '2021-01-01')\n",
    "                     & (maindf['Date'] < '2021-12-31')]\n",
    "\n",
    "y_2021.drop(y_2021[['Adj Close','Volume']],axis=1)"
   ]
  },
  {
   "cell_type": "code",
   "execution_count": null,
   "id": "2af06f1d",
   "metadata": {
    "execution": {
     "iopub.execute_input": "2021-08-25T15:25:49.441805Z",
     "iopub.status.busy": "2021-08-25T15:25:49.440895Z",
     "iopub.status.idle": "2021-08-25T15:25:49.444823Z",
     "shell.execute_reply": "2021-08-25T15:25:49.444356Z",
     "shell.execute_reply.started": "2021-08-25T14:39:20.587096Z"
    },
    "papermill": {
     "duration": 0.128109,
     "end_time": "2021-08-25T15:25:49.444948",
     "exception": false,
     "start_time": "2021-08-25T15:25:49.316839",
     "status": "completed"
    },
    "pycharm": {
     "name": "#%%\n"
    },
    "tags": []
   },
   "outputs": [],
   "source": [
    "monthvise= y_2021.groupby(y_2021['Date'].dt.strftime('%B'))[['Open','Close']].mean()\n",
    "new_order = ['January', 'February', 'March', 'April', 'May', 'June', 'July', 'August', \n",
    "             'September', 'October', 'November', 'December']\n",
    "monthvise = monthvise.reindex(new_order, axis=0)\n",
    "monthvise"
   ]
  },
  {
   "cell_type": "markdown",
   "id": "daf2e381",
   "metadata": {
    "papermill": {
     "duration": 0.106929,
     "end_time": "2021-08-25T15:25:49.660326",
     "exception": false,
     "start_time": "2021-08-25T15:25:49.553397",
     "status": "completed"
    },
    "pycharm": {
     "name": "#%% md\n"
    },
    "tags": []
   },
   "source": [
    "#### Since we had data till 24-08-2021 in Months after August its showing NaN"
   ]
  },
  {
   "cell_type": "code",
   "execution_count": null,
   "id": "5c9d96df",
   "metadata": {
    "execution": {
     "iopub.execute_input": "2021-08-25T15:25:49.892491Z",
     "iopub.status.busy": "2021-08-25T15:25:49.891846Z",
     "iopub.status.idle": "2021-08-25T15:25:49.896862Z",
     "shell.execute_reply": "2021-08-25T15:25:49.896251Z",
     "shell.execute_reply.started": "2021-08-25T14:39:20.617125Z"
    },
    "papermill": {
     "duration": 0.129345,
     "end_time": "2021-08-25T15:25:49.896989",
     "exception": false,
     "start_time": "2021-08-25T15:25:49.767644",
     "status": "completed"
    },
    "pycharm": {
     "name": "#%%\n"
    },
    "tags": []
   },
   "outputs": [],
   "source": [
    "fig = go.Figure()\n",
    "\n",
    "fig.add_trace(go.Bar(\n",
    "    x=monthvise.index,\n",
    "    y=monthvise['Open'],\n",
    "    name='Stock Open Price',\n",
    "    marker_color='crimson'\n",
    "))\n",
    "fig.add_trace(go.Bar(\n",
    "    x=monthvise.index,\n",
    "    y=monthvise['Close'],\n",
    "    name='Stock Close Price',\n",
    "    marker_color='lightsalmon'\n",
    "))\n",
    "\n",
    "fig.update_layout(barmode='group', xaxis_tickangle=-45, \n",
    "                  title='Monthwise comparision between Stock open and close price')\n",
    "fig.show()"
   ]
  },
  {
   "cell_type": "code",
   "execution_count": null,
   "id": "593c6f07",
   "metadata": {
    "execution": {
     "iopub.execute_input": "2021-08-25T15:25:50.165015Z",
     "iopub.status.busy": "2021-08-25T15:25:50.164353Z",
     "iopub.status.idle": "2021-08-25T15:25:50.169249Z",
     "shell.execute_reply": "2021-08-25T15:25:50.168715Z",
     "shell.execute_reply.started": "2021-08-25T14:39:20.644213Z"
    },
    "papermill": {
     "duration": 0.163164,
     "end_time": "2021-08-25T15:25:50.169390",
     "exception": false,
     "start_time": "2021-08-25T15:25:50.006226",
     "status": "completed"
    },
    "pycharm": {
     "name": "#%%\n"
    },
    "tags": []
   },
   "outputs": [],
   "source": [
    "y_2021.groupby(y_2021['Date'].dt.strftime('%B'))['Low'].min()\n",
    "monthvise_high = y_2021.groupby(maindf['Date'].dt.strftime('%B'))['High'].max()\n",
    "monthvise_high = monthvise_high.reindex(new_order, axis=0)\n",
    "\n",
    "monthvise_low = y_2021.groupby(y_2021['Date'].dt.strftime('%B'))['Low'].min()\n",
    "monthvise_low = monthvise_low.reindex(new_order, axis=0)\n",
    "\n",
    "fig = go.Figure()\n",
    "fig.add_trace(go.Bar(\n",
    "    x=monthvise_high.index,\n",
    "    y=monthvise_high,\n",
    "    name='Stock high Price',\n",
    "    marker_color='rgb(0, 153, 204)'\n",
    "))\n",
    "fig.add_trace(go.Bar(\n",
    "    x=monthvise_low.index,\n",
    "    y=monthvise_low,\n",
    "    name='Stock low Price',\n",
    "    marker_color='rgb(255, 128, 0)'\n",
    "))\n",
    "\n",
    "fig.update_layout(barmode='group', \n",
    "                  title=' Monthwise High and Low stock price')\n",
    "fig.show()"
   ]
  },
  {
   "cell_type": "code",
   "execution_count": null,
   "id": "9eadf287",
   "metadata": {
    "execution": {
     "iopub.execute_input": "2021-08-25T15:25:50.407833Z",
     "iopub.status.busy": "2021-08-25T15:25:50.406458Z",
     "iopub.status.idle": "2021-08-25T15:25:50.527315Z",
     "shell.execute_reply": "2021-08-25T15:25:50.526754Z",
     "shell.execute_reply.started": "2021-08-25T14:39:20.695596Z"
    },
    "papermill": {
     "duration": 0.250585,
     "end_time": "2021-08-25T15:25:50.527466",
     "exception": false,
     "start_time": "2021-08-25T15:25:50.276881",
     "status": "completed"
    },
    "pycharm": {
     "name": "#%%\n"
    },
    "tags": []
   },
   "outputs": [],
   "source": [
    "names = cycle(['Stock Open Price','Stock Close Price','Stock High Price','Stock Low Price'])\n",
    "\n",
    "fig = px.line(y_2021, x=y_2021.Date, y=[y_2021['Open'], y_2021['Close'], \n",
    "                                          y_2021['High'], y_2021['Low']],\n",
    "             labels={'Date': 'Date','value':'Stock value'})\n",
    "fig.update_layout(title_text='Stock analysis chart', font_size=15, font_color='black',legend_title_text='Stock Parameters')\n",
    "fig.for_each_trace(lambda t:  t.update(name = next(names)))\n",
    "fig.update_xaxes(showgrid=False)\n",
    "fig.update_yaxes(showgrid=False)\n",
    "\n",
    "fig.show()"
   ]
  },
  {
   "cell_type": "markdown",
   "id": "11907f58",
   "metadata": {
    "pycharm": {
     "name": "#%% md\n"
    }
   },
   "source": [
    "# Analysis of Year 2022"
   ]
  },
  {
   "cell_type": "code",
   "execution_count": null,
   "id": "861ad23a",
   "metadata": {
    "pycharm": {
     "name": "#%%\n"
    }
   },
   "outputs": [],
   "source": [
    "maindf['Date'] = pd.to_datetime(maindf['Date'], format='%Y-%m-%d')\n",
    "\n",
    "y_2022 = maindf.loc[(maindf['Date'] >= '2022-01-01')\n",
    "                     & (maindf['Date'] < '2022-02-19')]\n",
    "\n",
    "y_2022.drop(y_2015[['Adj Close','Volume']],axis=1)"
   ]
  },
  {
   "cell_type": "code",
   "execution_count": null,
   "id": "5f197aab",
   "metadata": {
    "pycharm": {
     "name": "#%%\n"
    }
   },
   "outputs": [],
   "source": [
    "monthvise= y_2022.groupby(y_2022['Date'].dt.strftime('%B'))[['Open','Close']].mean()\n",
    "new_order = ['January', 'February', 'March', 'April', 'May', 'June', 'July', 'August', \n",
    "             'September', 'October', 'November', 'December']\n",
    "monthvise = monthvise.reindex(new_order, axis=0)\n",
    "monthvise"
   ]
  },
  {
   "cell_type": "code",
   "execution_count": null,
   "id": "1dbc9f18",
   "metadata": {
    "pycharm": {
     "name": "#%%\n"
    }
   },
   "outputs": [],
   "source": [
    "fig = go.Figure()\n",
    "\n",
    "fig.add_trace(go.Bar(\n",
    "    x=monthvise.index,\n",
    "    y=monthvise['Open'],\n",
    "    name='Stock Open Price',\n",
    "    marker_color='crimson'\n",
    "))\n",
    "fig.add_trace(go.Bar(\n",
    "    x=monthvise.index,\n",
    "    y=monthvise['Close'],\n",
    "    name='Stock Close Price',\n",
    "    marker_color='lightsalmon'\n",
    "))\n",
    "\n",
    "fig.update_layout(barmode='group', xaxis_tickangle=-45, \n",
    "                  title='Monthwise comparision between Stock open and close price')\n",
    "fig.show()"
   ]
  },
  {
   "cell_type": "code",
   "execution_count": null,
   "id": "1ccb261c",
   "metadata": {
    "pycharm": {
     "name": "#%%\n"
    }
   },
   "outputs": [],
   "source": [
    "y_2022.groupby(y_2022['Date'].dt.strftime('%B'))['Low'].min()\n",
    "monthvise_high = y_2022.groupby(maindf['Date'].dt.strftime('%B'))['High'].max()\n",
    "monthvise_high = monthvise_high.reindex(new_order, axis=0)\n",
    "\n",
    "monthvise_low = y_2022.groupby(y_2022['Date'].dt.strftime('%B'))['Low'].min()\n",
    "monthvise_low = monthvise_low.reindex(new_order, axis=0)\n",
    "\n",
    "fig = go.Figure()\n",
    "fig.add_trace(go.Bar(\n",
    "    x=monthvise_high.index,\n",
    "    y=monthvise_high,\n",
    "    name='Stock high Price',\n",
    "    marker_color='rgb(0, 153, 204)'\n",
    "))\n",
    "fig.add_trace(go.Bar(\n",
    "    x=monthvise_low.index,\n",
    "    y=monthvise_low,\n",
    "    name='Stock low Price',\n",
    "    marker_color='rgb(255, 128, 0)'\n",
    "))\n",
    "\n",
    "fig.update_layout(barmode='group', \n",
    "                  title=' Monthwise High and Low stock price')\n",
    "fig.show()"
   ]
  },
  {
   "cell_type": "code",
   "execution_count": null,
   "id": "c11c6485",
   "metadata": {
    "pycharm": {
     "name": "#%%\n"
    }
   },
   "outputs": [],
   "source": [
    "names = cycle(['Stock Open Price','Stock Close Price','Stock High Price','Stock Low Price'])\n",
    "\n",
    "fig = px.line(y_2022, x=y_2022.Date, y=[y_2022['Open'], y_2022['Close'], \n",
    "                                          y_2022['High'], y_2022['Low']],\n",
    "             labels={'Date': 'Date','value':'Stock value'})\n",
    "fig.update_layout(title_text='Stock analysis chart', font_size=15, font_color='black',legend_title_text='Stock Parameters')\n",
    "fig.for_each_trace(lambda t:  t.update(name = next(names)))\n",
    "fig.update_xaxes(showgrid=False)\n",
    "fig.update_yaxes(showgrid=False)\n",
    "\n",
    "fig.show()"
   ]
  },
  {
   "cell_type": "markdown",
   "id": "c705443e",
   "metadata": {
    "papermill": {
     "duration": 0.11134,
     "end_time": "2021-08-25T15:25:50.750656",
     "exception": false,
     "start_time": "2021-08-25T15:25:50.639316",
     "status": "completed"
    },
    "pycharm": {
     "name": "#%% md\n"
    },
    "tags": []
   },
   "source": [
    "# Overall Analysis from 2014-2022"
   ]
  },
  {
   "cell_type": "code",
   "execution_count": null,
   "id": "7f58bd89",
   "metadata": {
    "execution": {
     "iopub.execute_input": "2021-08-25T15:25:50.986789Z",
     "iopub.status.busy": "2021-08-25T15:25:50.985691Z",
     "iopub.status.idle": "2021-08-25T15:25:51.003660Z",
     "shell.execute_reply": "2021-08-25T15:25:51.003125Z",
     "shell.execute_reply.started": "2021-08-25T14:39:20.848115Z"
    },
    "papermill": {
     "duration": 0.139991,
     "end_time": "2021-08-25T15:25:51.003786",
     "exception": false,
     "start_time": "2021-08-25T15:25:50.863795",
     "status": "completed"
    },
    "pycharm": {
     "name": "#%%\n"
    },
    "tags": []
   },
   "outputs": [],
   "source": [
    "maindf['Date'] = pd.to_datetime(maindf['Date'], format='%Y-%m-%d')\n",
    "\n",
    "y_overall = maindf.loc[(maindf['Date'] >= '2014-09-17')\n",
    "                     & (maindf['Date'] <= '2022-02-19')]\n",
    "\n",
    "y_overall.drop(y_overall[['Adj Close','Volume']],axis=1)"
   ]
  },
  {
   "cell_type": "code",
   "execution_count": null,
   "id": "09296f04",
   "metadata": {
    "execution": {
     "iopub.execute_input": "2021-08-25T15:25:51.280493Z",
     "iopub.status.busy": "2021-08-25T15:25:51.278820Z",
     "iopub.status.idle": "2021-08-25T15:25:51.283521Z",
     "shell.execute_reply": "2021-08-25T15:25:51.282912Z",
     "shell.execute_reply.started": "2021-08-25T14:39:20.878690Z"
    },
    "papermill": {
     "duration": 0.158915,
     "end_time": "2021-08-25T15:25:51.283650",
     "exception": false,
     "start_time": "2021-08-25T15:25:51.124735",
     "status": "completed"
    },
    "pycharm": {
     "name": "#%%\n"
    },
    "tags": []
   },
   "outputs": [],
   "source": [
    "monthvise= y_overall.groupby(y_overall['Date'].dt.strftime('%B'))[['Open','Close']].mean()\n",
    "new_order = ['January', 'February', 'March', 'April', 'May', 'June', 'July', 'August', \n",
    "             'September', 'October', 'November', 'December']\n",
    "monthvise = monthvise.reindex(new_order, axis=0)\n",
    "monthvise"
   ]
  },
  {
   "cell_type": "code",
   "execution_count": null,
   "id": "96d65390",
   "metadata": {
    "execution": {
     "iopub.execute_input": "2021-08-25T15:25:51.521889Z",
     "iopub.status.busy": "2021-08-25T15:25:51.520599Z",
     "iopub.status.idle": "2021-08-25T15:25:52.023247Z",
     "shell.execute_reply": "2021-08-25T15:25:52.023710Z",
     "shell.execute_reply.started": "2021-08-25T14:39:20.912124Z"
    },
    "papermill": {
     "duration": 0.629545,
     "end_time": "2021-08-25T15:25:52.023866",
     "exception": false,
     "start_time": "2021-08-25T15:25:51.394321",
     "status": "completed"
    },
    "pycharm": {
     "name": "#%%\n"
    },
    "tags": []
   },
   "outputs": [],
   "source": [
    "names = cycle(['Stock Open Price','Stock Close Price','Stock High Price','Stock Low Price'])\n",
    "\n",
    "fig = px.line(y_overall, x=y_overall.Date, y=[y_overall['Open'], y_overall['Close'], \n",
    "                                          y_overall['High'], y_overall['Low']],\n",
    "             labels={'Date': 'Date','value':'Stock value'})\n",
    "fig.update_layout(title_text='Stock analysis chart', font_size=15, font_color='black',legend_title_text='Stock Parameters')\n",
    "fig.for_each_trace(lambda t:  t.update(name = next(names)))\n",
    "fig.update_xaxes(showgrid=False)\n",
    "fig.update_yaxes(showgrid=False)\n",
    "\n",
    "fig.show()"
   ]
  },
  {
   "cell_type": "markdown",
   "id": "7533e6e8",
   "metadata": {
    "papermill": {
     "duration": 0.119102,
     "end_time": "2021-08-25T15:25:52.262530",
     "exception": false,
     "start_time": "2021-08-25T15:25:52.143428",
     "status": "completed"
    },
    "pycharm": {
     "name": "#%% md\n"
    },
    "tags": []
   },
   "source": [
    "# 5. Building LSTM Model"
   ]
  },
  {
   "cell_type": "markdown",
   "id": "b4423386",
   "metadata": {
    "papermill": {
     "duration": 0.116681,
     "end_time": "2021-08-25T15:25:52.497711",
     "exception": false,
     "start_time": "2021-08-25T15:25:52.381030",
     "status": "completed"
    },
    "pycharm": {
     "name": "#%% md\n"
    },
    "tags": []
   },
   "source": [
    "* ## First Step is Preparing Data for Training and Testing"
   ]
  },
  {
   "cell_type": "markdown",
   "id": "d4e0ac25",
   "metadata": {
    "papermill": {
     "duration": 0.118627,
     "end_time": "2021-08-25T15:25:52.735227",
     "exception": false,
     "start_time": "2021-08-25T15:25:52.616600",
     "status": "completed"
    },
    "pycharm": {
     "name": "#%% md\n"
    },
    "tags": []
   },
   "source": [
    "* ## Here we are just considering 1 year data for training data "
   ]
  },
  {
   "cell_type": "markdown",
   "id": "857538cd",
   "metadata": {
    "papermill": {
     "duration": 0.11875,
     "end_time": "2021-08-25T15:25:52.973795",
     "exception": false,
     "start_time": "2021-08-25T15:25:52.855045",
     "status": "completed"
    },
    "pycharm": {
     "name": "#%% md\n"
    },
    "tags": []
   },
   "source": [
    "* ## Since Bitcoin price has drastically flucated from 200 dollar in year 2014 to 15000 dollar in year 2018 to 3000 dollar in year 2019(theses values are apporx) so we will just consider 1 Year to avoid this type of flucation in the data."
   ]
  },
  {
   "cell_type": "markdown",
   "id": "46d0d9d2",
   "metadata": {
    "papermill": {
     "duration": 0.118256,
     "end_time": "2021-08-25T15:25:53.212854",
     "exception": false,
     "start_time": "2021-08-25T15:25:53.094598",
     "status": "completed"
    },
    "pycharm": {
     "name": "#%% md\n"
    },
    "tags": []
   },
   "source": [
    "* ## As we want to predict Close Price of the Bitcoin so we are just Considering Close and Date  "
   ]
  },
  {
   "cell_type": "code",
   "execution_count": null,
   "id": "7fb70ad5",
   "metadata": {
    "execution": {
     "iopub.execute_input": "2021-08-25T15:25:53.457050Z",
     "iopub.status.busy": "2021-08-25T15:25:53.456401Z",
     "iopub.status.idle": "2021-08-25T15:25:53.459258Z",
     "shell.execute_reply": "2021-08-25T15:25:53.459698Z",
     "shell.execute_reply.started": "2021-08-25T14:39:21.437880Z"
    },
    "papermill": {
     "duration": 0.127559,
     "end_time": "2021-08-25T15:25:53.459853",
     "exception": false,
     "start_time": "2021-08-25T15:25:53.332294",
     "status": "completed"
    },
    "pycharm": {
     "name": "#%%\n"
    },
    "tags": []
   },
   "outputs": [],
   "source": [
    "# Lets First Take all the Close Price \n",
    "closedf = maindf[['Date','Close']]\n",
    "print(\"Shape of close dataframe:\", closedf.shape)"
   ]
  },
  {
   "cell_type": "code",
   "execution_count": null,
   "id": "924cc4f2",
   "metadata": {
    "execution": {
     "iopub.execute_input": "2021-08-25T15:25:53.722927Z",
     "iopub.status.busy": "2021-08-25T15:25:53.721126Z",
     "iopub.status.idle": "2021-08-25T15:25:53.889264Z",
     "shell.execute_reply": "2021-08-25T15:25:53.889758Z",
     "shell.execute_reply.started": "2021-08-25T14:39:21.446640Z"
    },
    "papermill": {
     "duration": 0.310789,
     "end_time": "2021-08-25T15:25:53.889960",
     "exception": false,
     "start_time": "2021-08-25T15:25:53.579171",
     "status": "completed"
    },
    "pycharm": {
     "name": "#%%\n"
    },
    "tags": []
   },
   "outputs": [],
   "source": [
    "fig = px.line(closedf, x=closedf.Date, y=closedf.Close,labels={'date':'Date','close':'Close Stock'})\n",
    "fig.update_traces(marker_line_width=2, opacity=0.8, marker_line_color='orange')\n",
    "fig.update_layout(title_text='Whole period of timeframe of Bitcoin close price 2014-2022', plot_bgcolor='white', \n",
    "                  font_size=15, font_color='black')\n",
    "fig.update_xaxes(showgrid=False)\n",
    "fig.update_yaxes(showgrid=False)\n",
    "fig.show()"
   ]
  },
  {
   "cell_type": "markdown",
   "id": "be27f15e",
   "metadata": {
    "papermill": {
     "duration": 0.123474,
     "end_time": "2021-08-25T15:25:54.136965",
     "exception": false,
     "start_time": "2021-08-25T15:25:54.013491",
     "status": "completed"
    },
    "pycharm": {
     "name": "#%% md\n"
    },
    "tags": []
   },
   "source": [
    "### Now we will Take data of just 1 Year"
   ]
  },
  {
   "cell_type": "code",
   "execution_count": null,
   "id": "0c507739",
   "metadata": {
    "execution": {
     "iopub.execute_input": "2021-08-25T15:25:54.391598Z",
     "iopub.status.busy": "2021-08-25T15:25:54.390929Z",
     "iopub.status.idle": "2021-08-25T15:25:54.394786Z",
     "shell.execute_reply": "2021-08-25T15:25:54.395409Z",
     "shell.execute_reply.started": "2021-08-25T14:39:21.650448Z"
    },
    "papermill": {
     "duration": 0.134215,
     "end_time": "2021-08-25T15:25:54.395594",
     "exception": false,
     "start_time": "2021-08-25T15:25:54.261379",
     "status": "completed"
    },
    "pycharm": {
     "name": "#%%\n"
    },
    "tags": []
   },
   "outputs": [],
   "source": [
    "closedf = closedf[closedf['Date'] > '2021-02-19']\n",
    "close_stock = closedf.copy()\n",
    "print(\"Total data for prediction: \",closedf.shape[0])"
   ]
  },
  {
   "cell_type": "code",
   "execution_count": null,
   "id": "eb50e0cf",
   "metadata": {
    "pycharm": {
     "name": "#%%\n"
    }
   },
   "outputs": [],
   "source": [
    "closedf"
   ]
  },
  {
   "cell_type": "code",
   "execution_count": null,
   "id": "a01da562",
   "metadata": {
    "execution": {
     "iopub.execute_input": "2021-08-25T15:25:54.674509Z",
     "iopub.status.busy": "2021-08-25T15:25:54.664210Z",
     "iopub.status.idle": "2021-08-25T15:25:54.745780Z",
     "shell.execute_reply": "2021-08-25T15:25:54.745299Z",
     "shell.execute_reply.started": "2021-08-25T14:39:21.659941Z"
    },
    "papermill": {
     "duration": 0.22526,
     "end_time": "2021-08-25T15:25:54.745915",
     "exception": false,
     "start_time": "2021-08-25T15:25:54.520655",
     "status": "completed"
    },
    "pycharm": {
     "name": "#%%\n"
    },
    "tags": []
   },
   "outputs": [],
   "source": [
    "fig = px.line(closedf, x=closedf.Date, y=closedf.Close,labels={'date':'Date','close':'Close Stock'})\n",
    "fig.update_traces(marker_line_width=2, opacity=0.8, marker_line_color='orange')\n",
    "fig.update_layout(title_text='Considered period to predict Bitcoin close price', \n",
    "                  plot_bgcolor='white', font_size=15, font_color='black')\n",
    "fig.update_xaxes(showgrid=False)\n",
    "fig.update_yaxes(showgrid=False)\n",
    "fig.show()"
   ]
  },
  {
   "cell_type": "markdown",
   "id": "5042eaa2",
   "metadata": {
    "papermill": {
     "duration": 0.124648,
     "end_time": "2021-08-25T15:25:54.995966",
     "exception": false,
     "start_time": "2021-08-25T15:25:54.871318",
     "status": "completed"
    },
    "pycharm": {
     "name": "#%% md\n"
    },
    "tags": []
   },
   "source": [
    "* ### Normalizing Data\n",
    "- Normalization is a technique often applied as part of data preparation for machine learning. The goal of normalization is to change the values of numeric columns in the dataset to use a common scale, without distorting differences in the ranges of values or losing information.\n",
    "- MinMaxScaler. For each value in a feature, MinMaxScaler subtracts the minimum value in the feature and then divides by the range. The range is the difference between the original maximum and original minimum. MinMaxScaler preserves the shape of the original distribution."
   ]
  },
  {
   "cell_type": "code",
   "execution_count": null,
   "id": "69ff6d09",
   "metadata": {
    "execution": {
     "iopub.execute_input": "2021-08-25T15:25:55.251336Z",
     "iopub.status.busy": "2021-08-25T15:25:55.250719Z",
     "iopub.status.idle": "2021-08-25T15:25:55.254032Z",
     "shell.execute_reply": "2021-08-25T15:25:55.254523Z",
     "shell.execute_reply.started": "2021-08-25T14:39:21.763790Z"
    },
    "papermill": {
     "duration": 0.133222,
     "end_time": "2021-08-25T15:25:55.254687",
     "exception": false,
     "start_time": "2021-08-25T15:25:55.121465",
     "status": "completed"
    },
    "pycharm": {
     "name": "#%%\n"
    },
    "tags": []
   },
   "outputs": [],
   "source": [
    "# deleting date column and normalizing using MinMax Scaler\n",
    "\n",
    "del closedf['Date']\n",
    "scaler=MinMaxScaler(feature_range=(0,1))\n",
    "closedf=scaler.fit_transform(np.array(closedf).reshape(-1,1))\n",
    "print(closedf.shape)"
   ]
  },
  {
   "cell_type": "markdown",
   "id": "ff56e76b",
   "metadata": {
    "papermill": {
     "duration": 0.123413,
     "end_time": "2021-08-25T15:25:55.501943",
     "exception": false,
     "start_time": "2021-08-25T15:25:55.378530",
     "status": "completed"
    },
    "pycharm": {
     "name": "#%% md\n"
    },
    "tags": []
   },
   "source": [
    "* ### Slicing data into Training set and Testing set"
   ]
  },
  {
   "cell_type": "code",
   "execution_count": null,
   "id": "04e82628",
   "metadata": {
    "execution": {
     "iopub.execute_input": "2021-08-25T15:25:55.761456Z",
     "iopub.status.busy": "2021-08-25T15:25:55.760798Z",
     "iopub.status.idle": "2021-08-25T15:25:55.765880Z",
     "shell.execute_reply": "2021-08-25T15:25:55.765290Z",
     "shell.execute_reply.started": "2021-08-25T14:39:21.773467Z"
    },
    "papermill": {
     "duration": 0.138154,
     "end_time": "2021-08-25T15:25:55.766002",
     "exception": false,
     "start_time": "2021-08-25T15:25:55.627848",
     "status": "completed"
    },
    "pycharm": {
     "name": "#%%\n"
    },
    "tags": []
   },
   "outputs": [],
   "source": [
    "# we keep the training set as 60% and 40% testing set\n",
    "\n",
    "training_size=int(len(closedf)*0.60)\n",
    "test_size=len(closedf)-training_size\n",
    "train_data,test_data=closedf[0:training_size,:],closedf[training_size:len(closedf),:1]\n",
    "print(\"train_data: \", train_data.shape)\n",
    "print(\"test_data: \", test_data.shape)"
   ]
  },
  {
   "cell_type": "markdown",
   "id": "8ba2fa04",
   "metadata": {
    "papermill": {
     "duration": 0.126914,
     "end_time": "2021-08-25T15:25:56.017459",
     "exception": false,
     "start_time": "2021-08-25T15:25:55.890545",
     "status": "completed"
    },
    "pycharm": {
     "name": "#%% md\n"
    },
    "tags": []
   },
   "source": [
    "* ### Now we Transform the Close price based on Time-series-analysis forecasting requirement , Here we will take 15   "
   ]
  },
  {
   "cell_type": "code",
   "execution_count": null,
   "id": "95aea656",
   "metadata": {
    "execution": {
     "iopub.execute_input": "2021-08-25T15:25:56.279629Z",
     "iopub.status.busy": "2021-08-25T15:25:56.278921Z",
     "iopub.status.idle": "2021-08-25T15:25:56.282043Z",
     "shell.execute_reply": "2021-08-25T15:25:56.281506Z",
     "shell.execute_reply.started": "2021-08-25T14:39:21.785232Z"
    },
    "papermill": {
     "duration": 0.135448,
     "end_time": "2021-08-25T15:25:56.282192",
     "exception": false,
     "start_time": "2021-08-25T15:25:56.146744",
     "status": "completed"
    },
    "pycharm": {
     "name": "#%%\n"
    },
    "tags": []
   },
   "outputs": [],
   "source": [
    "# convert an array of values into a dataset matrix\n",
    "\n",
    "def create_dataset(dataset, time_step=1):\n",
    "    dataX, dataY = [], []\n",
    "    for i in range(len(dataset)-time_step-1):\n",
    "        a = dataset[i:(i+time_step), 0]   ###i=0, 0,1,2,3-----99   100 \n",
    "        dataX.append(a)\n",
    "        dataY.append(dataset[i + time_step, 0])\n",
    "    return np.array(dataX), np.array(dataY)"
   ]
  },
  {
   "cell_type": "code",
   "execution_count": null,
   "id": "bfd6e71d",
   "metadata": {
    "execution": {
     "iopub.execute_input": "2021-08-25T15:25:56.540390Z",
     "iopub.status.busy": "2021-08-25T15:25:56.539774Z",
     "iopub.status.idle": "2021-08-25T15:25:56.545223Z",
     "shell.execute_reply": "2021-08-25T15:25:56.544099Z",
     "shell.execute_reply.started": "2021-08-25T14:39:21.797281Z"
    },
    "papermill": {
     "duration": 0.137552,
     "end_time": "2021-08-25T15:25:56.545463",
     "exception": false,
     "start_time": "2021-08-25T15:25:56.407911",
     "status": "completed"
    },
    "pycharm": {
     "name": "#%%\n"
    },
    "tags": []
   },
   "outputs": [],
   "source": [
    "time_step = 15\n",
    "X_train, y_train = create_dataset(train_data, time_step)\n",
    "X_test, y_test = create_dataset(test_data, time_step)\n",
    "\n",
    "print(\"X_train: \", X_train.shape)\n",
    "print(\"y_train: \", y_train.shape)\n",
    "print(\"X_test: \", X_test.shape)\n",
    "print(\"y_test\", y_test.shape)"
   ]
  },
  {
   "cell_type": "code",
   "execution_count": null,
   "id": "71276d05",
   "metadata": {
    "execution": {
     "iopub.execute_input": "2021-08-25T15:25:56.807075Z",
     "iopub.status.busy": "2021-08-25T15:25:56.806438Z",
     "iopub.status.idle": "2021-08-25T15:25:56.809597Z",
     "shell.execute_reply": "2021-08-25T15:25:56.810132Z",
     "shell.execute_reply.started": "2021-08-25T14:39:21.812047Z"
    },
    "papermill": {
     "duration": 0.136453,
     "end_time": "2021-08-25T15:25:56.810292",
     "exception": false,
     "start_time": "2021-08-25T15:25:56.673839",
     "status": "completed"
    },
    "pycharm": {
     "name": "#%%\n"
    },
    "tags": []
   },
   "outputs": [],
   "source": [
    "# reshape input to be [samples, time steps, features] which is required for LSTM\n",
    "X_train =X_train.reshape(X_train.shape[0],X_train.shape[1] , 1)\n",
    "X_test = X_test.reshape(X_test.shape[0],X_test.shape[1] , 1)\n",
    "\n",
    "print(\"X_train: \", X_train.shape)\n",
    "print(\"X_test: \", X_test.shape)"
   ]
  },
  {
   "cell_type": "markdown",
   "id": "65a92293",
   "metadata": {
    "papermill": {
     "duration": 0.126662,
     "end_time": "2021-08-25T15:25:57.063190",
     "exception": false,
     "start_time": "2021-08-25T15:25:56.936528",
     "status": "completed"
    },
    "pycharm": {
     "name": "#%% md\n"
    },
    "tags": []
   },
   "source": [
    "* # Actuall Model Building"
   ]
  },
  {
   "cell_type": "code",
   "execution_count": null,
   "id": "820260b5",
   "metadata": {
    "execution": {
     "iopub.execute_input": "2021-08-25T15:25:57.327518Z",
     "iopub.status.busy": "2021-08-25T15:25:57.326780Z",
     "iopub.status.idle": "2021-08-25T15:25:57.534165Z",
     "shell.execute_reply": "2021-08-25T15:25:57.534803Z",
     "shell.execute_reply.started": "2021-08-25T14:39:21.823807Z"
    },
    "papermill": {
     "duration": 0.341937,
     "end_time": "2021-08-25T15:25:57.534983",
     "exception": false,
     "start_time": "2021-08-25T15:25:57.193046",
     "status": "completed"
    },
    "pycharm": {
     "name": "#%%\n"
    },
    "tags": []
   },
   "outputs": [],
   "source": [
    "model=Sequential()\n",
    "\n",
    "model.add(LSTM(10,input_shape=(None,1),activation=\"relu\"))\n",
    "\n",
    "model.add(Dense(1))\n",
    "\n",
    "model.compile(loss=\"mean_squared_error\",optimizer=\"adam\")"
   ]
  },
  {
   "cell_type": "code",
   "execution_count": null,
   "id": "022be768",
   "metadata": {
    "execution": {
     "iopub.execute_input": "2021-08-25T15:25:57.792705Z",
     "iopub.status.busy": "2021-08-25T15:25:57.792091Z",
     "iopub.status.idle": "2021-08-25T15:26:21.170821Z",
     "shell.execute_reply": "2021-08-25T15:26:21.171508Z",
     "shell.execute_reply.started": "2021-08-25T14:39:22.049386Z"
    },
    "papermill": {
     "duration": 23.508827,
     "end_time": "2021-08-25T15:26:21.171744",
     "exception": false,
     "start_time": "2021-08-25T15:25:57.662917",
     "status": "completed"
    },
    "pycharm": {
     "name": "#%%\n"
    },
    "tags": []
   },
   "outputs": [],
   "source": [
    "history = model.fit(X_train,y_train,validation_data=(X_test,y_test),epochs=200,batch_size=32,verbose=1)"
   ]
  },
  {
   "cell_type": "markdown",
   "id": "1f123772",
   "metadata": {
    "papermill": {
     "duration": 0.259206,
     "end_time": "2021-08-25T15:26:21.691177",
     "exception": false,
     "start_time": "2021-08-25T15:26:21.431971",
     "status": "completed"
    },
    "pycharm": {
     "name": "#%% md\n"
    },
    "tags": []
   },
   "source": [
    "- ### Plotting Loss vs Validation loss "
   ]
  },
  {
   "cell_type": "code",
   "execution_count": null,
   "id": "7704cf70",
   "metadata": {
    "execution": {
     "iopub.execute_input": "2021-08-25T15:26:22.215321Z",
     "iopub.status.busy": "2021-08-25T15:26:22.214672Z",
     "iopub.status.idle": "2021-08-25T15:26:22.413901Z",
     "shell.execute_reply": "2021-08-25T15:26:22.414430Z",
     "shell.execute_reply.started": "2021-08-25T14:39:47.240018Z"
    },
    "papermill": {
     "duration": 0.46315,
     "end_time": "2021-08-25T15:26:22.414609",
     "exception": false,
     "start_time": "2021-08-25T15:26:21.951459",
     "status": "completed"
    },
    "pycharm": {
     "name": "#%%\n"
    },
    "tags": []
   },
   "outputs": [],
   "source": [
    "loss = history.history['loss']\n",
    "val_loss = history.history['val_loss']\n",
    "\n",
    "epochs = range(len(loss))\n",
    "\n",
    "plt.plot(epochs, loss, 'r', label='Training loss')\n",
    "plt.plot(epochs, val_loss, 'b', label='Validation loss')\n",
    "plt.title('Training and validation loss')\n",
    "plt.legend(loc=0)\n",
    "plt.figure()\n",
    "\n",
    "\n",
    "plt.show()"
   ]
  },
  {
   "cell_type": "code",
   "execution_count": null,
   "id": "d55a3113",
   "metadata": {
    "execution": {
     "iopub.execute_input": "2021-08-25T15:26:22.944446Z",
     "iopub.status.busy": "2021-08-25T15:26:22.943770Z",
     "iopub.status.idle": "2021-08-25T15:26:23.204877Z",
     "shell.execute_reply": "2021-08-25T15:26:23.204339Z",
     "shell.execute_reply.started": "2021-08-25T14:39:47.455322Z"
    },
    "papermill": {
     "duration": 0.52587,
     "end_time": "2021-08-25T15:26:23.205024",
     "exception": false,
     "start_time": "2021-08-25T15:26:22.679154",
     "status": "completed"
    },
    "pycharm": {
     "name": "#%%\n"
    },
    "tags": []
   },
   "outputs": [],
   "source": [
    "### Lets Do the prediction and check performance metrics\n",
    "train_predict=model.predict(X_train)\n",
    "test_predict=model.predict(X_test)\n",
    "train_predict.shape, test_predict.shape"
   ]
  },
  {
   "cell_type": "markdown",
   "id": "4b792151",
   "metadata": {
    "papermill": {
     "duration": 0.260401,
     "end_time": "2021-08-25T15:26:23.726232",
     "exception": false,
     "start_time": "2021-08-25T15:26:23.465831",
     "status": "completed"
    },
    "pycharm": {
     "name": "#%% md\n"
    },
    "tags": []
   },
   "source": [
    "- # Model Evaluation"
   ]
  },
  {
   "cell_type": "code",
   "execution_count": null,
   "id": "07c75758",
   "metadata": {
    "execution": {
     "iopub.execute_input": "2021-08-25T15:26:24.283032Z",
     "iopub.status.busy": "2021-08-25T15:26:24.282389Z",
     "iopub.status.idle": "2021-08-25T15:26:24.284903Z",
     "shell.execute_reply": "2021-08-25T15:26:24.285418Z",
     "shell.execute_reply.started": "2021-08-25T14:39:47.736833Z"
    },
    "papermill": {
     "duration": 0.2992,
     "end_time": "2021-08-25T15:26:24.285570",
     "exception": false,
     "start_time": "2021-08-25T15:26:23.986370",
     "status": "completed"
    },
    "pycharm": {
     "name": "#%%\n"
    },
    "tags": []
   },
   "outputs": [],
   "source": [
    "# Transform back to original form\n",
    "\n",
    "train_predict = scaler.inverse_transform(train_predict)\n",
    "test_predict = scaler.inverse_transform(test_predict)\n",
    "original_ytrain = scaler.inverse_transform(y_train.reshape(-1,1)) \n",
    "original_ytest = scaler.inverse_transform(y_test.reshape(-1,1)) "
   ]
  },
  {
   "cell_type": "markdown",
   "id": "c2786df0",
   "metadata": {
    "papermill": {
     "duration": 0.26139,
     "end_time": "2021-08-25T15:26:24.811407",
     "exception": false,
     "start_time": "2021-08-25T15:26:24.550017",
     "status": "completed"
    },
    "pycharm": {
     "name": "#%% md\n"
    },
    "tags": []
   },
   "source": [
    "- ## Evaluation metrices RMSE, MSE and MAE"
   ]
  },
  {
   "cell_type": "code",
   "execution_count": null,
   "id": "265688c4",
   "metadata": {
    "execution": {
     "iopub.execute_input": "2021-08-25T15:26:25.344459Z",
     "iopub.status.busy": "2021-08-25T15:26:25.343728Z",
     "iopub.status.idle": "2021-08-25T15:26:25.350422Z",
     "shell.execute_reply": "2021-08-25T15:26:25.351124Z",
     "shell.execute_reply.started": "2021-08-25T14:39:47.747692Z"
    },
    "papermill": {
     "duration": 0.277239,
     "end_time": "2021-08-25T15:26:25.351349",
     "exception": false,
     "start_time": "2021-08-25T15:26:25.074110",
     "status": "completed"
    },
    "pycharm": {
     "name": "#%%\n"
    },
    "tags": []
   },
   "outputs": [],
   "source": [
    "# Evaluation metrices RMSE and MAE\n",
    "print(\"Train data RMSE: \", math.sqrt(mean_squared_error(original_ytrain,train_predict)))\n",
    "print(\"Train data MSE: \", mean_squared_error(original_ytrain,train_predict))\n",
    "print(\"Train data MAE: \", mean_absolute_error(original_ytrain,train_predict))\n",
    "print(\"-------------------------------------------------------------------------------------\")\n",
    "print(\"Test data RMSE: \", math.sqrt(mean_squared_error(original_ytest,test_predict)))\n",
    "print(\"Test data MSE: \", mean_squared_error(original_ytest,test_predict))\n",
    "print(\"Test data MAE: \", mean_absolute_error(original_ytest,test_predict))"
   ]
  },
  {
   "cell_type": "markdown",
   "id": "0a5395f4",
   "metadata": {
    "papermill": {
     "duration": 0.265396,
     "end_time": "2021-08-25T15:26:25.880564",
     "exception": false,
     "start_time": "2021-08-25T15:26:25.615168",
     "status": "completed"
    },
    "pycharm": {
     "name": "#%% md\n"
    },
    "tags": []
   },
   "source": [
    "- ## Variance Regression Score"
   ]
  },
  {
   "cell_type": "code",
   "execution_count": null,
   "id": "0a52b5ca",
   "metadata": {
    "execution": {
     "iopub.execute_input": "2021-08-25T15:26:26.412264Z",
     "iopub.status.busy": "2021-08-25T15:26:26.411405Z",
     "iopub.status.idle": "2021-08-25T15:26:26.415923Z",
     "shell.execute_reply": "2021-08-25T15:26:26.415197Z",
     "shell.execute_reply.started": "2021-08-25T14:39:47.760865Z"
    },
    "papermill": {
     "duration": 0.273421,
     "end_time": "2021-08-25T15:26:26.416135",
     "exception": false,
     "start_time": "2021-08-25T15:26:26.142714",
     "status": "completed"
    },
    "pycharm": {
     "name": "#%%\n"
    },
    "tags": []
   },
   "outputs": [],
   "source": [
    "print(\"Train data explained variance regression score:\", \n",
    "      explained_variance_score(original_ytrain, train_predict))\n",
    "print(\"Test data explained variance regression score:\", \n",
    "      explained_variance_score(original_ytest, test_predict))"
   ]
  },
  {
   "cell_type": "markdown",
   "id": "22b31cc0",
   "metadata": {
    "papermill": {
     "duration": 0.263276,
     "end_time": "2021-08-25T15:26:26.944093",
     "exception": false,
     "start_time": "2021-08-25T15:26:26.680817",
     "status": "completed"
    },
    "pycharm": {
     "name": "#%% md\n"
    },
    "tags": []
   },
   "source": [
    "- ## R square score for regression"
   ]
  },
  {
   "cell_type": "code",
   "execution_count": null,
   "id": "804d7681",
   "metadata": {
    "execution": {
     "iopub.execute_input": "2021-08-25T15:26:27.481493Z",
     "iopub.status.busy": "2021-08-25T15:26:27.480753Z",
     "iopub.status.idle": "2021-08-25T15:26:27.484838Z",
     "shell.execute_reply": "2021-08-25T15:26:27.484328Z",
     "shell.execute_reply.started": "2021-08-25T14:39:47.772316Z"
    },
    "papermill": {
     "duration": 0.272709,
     "end_time": "2021-08-25T15:26:27.484975",
     "exception": false,
     "start_time": "2021-08-25T15:26:27.212266",
     "status": "completed"
    },
    "pycharm": {
     "name": "#%%\n"
    },
    "tags": []
   },
   "outputs": [],
   "source": [
    "print(\"Train data R2 score:\", r2_score(original_ytrain, train_predict))\n",
    "print(\"Test data R2 score:\", r2_score(original_ytest, test_predict))"
   ]
  },
  {
   "cell_type": "markdown",
   "id": "683e5e4b",
   "metadata": {
    "papermill": {
     "duration": 0.262141,
     "end_time": "2021-08-25T15:26:28.006836",
     "exception": false,
     "start_time": "2021-08-25T15:26:27.744695",
     "status": "completed"
    },
    "pycharm": {
     "name": "#%% md\n"
    },
    "tags": []
   },
   "source": [
    "- ## Regression Loss Mean Gamma deviance regression loss (MGD) and Mean Poisson deviance regression loss (MPD)"
   ]
  },
  {
   "cell_type": "code",
   "execution_count": null,
   "id": "e1845daa",
   "metadata": {
    "execution": {
     "iopub.execute_input": "2021-08-25T15:26:28.540480Z",
     "iopub.status.busy": "2021-08-25T15:26:28.539819Z",
     "iopub.status.idle": "2021-08-25T15:26:28.544640Z",
     "shell.execute_reply": "2021-08-25T15:26:28.544024Z",
     "shell.execute_reply.started": "2021-08-25T14:39:47.787961Z"
    },
    "papermill": {
     "duration": 0.27494,
     "end_time": "2021-08-25T15:26:28.544793",
     "exception": false,
     "start_time": "2021-08-25T15:26:28.269853",
     "status": "completed"
    },
    "pycharm": {
     "name": "#%%\n"
    },
    "tags": []
   },
   "outputs": [],
   "source": [
    "print(\"Train data MGD: \", mean_gamma_deviance(original_ytrain, train_predict))\n",
    "print(\"Test data MGD: \", mean_gamma_deviance(original_ytest, test_predict))\n",
    "print(\"----------------------------------------------------------------------\")\n",
    "print(\"Train data MPD: \", mean_poisson_deviance(original_ytrain, train_predict))\n",
    "print(\"Test data MPD: \", mean_poisson_deviance(original_ytest, test_predict))"
   ]
  },
  {
   "cell_type": "markdown",
   "id": "2dba8fa8",
   "metadata": {
    "papermill": {
     "duration": 0.262784,
     "end_time": "2021-08-25T15:26:29.070108",
     "exception": false,
     "start_time": "2021-08-25T15:26:28.807324",
     "status": "completed"
    },
    "pycharm": {
     "name": "#%% md\n"
    },
    "tags": []
   },
   "source": [
    "- # Comparision of original Bitcoin close price and predicted close price"
   ]
  },
  {
   "cell_type": "code",
   "execution_count": null,
   "id": "a3477c71",
   "metadata": {
    "execution": {
     "iopub.execute_input": "2021-08-25T15:26:29.594683Z",
     "iopub.status.busy": "2021-08-25T15:26:29.594111Z",
     "iopub.status.idle": "2021-08-25T15:26:29.736142Z",
     "shell.execute_reply": "2021-08-25T15:26:29.735622Z",
     "shell.execute_reply.started": "2021-08-25T14:39:47.801835Z"
    },
    "papermill": {
     "duration": 0.406341,
     "end_time": "2021-08-25T15:26:29.736282",
     "exception": false,
     "start_time": "2021-08-25T15:26:29.329941",
     "status": "completed"
    },
    "pycharm": {
     "name": "#%%\n"
    },
    "tags": []
   },
   "outputs": [],
   "source": [
    "# shift train predictions for plotting\n",
    "\n",
    "look_back=time_step\n",
    "trainPredictPlot = np.empty_like(closedf)\n",
    "trainPredictPlot[:, :] = np.nan\n",
    "trainPredictPlot[look_back:len(train_predict)+look_back, :] = train_predict\n",
    "print(\"Train predicted data: \", trainPredictPlot.shape)\n",
    "\n",
    "# shift test predictions for plotting\n",
    "testPredictPlot = np.empty_like(closedf)\n",
    "testPredictPlot[:, :] = np.nan\n",
    "testPredictPlot[len(train_predict)+(look_back*2)+1:len(closedf)-1, :] = test_predict\n",
    "print(\"Test predicted data: \", testPredictPlot.shape)\n",
    "\n",
    "names = cycle(['Original close price','Train predicted close price','Test predicted close price'])\n",
    "\n",
    "\n",
    "plotdf = pd.DataFrame({'date': close_stock['Date'],\n",
    "                       'original_close': close_stock['Close'],\n",
    "                      'train_predicted_close': trainPredictPlot.reshape(1,-1)[0].tolist(),\n",
    "                      'test_predicted_close': testPredictPlot.reshape(1,-1)[0].tolist()})\n",
    "\n",
    "fig = px.line(plotdf,x=plotdf['date'], y=[plotdf['original_close'],plotdf['train_predicted_close'],\n",
    "                                          plotdf['test_predicted_close']],\n",
    "              labels={'value':'Stock price','date': 'Date'})\n",
    "fig.update_layout(title_text='Comparision between original close price vs predicted close price',\n",
    "                  plot_bgcolor='white', font_size=15, font_color='black', legend_title_text='Close Price')\n",
    "fig.for_each_trace(lambda t:  t.update(name = next(names)))\n",
    "\n",
    "fig.update_xaxes(showgrid=False)\n",
    "fig.update_yaxes(showgrid=False)\n",
    "fig.show()"
   ]
  },
  {
   "cell_type": "markdown",
   "id": "5a76afb6",
   "metadata": {
    "papermill": {
     "duration": 0.262192,
     "end_time": "2021-08-25T15:26:30.261950",
     "exception": false,
     "start_time": "2021-08-25T15:26:29.999758",
     "status": "completed"
    },
    "pycharm": {
     "name": "#%% md\n"
    },
    "tags": []
   },
   "source": [
    "- # Predicting next 30 days"
   ]
  },
  {
   "cell_type": "code",
   "execution_count": null,
   "id": "beb49f38",
   "metadata": {
    "execution": {
     "iopub.execute_input": "2021-08-25T15:26:30.798401Z",
     "iopub.status.busy": "2021-08-25T15:26:30.797744Z",
     "iopub.status.idle": "2021-08-25T15:26:31.897580Z",
     "shell.execute_reply": "2021-08-25T15:26:31.897011Z",
     "shell.execute_reply.started": "2021-08-25T14:39:47.958774Z"
    },
    "papermill": {
     "duration": 1.372971,
     "end_time": "2021-08-25T15:26:31.897712",
     "exception": false,
     "start_time": "2021-08-25T15:26:30.524741",
     "status": "completed"
    },
    "pycharm": {
     "name": "#%%\n"
    },
    "tags": []
   },
   "outputs": [],
   "source": [
    "x_input=test_data[len(test_data)-time_step:].reshape(1,-1)\n",
    "temp_input=list(x_input)\n",
    "temp_input=temp_input[0].tolist()\n",
    "\n",
    "from numpy import array\n",
    "\n",
    "lst_output=[]\n",
    "n_steps=time_step\n",
    "i=0\n",
    "pred_days = 30\n",
    "while(i<pred_days):\n",
    "    \n",
    "    if(len(temp_input)>time_step):\n",
    "        \n",
    "        x_input=np.array(temp_input[1:])\n",
    "        #print(\"{} day input {}\".format(i,x_input))\n",
    "        x_input = x_input.reshape(1,-1)\n",
    "        x_input = x_input.reshape((1, n_steps, 1))\n",
    "        \n",
    "        yhat = model.predict(x_input, verbose=0)\n",
    "        #print(\"{} day output {}\".format(i,yhat))\n",
    "        temp_input.extend(yhat[0].tolist())\n",
    "        temp_input=temp_input[1:]\n",
    "        #print(temp_input)\n",
    "       \n",
    "        lst_output.extend(yhat.tolist())\n",
    "        i=i+1\n",
    "        \n",
    "    else:\n",
    "        \n",
    "        x_input = x_input.reshape((1, n_steps,1))\n",
    "        yhat = model.predict(x_input, verbose=0)\n",
    "        temp_input.extend(yhat[0].tolist())\n",
    "        \n",
    "        lst_output.extend(yhat.tolist())\n",
    "        i=i+1\n",
    "               \n",
    "print(\"Output of predicted next days: \", len(lst_output))"
   ]
  },
  {
   "cell_type": "markdown",
   "id": "26860945",
   "metadata": {
    "papermill": {
     "duration": 0.270338,
     "end_time": "2021-08-25T15:26:32.433546",
     "exception": false,
     "start_time": "2021-08-25T15:26:32.163208",
     "status": "completed"
    },
    "pycharm": {
     "name": "#%% md\n"
    },
    "tags": []
   },
   "source": [
    "- # Plotting last 15 days of dataset and next predicted 30 days"
   ]
  },
  {
   "cell_type": "code",
   "execution_count": null,
   "id": "64fa43b6",
   "metadata": {
    "execution": {
     "iopub.execute_input": "2021-08-25T15:26:32.971099Z",
     "iopub.status.busy": "2021-08-25T15:26:32.970125Z",
     "iopub.status.idle": "2021-08-25T15:26:32.973799Z",
     "shell.execute_reply": "2021-08-25T15:26:32.974493Z",
     "shell.execute_reply.started": "2021-08-25T14:39:49.134916Z"
    },
    "papermill": {
     "duration": 0.277919,
     "end_time": "2021-08-25T15:26:32.974715",
     "exception": false,
     "start_time": "2021-08-25T15:26:32.696796",
     "status": "completed"
    },
    "pycharm": {
     "name": "#%%\n"
    },
    "tags": []
   },
   "outputs": [],
   "source": [
    "last_days=np.arange(1,time_step+1)\n",
    "day_pred=np.arange(time_step+1,time_step+pred_days+1)\n",
    "print(last_days)\n",
    "print(day_pred)"
   ]
  },
  {
   "cell_type": "code",
   "execution_count": 3,
   "id": "e398443a",
   "metadata": {
    "execution": {
     "iopub.execute_input": "2021-08-25T15:26:33.522339Z",
     "iopub.status.busy": "2021-08-25T15:26:33.518904Z",
     "iopub.status.idle": "2021-08-25T15:26:33.599954Z",
     "shell.execute_reply": "2021-08-25T15:26:33.600419Z",
     "shell.execute_reply.started": "2021-08-25T14:39:49.142322Z"
    },
    "papermill": {
     "duration": 0.361255,
     "end_time": "2021-08-25T15:26:33.600604",
     "exception": false,
     "start_time": "2021-08-25T15:26:33.239349",
     "status": "completed"
    },
    "pycharm": {
     "name": "#%%\n"
    },
    "tags": []
   },
   "outputs": [
    {
     "ename": "NameError",
     "evalue": "name 'last_days' is not defined",
     "output_type": "error",
     "traceback": [
      "\u001b[1;31m---------------------------------------------------------------------------\u001b[0m",
      "\u001b[1;31mNameError\u001b[0m                                 Traceback (most recent call last)",
      "\u001b[1;32m<ipython-input-3-99b7781bcf27>\u001b[0m in \u001b[0;36m<module>\u001b[1;34m\u001b[0m\n\u001b[1;32m----> 1\u001b[1;33m \u001b[0mtemp_mat\u001b[0m \u001b[1;33m=\u001b[0m \u001b[0mnp\u001b[0m\u001b[1;33m.\u001b[0m\u001b[0mempty\u001b[0m\u001b[1;33m(\u001b[0m\u001b[1;33m(\u001b[0m\u001b[0mlen\u001b[0m\u001b[1;33m(\u001b[0m\u001b[0mlast_days\u001b[0m\u001b[1;33m)\u001b[0m\u001b[1;33m+\u001b[0m\u001b[0mpred_days\u001b[0m\u001b[1;33m+\u001b[0m\u001b[1;36m1\u001b[0m\u001b[1;33m,\u001b[0m\u001b[1;36m1\u001b[0m\u001b[1;33m)\u001b[0m\u001b[1;33m)\u001b[0m\u001b[1;33m\u001b[0m\u001b[1;33m\u001b[0m\u001b[0m\n\u001b[0m\u001b[0;32m      2\u001b[0m \u001b[0mtemp_mat\u001b[0m\u001b[1;33m[\u001b[0m\u001b[1;33m:\u001b[0m\u001b[1;33m]\u001b[0m \u001b[1;33m=\u001b[0m \u001b[0mnp\u001b[0m\u001b[1;33m.\u001b[0m\u001b[0mnan\u001b[0m\u001b[1;33m\u001b[0m\u001b[1;33m\u001b[0m\u001b[0m\n\u001b[0;32m      3\u001b[0m \u001b[0mtemp_mat\u001b[0m \u001b[1;33m=\u001b[0m \u001b[0mtemp_mat\u001b[0m\u001b[1;33m.\u001b[0m\u001b[0mreshape\u001b[0m\u001b[1;33m(\u001b[0m\u001b[1;36m1\u001b[0m\u001b[1;33m,\u001b[0m\u001b[1;33m-\u001b[0m\u001b[1;36m1\u001b[0m\u001b[1;33m)\u001b[0m\u001b[1;33m.\u001b[0m\u001b[0mtolist\u001b[0m\u001b[1;33m(\u001b[0m\u001b[1;33m)\u001b[0m\u001b[1;33m[\u001b[0m\u001b[1;36m0\u001b[0m\u001b[1;33m]\u001b[0m\u001b[1;33m\u001b[0m\u001b[1;33m\u001b[0m\u001b[0m\n\u001b[0;32m      4\u001b[0m \u001b[1;33m\u001b[0m\u001b[0m\n\u001b[0;32m      5\u001b[0m \u001b[0mlast_original_days_value\u001b[0m \u001b[1;33m=\u001b[0m \u001b[0mtemp_mat\u001b[0m\u001b[1;33m\u001b[0m\u001b[1;33m\u001b[0m\u001b[0m\n",
      "\u001b[1;31mNameError\u001b[0m: name 'last_days' is not defined"
     ]
    }
   ],
   "source": [
    "temp_mat = np.empty((len(last_days)+pred_days+1,1))\n",
    "temp_mat[:] = np.nan\n",
    "temp_mat = temp_mat.reshape(1,-1).tolist()[0]\n",
    "\n",
    "last_original_days_value = temp_mat\n",
    "next_predicted_days_value = temp_mat\n",
    "\n",
    "last_original_days_value[0:time_step+1] = scaler.inverse_transform(closedf[len(closedf)-time_step:]).reshape(1,-1).tolist()[0]\n",
    "next_predicted_days_value[time_step+1:] = scaler.inverse_transform(np.array(lst_output).reshape(-1,1)).reshape(1,-1).tolist()[0]\n",
    "\n",
    "new_pred_plot = pd.DataFrame({\n",
    "    'last_original_days_value':last_original_days_value,\n",
    "    'next_predicted_days_value':next_predicted_days_value\n",
    "})\n",
    "\n",
    "names = cycle(['Last 15 days close price','Predicted next 30 days close price'])\n",
    "\n",
    "fig = px.line(new_pred_plot,x=new_pred_plot.index, y=[new_pred_plot['last_original_days_value'],\n",
    "                                                      new_pred_plot['next_predicted_days_value']],\n",
    "              labels={'value': 'Stock price','index': 'Timestamp'})\n",
    "fig.update_layout(title_text='Compare last 15 days vs next 30 days',\n",
    "                  plot_bgcolor='white', font_size=15, font_color='black',legend_title_text='Close Price')\n",
    "\n",
    "fig.for_each_trace(lambda t:  t.update(name = next(names)))\n",
    "fig.update_xaxes(showgrid=False)\n",
    "fig.update_yaxes(showgrid=False)\n",
    "fig.show()\n",
    "\n"
   ]
  },
  {
   "cell_type": "markdown",
   "id": "26c00a96",
   "metadata": {
    "papermill": {
     "duration": 0.269051,
     "end_time": "2021-08-25T15:26:34.140809",
     "exception": false,
     "start_time": "2021-08-25T15:26:33.871758",
     "status": "completed"
    },
    "pycharm": {
     "name": "#%% md\n"
    },
    "tags": []
   },
   "source": [
    "- # Plotting entire Closing Stock Price with next 30 days period of prediction"
   ]
  },
  {
   "cell_type": "code",
   "execution_count": null,
   "id": "1c681c80",
   "metadata": {
    "execution": {
     "iopub.execute_input": "2021-08-25T15:26:34.692816Z",
     "iopub.status.busy": "2021-08-25T15:26:34.692132Z",
     "iopub.status.idle": "2021-08-25T15:26:34.757609Z",
     "shell.execute_reply": "2021-08-25T15:26:34.756636Z",
     "shell.execute_reply.started": "2021-08-25T14:39:49.242081Z"
    },
    "papermill": {
     "duration": 0.353683,
     "end_time": "2021-08-25T15:26:34.757760",
     "exception": false,
     "start_time": "2021-08-25T15:26:34.404077",
     "status": "completed"
    },
    "pycharm": {
     "name": "#%%\n"
    },
    "tags": []
   },
   "outputs": [],
   "source": [
    "lstmdf=closedf.tolist()\n",
    "lstmdf.extend((np.array(lst_output).reshape(-1,1)).tolist())\n",
    "lstmdf=scaler.inverse_transform(lstmdf).reshape(1,-1).tolist()[0]\n",
    "\n",
    "names = cycle(['Close price'])\n",
    "\n",
    "fig = px.line(lstmdf,labels={'value': 'Stock price','index': 'Timestamp'})\n",
    "fig.update_layout(title_text='Plotting whole closing stock price with prediction',\n",
    "                  plot_bgcolor='white', font_size=15, font_color='black',legend_title_text='Stock')\n",
    "\n",
    "fig.for_each_trace(lambda t:  t.update(name = next(names)))\n",
    "\n",
    "fig.update_xaxes(showgrid=False)\n",
    "fig.update_yaxes(showgrid=False)\n",
    "fig.show()"
   ]
  },
  {
   "cell_type": "markdown",
   "id": "932ff8d8",
   "metadata": {
    "papermill": {
     "duration": 0.291119,
     "end_time": "2021-08-25T15:26:35.318988",
     "exception": false,
     "start_time": "2021-08-25T15:26:35.027869",
     "status": "completed"
    },
    "pycharm": {
     "name": "#%% md\n"
    },
    "tags": []
   },
   "source": [
    "Thats it we are Done with Bitcoin Price Prediction using LSTM."
   ]
  }
 ],
 "metadata": {
  "kernelspec": {
   "display_name": "Python 3 (ipykernel)",
   "language": "python",
   "name": "python3"
  },
  "language_info": {
   "codemirror_mode": {
    "name": "ipython",
    "version": 3
   },
   "file_extension": ".py",
   "mimetype": "text/x-python",
   "name": "python",
   "nbconvert_exporter": "python",
   "pygments_lexer": "ipython3",
   "version": "3.9.10"
  },
  "papermill": {
   "default_parameters": {},
   "duration": 78.989472,
   "end_time": "2021-08-25T15:26:37.833221",
   "environment_variables": {},
   "exception": null,
   "input_path": "__notebook__.ipynb",
   "output_path": "__notebook__.ipynb",
   "parameters": {},
   "start_time": "2021-08-25T15:25:18.843749",
   "version": "2.3.3"
  }
 },
 "nbformat": 4,
 "nbformat_minor": 5
}
