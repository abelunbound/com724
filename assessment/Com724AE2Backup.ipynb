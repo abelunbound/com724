{
 "cells": [
  {
   "cell_type": "code",
   "execution_count": null,
   "outputs": [],
   "source": [
    "#### All dependencies\n",
    "\n",
    "## Data collection and visualisation\n",
    "\n",
    "import yfinance as yf\n",
    "import pandas as pd\n",
    "from pandas import  read_csv\n",
    "from pandas import set_option\n",
    "from matplotlib import pyplot as plt\n",
    "%matplotlib inline\n",
    "import matplotlib.dates as mpl_dates\n",
    "\n",
    "\n",
    "import plotly.offline as py\n",
    "import plotly.graph_objects as go\n",
    "import plotly.express as px\n",
    "from plotly.subplots import make_subplots\n",
    "\n",
    "plt.style.use('seaborn-darkgrid')\n",
    "\n",
    "\n",
    "## Prediction Engine, Featuring Engineering, Model Evaluation\n",
    "import warnings\n",
    "warnings.filterwarnings('ignore')\n",
    "import os\n",
    "# import pandas as pd\n",
    "import numpy as np\n",
    "import math\n",
    "import datetime as dt\n",
    "# import matplotlib.pyplot as plt\n",
    "\n",
    "from sklearn.metrics import mean_squared_error, mean_absolute_error, explained_variance_score, r2_score \n",
    "from sklearn.metrics import mean_poisson_deviance, mean_gamma_deviance, accuracy_score\n",
    "from sklearn.preprocessing import MinMaxScaler\n",
    "\n",
    "from itertools import product\n",
    "import statsmodels.api as sm\n",
    "\n",
    "import tensorflow as tf\n",
    "\n",
    "from keras.models import Sequential\n",
    "from keras.models import load_model\n",
    "from keras.layers import Activation, Dense, Dropout\n",
    "from keras.layers import LSTM\n",
    "\n",
    "from itertools import cycle\n",
    "# import plotly.offline as py\n",
    "# import plotly.graph_objects as go\n",
    "# import plotly.express as px\n",
    "# from plotly.subplots import make_subplots\n",
    "\n",
    "# plt.style.use('seaborn-darkgrid')\n",
    "\n"
   ],
   "metadata": {
    "collapsed": false,
    "pycharm": {
     "name": "#%%\n"
    }
   }
  },
  {
   "cell_type": "code",
   "execution_count": null,
   "outputs": [],
   "source": [
    "##Data Collection and Storage\n",
    "\n",
    "# ###Import relevant libraries\n",
    "\n",
    "# import yfinance as yf\n",
    "# import pandas as pd\n",
    "# from pandas import  read_csv\n",
    "# from pandas import set_option\n",
    "# from matplotlib import pyplot as plt\n",
    "# %matplotlib inline\n",
    "# import matplotlib.dates as mpl_dates\n",
    "\n",
    "\n",
    "\n",
    "###Import live data from YahooFinance! API and Store in a dataframe\n",
    "#Create an empty pandas dataframe\n",
    "df = pd.DataFrame()\n",
    "\n",
    "#Create a list with all crypto symbols. Use top 10 coins by market capitalisation according to CoinGecko.com\n",
    "crypto_ticker = ['BTC', 'ETH', 'USDT', 'USDC', 'BNB', 'BUSD', 'XRP', 'ADA', 'SOL', 'DOGE', 'DAI', 'DOT', 'MATIC', 'AVAX', \n",
    "                 'SHIB','TRX', 'UNI', 'WBTC', 'LEO', 'LTC', 'FTT', 'ETC', 'LINK', 'CRO', 'NEAR', 'XLM', 'XMR', 'ATOM', 'BCH',\n",
    "                 'ALGO', 'APE', 'FLOW', 'VET', 'MANA', 'SAND', 'ICP', 'XTZ', 'HBAR', 'FIL', 'AXS', 'THETA', 'EGLD', 'TUSD',\n",
    "                 'AAVE', 'EOS', 'QNT', 'HNT', 'BSV', 'KCS', 'USDP']\n",
    "\n",
    "\n",
    "#Extract data for each of the coins from YahooFinance! using a For loop.\n",
    "for each_crypto_ticker in crypto_ticker:\n",
    "    each_crypto_ticker_index = crypto_ticker.index(each_crypto_ticker)\n",
    "    crypto_data = yf.Ticker(f\"{each_crypto_ticker}-USD\").history(start='2019-01-01', end='2022-06-30', interval='1d')\n",
    "    crypto_dataframe = pd.DataFrame(crypto_data)\n",
    "    crypto_dataframe['crypto_ticker'] = each_crypto_ticker\n",
    "    df = pd.concat([df, crypto_dataframe])\n",
    "\n",
    "set_option('display.width', 500)\n",
    "df = df.rename_axis('cryptodate').reset_index()\n",
    "df.to_csv(\"soligencecryptodata_withdate.csv\")\n",
    "\n",
    "###Extract data to different dataframes to simplify data understanding for each cryptocurrency\n",
    "\n",
    "# Top 10\n",
    "BTC_crypto_data = df.loc[df['crypto_ticker'] == 'BTC']\n",
    "ETH_crypto_data = df.loc[df['crypto_ticker'] == 'ETH']\n",
    "USDT_crypto_data = df.loc[df['crypto_ticker'] == 'USDT']\n",
    "USDC_crypto_data = df.loc[df['crypto_ticker'] == 'USDC']\n",
    "BNB_crypto_data = df.loc[df['crypto_ticker'] == 'BNB']\n",
    "BUSD_crypto_data = df.loc[df['crypto_ticker'] == 'BUSD']\n",
    "XRP_crypto_data = df.loc[df['crypto_ticker'] == 'XRP']\n",
    "ADA_crypto_data = df.loc[df['crypto_ticker'] == 'ADA']\n",
    "SOL_crypto_data = df.loc[df['crypto_ticker'] == 'SOL']\n",
    "DOGE_crypto_data = df.loc[df['crypto_ticker'] == 'DOGE']\n",
    "\n",
    "#next 10 - 20\n",
    "DAI_crypto_data = df.loc[df['crypto_ticker'] == 'DAI']\n",
    "DOT_crypto_data = df.loc[df['crypto_ticker'] == 'DOT']\n",
    "MATIC_crypto_data = df.loc[df['crypto_ticker'] == 'MATIC']\n",
    "AVAX_crypto_data = df.loc[df['crypto_ticker'] == 'AVAX']\n",
    "SHIB_crypto_data = df.loc[df['crypto_ticker'] == 'SHIB']\n",
    "TRX_crypto_data = df.loc[df['crypto_ticker'] == 'UNI']\n",
    "UNI_crypto_data = df.loc[df['crypto_ticker'] == 'XRP']\n",
    "WBTC_crypto_data = df.loc[df['crypto_ticker'] == 'WBTC']\n",
    "LEO_crypto_data = df.loc[df['crypto_ticker'] == 'LEO']\n",
    "LTC_crypto_data = df.loc[df['crypto_ticker'] == 'LTC']\n",
    "\n",
    "\n",
    "# 20 - 30\n",
    "FTT_crypto_data = df.loc[df['crypto_ticker'] == 'FTT']\n",
    "ETC_crypto_data = df.loc[df['crypto_ticker'] == 'ETC']\n",
    "LINK_crypto_data = df.loc[df['crypto_ticker'] == 'LINK']\n",
    "CRO_crypto_data = df.loc[df['crypto_ticker'] == 'CRO']\n",
    "NEAR_crypto_data = df.loc[df['crypto_ticker'] == 'NEAR']\n",
    "XLM_crypto_data = df.loc[df['crypto_ticker'] == 'XLM']\n",
    "XMR_crypto_data = df.loc[df['crypto_ticker'] == 'XMR']\n",
    "ATOM_crypto_data = df.loc[df['crypto_ticker'] == 'ATOM']\n",
    "BCH_crypto_data = df.loc[df['crypto_ticker'] == 'BCH']\n",
    "ALGO_crypto_data = df.loc[df['crypto_ticker'] == 'ALGO']\n",
    "\n",
    "# 30 - 40\n",
    "\n",
    "APE_crypto_data = df.loc[df['crypto_ticker'] == 'APE']\n",
    "FLOW_crypto_data = df.loc[df['crypto_ticker'] == 'FLOW']\n",
    "VET_crypto_data = df.loc[df['crypto_ticker'] == 'VET']\n",
    "MANA_crypto_data = df.loc[df['crypto_ticker'] == 'MANA']\n",
    "SAND_crypto_data = df.loc[df['crypto_ticker'] == 'SAND']\n",
    "ICP_crypto_data = df.loc[df['crypto_ticker'] == 'ICP']\n",
    "XTZ_crypto_data = df.loc[df['crypto_ticker'] == 'XTZ']\n",
    "HBAR_crypto_data = df.loc[df['crypto_ticker'] == 'HBAR']\n",
    "FIL_crypto_data = df.loc[df['crypto_ticker'] == 'FIL']\n",
    "AXS_crypto_data = df.loc[df['crypto_ticker'] == 'AXS']\n",
    "\n",
    "# 40 - 50\n",
    "\n",
    "THETA_crypto_data = df.loc[df['crypto_ticker'] == 'THETA']\n",
    "EGLD_crypto_data = df.loc[df['crypto_ticker'] == 'EGLD']\n",
    "TUSD_crypto_data = df.loc[df['crypto_ticker'] == 'TUSD']\n",
    "AAVE_crypto_data = df.loc[df['crypto_ticker'] == 'AAVE']\n",
    "EOS_crypto_data = df.loc[df['crypto_ticker'] == 'EOS']\n",
    "QNT_crypto_data = df.loc[df['crypto_ticker'] == 'QNT']\n",
    "HNT_crypto_data = df.loc[df['crypto_ticker'] == 'HNT']\n",
    "BSV_crypto_data = df.loc[df['crypto_ticker'] == 'BSV']\n",
    "KCS_crypto_data = df.loc[df['crypto_ticker'] == 'KCS']\n",
    "USDP_crypto_data = df.loc[df['crypto_ticker'] == 'USDP']\n",
    "\n",
    "df"
   ],
   "metadata": {
    "collapsed": false,
    "pycharm": {
     "name": "#%%\n"
    }
   }
  },
  {
   "cell_type": "code",
   "execution_count": null,
   "outputs": [],
   "source": [
    "#Question 2\n",
    "\n",
    "#1. Get Data from Yfinance\n",
    "#2. Convert index with date to an attribute/feature column using. df.rename_axis('cryptodate').reset_index()\n",
    "#3. Split all 10 cryptocurrencies to seperate dataframes so they carry the new date (you can store in csv if you want)\n",
    "#4. Create a new dataframe where all columns but the 'Close' column are dropped\n",
    "#5. Use the .map() function and .set_index() methods to add new columns using a combination of the new master dataframe with all dates\n",
    "\n",
    "\n",
    "allcrypto_cp = df.drop(columns=['Open', 'High', 'Low', 'Volume', 'Dividends', 'Stock Splits', 'crypto_ticker', 'Close'])\n",
    "\n",
    "allcrypto_cp = allcrypto_cp.drop_duplicates(subset=['cryptodate'])\n",
    "\n",
    "allcrypto_cp['btc_cp'] = allcrypto_cp.cryptodate.map(BTC_crypto_data.set_index('cryptodate')['Close'].to_dict())\n",
    "allcrypto_cp['eth_cp'] = allcrypto_cp.cryptodate.map(ETH_crypto_data.set_index('cryptodate')['Close'].to_dict())\n",
    "allcrypto_cp['usdt_cp'] = allcrypto_cp.cryptodate.map(USDT_crypto_data.set_index('cryptodate')['Close'].to_dict())\n",
    "allcrypto_cp['usdc_cp'] = allcrypto_cp.cryptodate.map(USDC_crypto_data.set_index('cryptodate')['Close'].to_dict())\n",
    "allcrypto_cp['bnb_cp'] = allcrypto_cp.cryptodate.map(BNB_crypto_data.set_index('cryptodate')['Close'].to_dict())\n",
    "allcrypto_cp['busd_cp'] = allcrypto_cp.cryptodate.map(BUSD_crypto_data.set_index('cryptodate')['Close'].to_dict())\n",
    "allcrypto_cp['xrp_cp'] = allcrypto_cp.cryptodate.map(XRP_crypto_data.set_index('cryptodate')['Close'].to_dict())\n",
    "allcrypto_cp['ada_cp'] = allcrypto_cp.cryptodate.map(ADA_crypto_data.set_index('cryptodate')['Close'].to_dict())\n",
    "allcrypto_cp['sol_cp'] = allcrypto_cp.cryptodate.map(SOL_crypto_data.set_index('cryptodate')['Close'].to_dict())\n",
    "allcrypto_cp['doge_cp'] = allcrypto_cp.cryptodate.map(DOGE_crypto_data.set_index('cryptodate')['Close'].to_dict())\n",
    "\n",
    "# 10 - 20\n",
    "allcrypto_cp['dai_cp'] = allcrypto_cp.cryptodate.map(DAI_crypto_data.set_index('cryptodate')['Close'].to_dict())\n",
    "allcrypto_cp['dot_cp'] = allcrypto_cp.cryptodate.map(DOT_crypto_data.set_index('cryptodate')['Close'].to_dict())\n",
    "allcrypto_cp['matic_cp'] = allcrypto_cp.cryptodate.map(MATIC_crypto_data.set_index('cryptodate')['Close'].to_dict())\n",
    "allcrypto_cp['avax_cp'] = allcrypto_cp.cryptodate.map(AVAX_crypto_data.set_index('cryptodate')['Close'].to_dict())\n",
    "allcrypto_cp['shib_cp'] = allcrypto_cp.cryptodate.map(SHIB_crypto_data.set_index('cryptodate')['Close'].to_dict())\n",
    "allcrypto_cp['trx_cp'] = allcrypto_cp.cryptodate.map(TRX_crypto_data.set_index('cryptodate')['Close'].to_dict())\n",
    "allcrypto_cp['uni_cp'] = allcrypto_cp.cryptodate.map(UNI_crypto_data.set_index('cryptodate')['Close'].to_dict())\n",
    "allcrypto_cp['wbtc_cp'] = allcrypto_cp.cryptodate.map(WBTC_crypto_data.set_index('cryptodate')['Close'].to_dict())\n",
    "allcrypto_cp['leo_cp'] = allcrypto_cp.cryptodate.map(LEO_crypto_data.set_index('cryptodate')['Close'].to_dict())\n",
    "allcrypto_cp['ltc_cp'] = allcrypto_cp.cryptodate.map(LTC_crypto_data.set_index('cryptodate')['Close'].to_dict())\n",
    "\n",
    "\n",
    "# 20 TO 30\n",
    "allcrypto_cp['ftt_cp'] = allcrypto_cp.cryptodate.map(FTT_crypto_data.set_index('cryptodate')['Close'].to_dict())\n",
    "allcrypto_cp['etc_cp'] = allcrypto_cp.cryptodate.map(ETC_crypto_data.set_index('cryptodate')['Close'].to_dict())\n",
    "allcrypto_cp['link_cp'] = allcrypto_cp.cryptodate.map(LINK_crypto_data.set_index('cryptodate')['Close'].to_dict())\n",
    "allcrypto_cp['cro_cp'] = allcrypto_cp.cryptodate.map(CRO_crypto_data.set_index('cryptodate')['Close'].to_dict())\n",
    "allcrypto_cp['near_cp'] = allcrypto_cp.cryptodate.map(NEAR_crypto_data.set_index('cryptodate')['Close'].to_dict())\n",
    "allcrypto_cp['xlm_cp'] = allcrypto_cp.cryptodate.map(XLM_crypto_data.set_index('cryptodate')['Close'].to_dict())\n",
    "allcrypto_cp['xmr_cp'] = allcrypto_cp.cryptodate.map(XMR_crypto_data.set_index('cryptodate')['Close'].to_dict())\n",
    "allcrypto_cp['atom_cp'] = allcrypto_cp.cryptodate.map(ATOM_crypto_data.set_index('cryptodate')['Close'].to_dict())\n",
    "allcrypto_cp['bch_cp'] = allcrypto_cp.cryptodate.map(BCH_crypto_data.set_index('cryptodate')['Close'].to_dict())\n",
    "allcrypto_cp['algo_cp'] = allcrypto_cp.cryptodate.map(ALGO_crypto_data.set_index('cryptodate')['Close'].to_dict())\n",
    "\n",
    "\n",
    "\n",
    "#30 TO 40\n",
    "\n",
    "allcrypto_cp['ape_cp'] = allcrypto_cp.cryptodate.map(APE_crypto_data.set_index('cryptodate')['Close'].to_dict())\n",
    "allcrypto_cp['flow_cp'] = allcrypto_cp.cryptodate.map(FLOW_crypto_data.set_index('cryptodate')['Close'].to_dict())\n",
    "allcrypto_cp['vet_cp'] = allcrypto_cp.cryptodate.map(VET_crypto_data.set_index('cryptodate')['Close'].to_dict())\n",
    "allcrypto_cp['mana_cp'] = allcrypto_cp.cryptodate.map(MANA_crypto_data.set_index('cryptodate')['Close'].to_dict())\n",
    "allcrypto_cp['sand_cp'] = allcrypto_cp.cryptodate.map(SAND_crypto_data.set_index('cryptodate')['Close'].to_dict())\n",
    "allcrypto_cp['icp_cp'] = allcrypto_cp.cryptodate.map(ICP_crypto_data.set_index('cryptodate')['Close'].to_dict())\n",
    "allcrypto_cp['xtz_cp'] = allcrypto_cp.cryptodate.map(XTZ_crypto_data.set_index('cryptodate')['Close'].to_dict())\n",
    "allcrypto_cp['hbar_cp'] = allcrypto_cp.cryptodate.map(HBAR_crypto_data.set_index('cryptodate')['Close'].to_dict())\n",
    "allcrypto_cp['fil_cp'] = allcrypto_cp.cryptodate.map(FIL_crypto_data.set_index('cryptodate')['Close'].to_dict())\n",
    "allcrypto_cp['axs_cp'] = allcrypto_cp.cryptodate.map(AXS_crypto_data.set_index('cryptodate')['Close'].to_dict())\n",
    "\n",
    "#40 TO 50\n",
    "allcrypto_cp['theta_cp'] = allcrypto_cp.cryptodate.map(THETA_crypto_data.set_index('cryptodate')['Close'].to_dict())\n",
    "allcrypto_cp['egld_cp'] = allcrypto_cp.cryptodate.map(EGLD_crypto_data.set_index('cryptodate')['Close'].to_dict())\n",
    "allcrypto_cp['tusd_cp'] = allcrypto_cp.cryptodate.map(TUSD_crypto_data.set_index('cryptodate')['Close'].to_dict())\n",
    "allcrypto_cp['aave_cp'] = allcrypto_cp.cryptodate.map(AAVE_crypto_data.set_index('cryptodate')['Close'].to_dict())\n",
    "allcrypto_cp['eos_cp'] = allcrypto_cp.cryptodate.map(EOS_crypto_data.set_index('cryptodate')['Close'].to_dict())\n",
    "allcrypto_cp['qnt_cp'] = allcrypto_cp.cryptodate.map(QNT_crypto_data.set_index('cryptodate')['Close'].to_dict())\n",
    "allcrypto_cp['hnt_cp'] = allcrypto_cp.cryptodate.map(HNT_crypto_data.set_index('cryptodate')['Close'].to_dict())\n",
    "allcrypto_cp['bsv_cp'] = allcrypto_cp.cryptodate.map(BSV_crypto_data.set_index('cryptodate')['Close'].to_dict())\n",
    "allcrypto_cp['kcs_cp'] = allcrypto_cp.cryptodate.map(KCS_crypto_data.set_index('cryptodate')['Close'].to_dict())\n",
    "allcrypto_cp['usdp_cp'] = allcrypto_cp.cryptodate.map(USDP_crypto_data.set_index('cryptodate')['Close'].to_dict())\n",
    "\n",
    "\n",
    "allcrypto_cp = allcrypto_cp.drop(columns=['cryptodate'])\n",
    "\n",
    "allcrypto_cp\n"
   ],
   "metadata": {
    "collapsed": false,
    "pycharm": {
     "name": "#%%\n"
    }
   }
  },
  {
   "cell_type": "code",
   "execution_count": null,
   "outputs": [],
   "source": [
    "### Short tutorial here: https://stackoverflow.com/questions/29432629/plot-correlation-matrix-using-pandas\n",
    "\n",
    "coin_correlation = allcrypto_cp.corr()\n",
    "\n",
    "coin_correlation = coin_correlation.sort_values(by=['btc_cp'], ascending=True) #.style.background_gradient(cmap='BrBG_r')\n",
    "# 'coolwarm' RdBu_r', 'BrBG_r', & PuOr_r are other good diverging colormaps\n",
    "\n",
    "\n",
    "coin_correlation\n"
   ],
   "metadata": {
    "collapsed": false,
    "pycharm": {
     "name": "#%%\n"
    }
   }
  },
  {
   "cell_type": "code",
   "execution_count": null,
   "outputs": [],
   "source": [
    "# btc_corr = coin_correlation.drop(columns=['eth_cp', 'usdt_cp', 'usdc_cp', 'bnb_cp', 'busd_cp', 'xrp_cp', 'ada_cp', 'sol_cp', 'doge_cp', ])\n",
    "\n",
    "btc_corr = btc_corr.filter(['btc_cp'])\n",
    "btc_corr.head(10)\n",
    "btc_corr.to_csv(\"weakornegativecorrelation_with_bitcoin.csv\")\n",
    "\n"
   ],
   "metadata": {
    "collapsed": false,
    "pycharm": {
     "name": "#%%\n"
    }
   }
  },
  {
   "cell_type": "code",
   "execution_count": null,
   "outputs": [],
   "source": [
    "btc_corr.tail(11)\n",
    "btc_corr.to_csv(\"strongorpositivecorrelation_with_bitcoin.csv\")"
   ],
   "metadata": {
    "collapsed": false,
    "pycharm": {
     "name": "#%%\n"
    }
   }
  },
  {
   "cell_type": "code",
   "execution_count": null,
   "outputs": [],
   "source": [
    "##### CELL FOR DROPPING COLUMNS NOT NEEDED #####\n",
    "\n",
    "\n",
    "### TO AVOID THE SETWARNING? ERROR RELATED TO CARRYING OUT AN OPERATION ON A SLICE OF A DATAFRAME\n",
    "### PUT THE ORIGINAL SLICE OF THE DATAFRAME (USING CONCATINATION) FOR EACH COIN IN A NEW DATAFRAME\n",
    "bitcoin_data = pd.DataFrame()\n",
    "bitcoin_data = pd.concat([bitcoin_data, BTC_crypto_data])\n",
    "\n",
    "#### DROP DIVIDENDS AND STOCK SPLITS COLUMN #####\n",
    "bitcoin_data = bitcoin_data.drop(columns=['Dividends', 'Stock Splits'])\n",
    "bitcoin_data\n",
    "\n",
    "\n",
    "#BTC_crypto_data.drop(BTC_crypto_data.columns[[0]], axis=1, inplace=True) # df.columns is zero-based pd.Index\n",
    "# #inplace=True modifies original data without creating a copy\n",
    "\n",
    "# # #Optional Drop Syntax\n",
    "# # df = df.drop('column_name', axis=1)\n",
    "\n",
    "# # #Optional Drop Syntax\n",
    "# # df = df.drop(columns=['column_nameA', 'column_nameB'])\n",
    "\n",
    "# # #Optional Drop Syntax\n",
    "# # df.drop(['column_nameA', 'column_nameB'], axis=1, inplace=True)\n",
    "\n",
    "# # #Optional Drop Syntax\n",
    "# # columns = ['Col1', 'Col2', ...]\n",
    "# # df.drop(columns, inplace=True, axis=1)\n",
    "\n",
    "\n"
   ],
   "metadata": {
    "collapsed": false,
    "pycharm": {
     "name": "#%%\n"
    }
   }
  },
  {
   "cell_type": "code",
   "execution_count": null,
   "outputs": [],
   "source": [
    "##### CELL FOR ADDING CALCULATED COLUMNS TO THE DATAFRAME #####\n",
    "\n",
    "#Code Tutorial for % Change here: https://stackoverflow.com/questions/20000726/calculate-daily-returns-with-pandas-dataframe\n",
    "\n",
    "# #Daily, Monthly, Quarterly, Yearly returns in percentages\n",
    "# BTC_crypto_data['daily_return(%)']  = (BTC_crypto_data['Close'].pct_change(1))*100 # 1 for ONE DAY lookback\n",
    "# BTC_crypto_data['weekly_return(%)']  = (BTC_crypto_data['Close'].pct_change(7))*100 # 1 for ONE DAY lookback\n",
    "# BTC_crypto_data['monthly_return(%)']  = (BTC_crypto_data['Close'].pct_change(30))*100 # 21 for ONE MONTH lookback\n",
    "# BTC_crypto_data['Quarterly_return(%)'] = (BTC_crypto_data['Close'].pct_change(90))*100 # 252 for ONE YEAR lookback\n",
    "# BTC_crypto_data['Annual_return(%)'] = (BTC_crypto_data['Close'].pct_change(365))*100 # 252 for ONE YEAR lookback\n",
    "\n",
    "\n",
    "#bitcoin_data = bitcoin_data.drop(columns=['daily_return($)', 'weekly_return($)','monthly_return($)','quarterly_return($)','annual_return($)'])\n",
    "\n",
    "#Daily, Monthly, Quarterly, Yearly  returns in actual values\n",
    "bitcoin_data['daily_return($)']  = bitcoin_data['Close'].diff(periods=1)\n",
    "bitcoin_data['weekly_return($)']  = bitcoin_data['Close'].diff(periods=7)\n",
    "bitcoin_data['monthly_return($)']  = bitcoin_data['Close'].diff(periods=30)\n",
    "bitcoin_data['quarterly_return($)']  = bitcoin_data['Close'].diff(periods=90)\n",
    "bitcoin_data['annual_return($)']  = bitcoin_data['Close'].diff(periods=365)\n"
   ],
   "metadata": {
    "collapsed": false,
    "pycharm": {
     "name": "#%%\n"
    }
   }
  },
  {
   "cell_type": "code",
   "execution_count": null,
   "outputs": [],
   "source": [
    "bitcoin_data.head(5)"
   ],
   "metadata": {
    "collapsed": false,
    "pycharm": {
     "name": "#%%\n"
    }
   }
  },
  {
   "cell_type": "code",
   "execution_count": null,
   "outputs": [],
   "source": [
    "corr_matrix = bitcoin_data.corr()\n",
    "corr_matrix .style.background_gradient(cmap='RdBu_r')\n",
    "# 'coolwarm' RdBu_r', 'BrBG_r', & PuOr_r are other good diverging colormaps\n"
   ],
   "metadata": {
    "collapsed": false,
    "pycharm": {
     "name": "#%%\n"
    }
   }
  },
  {
   "cell_type": "code",
   "execution_count": null,
   "outputs": [],
   "source": [
    "###### NOTES/OBSERVATIONS FOR REPORT ######\n",
    "\n",
    "## Closing prices are correlated with annual returns, but not daily, weekly, monthly or quarterly\n",
    "## At 0.30 quarterly returns it is slightly correlated to closing prices\n",
    "## Using LINEAR REGRESSION, Closing price can be used as an INDEPENDENT variable for predicting annual return (DEPENDENT VARIABLE)"
   ],
   "metadata": {
    "collapsed": false,
    "pycharm": {
     "name": "#%%\n"
    }
   }
  },
  {
   "cell_type": "code",
   "execution_count": null,
   "outputs": [],
   "source": [
    "##Data Understanding\n",
    "print(\"\\n-----Data Profile-----\\n\")\n",
    "print(bitcoin_data.shape)\n",
    "print(bitcoin_data.dtypes)\n",
    "print(\"\\n-----Statistical Analysis-----\\n\")\n",
    "print(BTC_crypto_data.describe())\n",
    "\n",
    "BTC_crypto_data.hist()\n",
    "plt.tight_layout()\n",
    "plt.show()\n",
    "\n",
    "\n",
    "\n",
    "#Data Preprocessing\n",
    "print(\"\\n-----Missing Values-----\\n\")\n",
    "print(df.isna().sum())"
   ],
   "metadata": {
    "collapsed": false,
    "pycharm": {
     "name": "#%%\n"
    }
   }
  },
  {
   "cell_type": "code",
   "execution_count": null,
   "outputs": [],
   "source": [
    "##### MOVING AVERAGES FOR CLOSING PRICE ##### \n",
    "\n",
    "\n",
    "#Calculate the moving average\n",
    "bitcoin_data['7_MA_Close'] = bitcoin_data['Close'].rolling(window=7).mean()\n",
    "bitcoin_data['30_MA_Close'] = bitcoin_data['Close'].rolling(window=30).mean()\n",
    "bitcoin_data['90_MA_Close'] = bitcoin_data['Close'].rolling(window=90).mean()\n",
    "bitcoin_data['180_MA_Close'] = bitcoin_data['Close'].rolling(window=180).mean()\n",
    "bitcoin_data['365_MA_Close'] = bitcoin_data['Close'].rolling(window=365).mean()\n",
    "\n",
    "#Calculate the moving standard deviation\n",
    "bitcoin_data['7_STD_Close'] = bitcoin_data['Close'].rolling(window=7).std()\n",
    "bitcoin_data['30_STD_Close'] = bitcoin_data['Close'].rolling(window=30).std()\n",
    "bitcoin_data['90_STD_Close'] = bitcoin_data['Close'].rolling(window=90).std()\n",
    "bitcoin_data['180_STD_Close'] = bitcoin_data['Close'].rolling(window=180).std()\n",
    "bitcoin_data['365_STD_Close'] = bitcoin_data['Close'].rolling(window=365).std()\n",
    "\n",
    "\n",
    "##### MOVING AVERAGES FOR CALCULATED FIELDS: DAILY RETURNS\n",
    "\n",
    "#Calculate the 30 day moving average\n",
    "bitcoin_data['7_MA_daily_return($)'] = bitcoin_data['daily_return($)'].rolling(window=7).mean()\n",
    "bitcoin_data['30_MA_daily_return($)'] = bitcoin_data['daily_return($)'].rolling(window=30).mean()\n",
    "bitcoin_data['90_MA_daily_return($)'] = bitcoin_data['daily_return($)'].rolling(window=90).mean()\n",
    "bitcoin_data['180_MA_daily_return($)'] = bitcoin_data['daily_return($)'].rolling(window=180).mean()\n",
    "bitcoin_data['365_MA_daily_return($)'] = bitcoin_data['daily_return($)'].rolling(window=365).mean()\n",
    "\n",
    "#Calculate the moving standard deviation\n",
    "bitcoin_data['7_STD_daily_return($)'] = bitcoin_data['daily_return($)'].rolling(window=7).std()\n",
    "bitcoin_data['30_STD_daily_return($)'] = bitcoin_data['daily_return($)'].rolling(window=30).std()\n",
    "bitcoin_data['90_STD_daily_return($)'] = bitcoin_data['daily_return($)'].rolling(window=90).std()\n",
    "bitcoin_data['180_STD_daily_return($)'] = bitcoin_data['daily_return($)'].rolling(window=180).std()\n",
    "bitcoin_data['365_STD_daily_return($)'] = bitcoin_data['daily_return($)'].rolling(window=365).std()\n",
    "\n"
   ],
   "metadata": {
    "collapsed": false,
    "pycharm": {
     "name": "#%%\n"
    }
   }
  },
  {
   "cell_type": "code",
   "execution_count": null,
   "outputs": [],
   "source": [
    "fig, axes = plt.subplots(nrows=3, ncols=2)\n",
    "\n",
    "bitcoin_data[['7_MA_daily_return($)','7_STD_daily_return($)']].plot(ax=axes[0,0],figsize=(25,15))\n",
    "bitcoin_data[['30_MA_daily_return($)','30_STD_daily_return($)']].plot(ax=axes[0,1],figsize=(25,15))\n",
    "bitcoin_data[['90_MA_daily_return($)','90_STD_daily_return($)']].plot(ax=axes[1,0],figsize=(25,15))\n",
    "bitcoin_data[['180_MA_daily_return($)','180_STD_daily_return($)']].plot(ax=axes[1,1],figsize=(25,15))\n",
    "bitcoin_data[['365_MA_daily_return($)','365_STD_daily_return($)']].plot(ax=axes[2,0],figsize=(25,15))\n",
    "bitcoin_data[['Close']].plot(ax=axes[2,1],figsize=(25,15))\n",
    "\n",
    "\n",
    "\n",
    "axes[0,0].set_title('BTC', fontsize=20)\n",
    "axes[0,1].set_title('BTC Returns Volatility: 30Days Moving Average vs Moving Standard Deviation', fontsize=20)\n",
    "axes[1,0].set_title('BTC Returns Volatility: 90Days Moving Average vs Moving Standard Deviation', fontsize=20)\n",
    "axes[1,1].set_title('BTC Returns Volatility: 180Days Moving Average vs Moving Standard Deviation', fontsize=20)\n",
    "axes[2,0].set_title('BTC Returns Volatility: 365Days Moving Average vs Moving Standard Deviation',fontsize=20)\n",
    "axes[2,1].set_title('Bitcoin Closing Price Jan 2015 - Aug 2022($)',fontsize=30)\n",
    "\n",
    "plt.tight_layout()\n",
    "\n",
    "\n"
   ],
   "metadata": {
    "collapsed": false,
    "pycharm": {
     "name": "#%%\n"
    }
   }
  },
  {
   "cell_type": "code",
   "execution_count": null,
   "outputs": [],
   "source": [
    "# Obtain data for feature\n",
    "# close_price = bitcoin_data.drop(columns=['Open', 'High', 'Low', 'Volume', 'Dividends', 'Stock Splits', 'crypto_ticker', 'cryptodate'])\n",
    "\n",
    "close_price = bitcoin_data.filter(['Close'])\n",
    "\n",
    "# Split data into training and test data 80% for training data and 20% for test data\n",
    "prediction_period = 255 # In days\n",
    "\n",
    "training_data = close_price[:len(close_price)-prediction_period].values.reshape(-1,1)\n",
    "testing_data = close_price[len(close_price)-prediction_period:].values.reshape(-1,1)\n",
    "\n",
    "# Scale the data\n",
    "scaler_train = MinMaxScaler(feature_range=(0,1))\n",
    "scaled_train = scaler_train.fit_transform(training_data)\n",
    "\n",
    "\n",
    "scaler_test = MinMaxScaler(feature_range=(0,1))\n",
    "scaled_test = scaler_test.fit_transform(testing_data)\n",
    "scaled_test "
   ],
   "metadata": {
    "collapsed": false,
    "pycharm": {
     "name": "#%%\n"
    }
   }
  },
  {
   "cell_type": "code",
   "execution_count": null,
   "outputs": [],
   "source": [
    "#### Feature Engineering\n",
    "\n",
    "\n",
    "#Create a series of timesteps and observations for X and Y axis for test and training data\n",
    "\n",
    "def split_x_and_yaxis(dataset, look_back=3):\n",
    "\n",
    "    dataX, dataY = [], []\n",
    "\n",
    "    for i in range(len(dataset) - look_back):\n",
    "        window_size_x = dataset[i:(i + look_back), 0]\n",
    "        \n",
    "        dataX.append(window_size_x)\n",
    "        dataY.append(dataset[i + look_back, 0]) # this is the label or actual y-value\n",
    "    return np.array(dataX), np.array(dataY)\n",
    "\n",
    "trainX, trainY = split_x_and_yaxis(scaled_train)\n",
    "testX, testY = split_x_and_yaxis(scaled_test)\n",
    "\n",
    "\n",
    "\n",
    "## View shape of the datasets\n",
    "print(trainX.shape)\n",
    "print(trainY.shape)\n",
    "print(testX.shape)\n",
    "print(testY.shape)\n",
    "\n",
    "## Reshape data to 3D Tensors for LSTM for (Samples, timesteps, features) Batch size, timesteps or lookback, target features\n",
    "\n",
    "trainX = np.reshape(trainX, (trainX.shape[0], trainX.shape[1], 1))\n",
    "testX = np.reshape(testX, (testX.shape[0], testX.shape[1], 1 ))\n",
    "\n",
    "print(\"Shape of trainX: \", trainX.shape)\n",
    "print(\"Shape of testX: \", testX.shape)\n"
   ],
   "metadata": {
    "collapsed": false,
    "pycharm": {
     "name": "#%%\n"
    }
   }
  },
  {
   "cell_type": "code",
   "execution_count": null,
   "outputs": [],
   "source": [
    "#### LSTM Prediction Engine\n",
    "\n",
    "##Create the LSTM Model\n",
    "\n",
    "regressor = Sequential()\n",
    "# First Layer\n",
    "regressor.add(LSTM(units = 128, activation = 'relu',return_sequences=True, input_shape = (trainX.shape[1], trainX.shape[2])))\n",
    "regressor.add(Dropout(0.2))\n",
    "\n",
    "# Second Layer\n",
    "regressor.add(LSTM(units = 64, activation = 'relu',return_sequences=True, input_shape = (trainX.shape[1], trainX.shape[2])))\n",
    "regressor.add(Dropout(0.2))\n",
    "\n",
    "# Third Layer\n",
    "regressor.add(LSTM(units = 64, activation = 'relu',return_sequences=True, input_shape = (trainX.shape[1], trainX.shape[2])))\n",
    "regressor.add(Dropout(0.2))\n",
    "\n",
    "# Fourth Layer\n",
    "regressor.add(LSTM(units = 64, input_shape = (trainX.shape[1], trainX.shape[2])))\n",
    "regressor.add(Dropout(0.2))\n",
    "\n",
    "# Adding the output layer\n",
    "regressor.add(Dense(units = 1))\n",
    "regressor.summary()\n"
   ],
   "metadata": {
    "collapsed": false,
    "pycharm": {
     "name": "#%%\n"
    }
   }
  },
  {
   "cell_type": "code",
   "execution_count": null,
   "outputs": [],
   "source": [
    "## Compile the LSTM model\n",
    "\n",
    "from  keras.callbacks import ModelCheckpoint, EarlyStopping\n",
    "\n",
    "# Compiling the LSTM\n",
    "regressor.compile(optimizer = 'adam', loss = 'mean_squared_error')\n",
    "\n",
    "checkpoint_path = 'new_crypto_model.hdf5'\n",
    "\n",
    "checkpoint = ModelCheckpoint(filepath=checkpoint_path,\n",
    "                             monitor='val_loss',\n",
    "                             verbose=1,\n",
    "                             save_best_only=True,\n",
    "                             mode='min')\n",
    "\n",
    "\n",
    "earlystopping = EarlyStopping(monitor='val_loss', patience=10, restore_best_weights=True)\n",
    "\n",
    "callbacks = [checkpoint, earlystopping]\n",
    "\n",
    "\n",
    "history = regressor.fit(trainX, trainY, batch_size = 32, epochs = 150, verbose=1, shuffle=False, validation_data=(testX, testY), callbacks=callbacks)"
   ],
   "metadata": {
    "collapsed": false,
    "pycharm": {
     "name": "#%%\n"
    }
   }
  },
  {
   "cell_type": "code",
   "execution_count": null,
   "outputs": [],
   "source": [
    "## Save LSTM Model\n",
    "#\n",
    "from  keras.models import load_model\n",
    "\n",
    "model_from_saved_checkpoint = load_model(checkpoint_path)"
   ],
   "metadata": {
    "collapsed": false,
    "pycharm": {
     "name": "#%%\n"
    }
   }
  },
  {
   "cell_type": "code",
   "execution_count": null,
   "outputs": [],
   "source": [
    "## Visualise Loss\n",
    "\n",
    "plt.figure(figsize=(16,7))\n",
    "plt.plot(history.history['loss'], label='train')\n",
    "\n",
    "plt.plot(history.history['val_loss'], label='test')\n",
    "plt.legend()\n",
    "plt.show()"
   ],
   "metadata": {
    "collapsed": false,
    "pycharm": {
     "name": "#%%\n"
    }
   }
  },
  {
   "cell_type": "code",
   "execution_count": null,
   "outputs": [],
   "source": [
    "# Transformation to original form and making the predictions\n",
    "\n",
    "predicted_btc_price_test_data = regressor.predict(testX)\n",
    "# test_predicted = model_from_saved_checkpoint.predict(testing_data_X)\n",
    "\n",
    "predicted_btc_price_test_data = scaler_test.inverse_transform(predicted_btc_price_test_data.reshape(-1, 1))\n",
    "test_actual = scaler_test.inverse_transform(testY.reshape(-1, 1))"
   ],
   "metadata": {
    "collapsed": false,
    "pycharm": {
     "name": "#%%\n"
    }
   }
  },
  {
   "cell_type": "code",
   "execution_count": null,
   "outputs": [],
   "source": [
    "def rmse(actual, predict):\n",
    "    \n",
    "    predict = np.array(predict)\n",
    "    actual = np.array(actual)\n",
    "    mse = mean_squared_error(actual, predict)\n",
    "    rmse = math.sqrt(mse)\n",
    "    return rmse\n",
    "\n",
    "rmse(test_actual, predicted_btc_price_test_data )"
   ],
   "metadata": {
    "collapsed": false,
    "pycharm": {
     "name": "#%%\n"
    }
   }
  },
  {
   "cell_type": "code",
   "execution_count": null,
   "outputs": [],
   "source": [
    "plt.figure(figsize=(16,7))\n",
    "\n",
    "plt.plot(predicted_btc_price_test_data, 'r', marker='.', label='Predicted Test')\n",
    "\n",
    "plt.plot(test_actual, marker='.', label='Actual Test')\n",
    "\n",
    "plt.legend()\n",
    "plt.show()"
   ],
   "metadata": {
    "collapsed": false,
    "pycharm": {
     "name": "#%%\n"
    }
   }
  },
  {
   "cell_type": "code",
   "execution_count": null,
   "outputs": [],
   "source": [
    "## Future 5 days\n",
    "\n",
    "testX.shape\n",
    "look_back = 5\n",
    "past_days = testX[testX.shape[0] - look_back :]\n",
    "\n",
    "past_days.shape\n",
    "past_days\n",
    "\n",
    "future_days = []\n",
    "for i in range(5):\n",
    "    forecast_test_x = model_from_saved_checkpoint.predict(past_days[i:i+1])\n",
    "    forecast_test_x = scaler_test.inverse_transform(forecast_test_x.reshape(-1,1))\n",
    "    future_days.append(forecast_test_x)\n",
    "\n",
    "print (\"Forecast:\", np.array(future_days))\n",
    "\n"
   ],
   "metadata": {
    "collapsed": false,
    "pycharm": {
     "name": "#%%\n"
    }
   }
  },
  {
   "cell_type": "code",
   "execution_count": null,
   "outputs": [],
   "source": [],
   "metadata": {
    "collapsed": false,
    "pycharm": {
     "name": "#%%\n"
    }
   }
  },
  {
   "cell_type": "code",
   "execution_count": 61,
   "id": "bc149ee9",
   "metadata": {
    "pycharm": {
     "name": "#%%\n"
    }
   },
   "outputs": [
    {
     "name": "stdout",
     "output_type": "stream",
     "text": [
      "Model: \"sequential\"\n",
      "_________________________________________________________________\n",
      " Layer (type)                Output Shape              Param #   \n",
      "=================================================================\n",
      " lstm (LSTM)                 (None, 3, 128)            66560     \n",
      "                                                                 \n",
      " dropout (Dropout)           (None, 3, 128)            0         \n",
      "                                                                 \n",
      " lstm_1 (LSTM)               (None, 3, 64)             49408     \n",
      "                                                                 \n",
      " dropout_1 (Dropout)         (None, 3, 64)             0         \n",
      "                                                                 \n",
      " lstm_2 (LSTM)               (None, 3, 64)             33024     \n",
      "                                                                 \n",
      " dropout_2 (Dropout)         (None, 3, 64)             0         \n",
      "                                                                 \n",
      " lstm_3 (LSTM)               (None, 64)                33024     \n",
      "                                                                 \n",
      " dropout_3 (Dropout)         (None, 64)                0         \n",
      "                                                                 \n",
      " dense (Dense)               (None, 1)                 65        \n",
      "                                                                 \n",
      "=================================================================\n",
      "Total params: 182,081\n",
      "Trainable params: 182,081\n",
      "Non-trainable params: 0\n",
      "_________________________________________________________________\n"
     ]
    }
   ],
   "source": [
    "#### LSTM Prediction Engine\n",
    "\n",
    "##Create the LSTM Model\n",
    "\n",
    "regressor = Sequential()\n",
    "# First Layer\n",
    "regressor.add(LSTM(units = 128, activation = 'relu',return_sequences=True, input_shape = (trainX.shape[1], trainX.shape[2])))\n",
    "regressor.add(Dropout(0.2))\n",
    "\n",
    "# Second Layer\n",
    "regressor.add(LSTM(units = 64, activation = 'relu',return_sequences=True, input_shape = (trainX.shape[1], trainX.shape[2])))\n",
    "regressor.add(Dropout(0.2))\n",
    "\n",
    "# Third Layer\n",
    "regressor.add(LSTM(units = 64, activation = 'relu',return_sequences=True, input_shape = (trainX.shape[1], trainX.shape[2])))\n",
    "regressor.add(Dropout(0.2))\n",
    "\n",
    "# Fourth Layer\n",
    "regressor.add(LSTM(units = 64, input_shape = (trainX.shape[1], trainX.shape[2])))\n",
    "regressor.add(Dropout(0.2))\n",
    "\n",
    "# Adding the output layer\n",
    "regressor.add(Dense(units = 1))\n",
    "regressor.summary()\n"
   ]
  },
  {
   "cell_type": "code",
   "execution_count": 62,
   "id": "d92a5995",
   "metadata": {
    "pycharm": {
     "name": "#%%\n"
    }
   },
   "outputs": [
    {
     "name": "stdout",
     "output_type": "stream",
     "text": [
      "Epoch 1/150\n",
      "29/32 [==========================>...] - ETA: 0s - loss: 0.0649  \n",
      "Epoch 1: val_loss improved from inf to 0.06634, saving model to new_crypto_model.hdf5\n",
      "32/32 [==============================] - 6s 38ms/step - loss: 0.0764 - val_loss: 0.0663\n",
      "Epoch 2/150\n",
      "30/32 [===========================>..] - ETA: 0s - loss: 0.1060\n",
      "Epoch 2: val_loss did not improve from 0.06634\n",
      "32/32 [==============================] - 0s 11ms/step - loss: 0.1159 - val_loss: 0.1021\n",
      "Epoch 3/150\n",
      "30/32 [===========================>..] - ETA: 0s - loss: 0.0695\n",
      "Epoch 3: val_loss improved from 0.06634 to 0.03602, saving model to new_crypto_model.hdf5\n",
      "32/32 [==============================] - 0s 13ms/step - loss: 0.0743 - val_loss: 0.0360\n",
      "Epoch 4/150\n",
      "30/32 [===========================>..] - ETA: 0s - loss: 0.0359\n",
      "Epoch 4: val_loss improved from 0.03602 to 0.01590, saving model to new_crypto_model.hdf5\n",
      "32/32 [==============================] - 0s 13ms/step - loss: 0.0391 - val_loss: 0.0159\n",
      "Epoch 5/150\n",
      "32/32 [==============================] - ETA: 0s - loss: 0.0419\n",
      "Epoch 5: val_loss improved from 0.01590 to 0.00508, saving model to new_crypto_model.hdf5\n",
      "32/32 [==============================] - 0s 15ms/step - loss: 0.0419 - val_loss: 0.0051\n",
      "Epoch 6/150\n",
      "31/32 [============================>.] - ETA: 0s - loss: 0.0595\n",
      "Epoch 6: val_loss did not improve from 0.00508\n",
      "32/32 [==============================] - 0s 11ms/step - loss: 0.0631 - val_loss: 0.1171\n",
      "Epoch 7/150\n",
      "30/32 [===========================>..] - ETA: 0s - loss: 0.0741\n",
      "Epoch 7: val_loss did not improve from 0.00508\n",
      "32/32 [==============================] - 0s 12ms/step - loss: 0.0865 - val_loss: 0.1204\n",
      "Epoch 8/150\n",
      "32/32 [==============================] - ETA: 0s - loss: 0.0418\n",
      "Epoch 8: val_loss did not improve from 0.00508\n",
      "32/32 [==============================] - 0s 13ms/step - loss: 0.0418 - val_loss: 0.0310\n",
      "Epoch 9/150\n",
      "30/32 [===========================>..] - ETA: 0s - loss: 0.0217\n",
      "Epoch 9: val_loss improved from 0.00508 to 0.00294, saving model to new_crypto_model.hdf5\n",
      "32/32 [==============================] - 0s 13ms/step - loss: 0.0212 - val_loss: 0.0029\n",
      "Epoch 10/150\n",
      "32/32 [==============================] - ETA: 0s - loss: 0.0093\n",
      "Epoch 10: val_loss did not improve from 0.00294\n",
      "32/32 [==============================] - 0s 13ms/step - loss: 0.0093 - val_loss: 0.0033\n",
      "Epoch 11/150\n",
      "30/32 [===========================>..] - ETA: 0s - loss: 0.0073\n",
      "Epoch 11: val_loss did not improve from 0.00294\n",
      "32/32 [==============================] - 0s 11ms/step - loss: 0.0074 - val_loss: 0.0036\n",
      "Epoch 12/150\n",
      "30/32 [===========================>..] - ETA: 0s - loss: 0.0078\n",
      "Epoch 12: val_loss did not improve from 0.00294\n",
      "32/32 [==============================] - 0s 11ms/step - loss: 0.0080 - val_loss: 0.0034\n",
      "Epoch 13/150\n",
      "30/32 [===========================>..] - ETA: 0s - loss: 0.0066\n",
      "Epoch 13: val_loss did not improve from 0.00294\n",
      "32/32 [==============================] - 0s 11ms/step - loss: 0.0070 - val_loss: 0.0045\n",
      "Epoch 14/150\n",
      "31/32 [============================>.] - ETA: 0s - loss: 0.0076\n",
      "Epoch 14: val_loss did not improve from 0.00294\n",
      "32/32 [==============================] - 0s 13ms/step - loss: 0.0078 - val_loss: 0.0037\n",
      "Epoch 15/150\n",
      "27/32 [========================>.....] - ETA: 0s - loss: 0.0061\n",
      "Epoch 15: val_loss did not improve from 0.00294\n",
      "32/32 [==============================] - 0s 12ms/step - loss: 0.0063 - val_loss: 0.0047\n",
      "Epoch 16/150\n",
      "30/32 [===========================>..] - ETA: 0s - loss: 0.0064\n",
      "Epoch 16: val_loss improved from 0.00294 to 0.00255, saving model to new_crypto_model.hdf5\n",
      "32/32 [==============================] - 1s 16ms/step - loss: 0.0067 - val_loss: 0.0026\n",
      "Epoch 17/150\n",
      "30/32 [===========================>..] - ETA: 0s - loss: 0.0055\n",
      "Epoch 17: val_loss did not improve from 0.00255\n",
      "32/32 [==============================] - 0s 11ms/step - loss: 0.0057 - val_loss: 0.0052\n",
      "Epoch 18/150\n",
      "32/32 [==============================] - ETA: 0s - loss: 0.0062\n",
      "Epoch 18: val_loss did not improve from 0.00255\n",
      "32/32 [==============================] - 0s 13ms/step - loss: 0.0062 - val_loss: 0.0027\n",
      "Epoch 19/150\n",
      "30/32 [===========================>..] - ETA: 0s - loss: 0.0051\n",
      "Epoch 19: val_loss did not improve from 0.00255\n",
      "32/32 [==============================] - 0s 11ms/step - loss: 0.0052 - val_loss: 0.0054\n",
      "Epoch 20/150\n",
      "30/32 [===========================>..] - ETA: 0s - loss: 0.0056\n",
      "Epoch 20: val_loss did not improve from 0.00255\n",
      "32/32 [==============================] - 0s 11ms/step - loss: 0.0059 - val_loss: 0.0026\n",
      "Epoch 21/150\n",
      "32/32 [==============================] - ETA: 0s - loss: 0.0046\n",
      "Epoch 21: val_loss did not improve from 0.00255\n",
      "32/32 [==============================] - 0s 13ms/step - loss: 0.0046 - val_loss: 0.0064\n",
      "Epoch 22/150\n",
      "30/32 [===========================>..] - ETA: 0s - loss: 0.0049\n",
      "Epoch 22: val_loss improved from 0.00255 to 0.00241, saving model to new_crypto_model.hdf5\n",
      "32/32 [==============================] - 0s 13ms/step - loss: 0.0051 - val_loss: 0.0024\n",
      "Epoch 23/150\n",
      "32/32 [==============================] - ETA: 0s - loss: 0.0047\n",
      "Epoch 23: val_loss did not improve from 0.00241\n",
      "32/32 [==============================] - 0s 13ms/step - loss: 0.0047 - val_loss: 0.0053\n",
      "Epoch 24/150\n",
      "32/32 [==============================] - ETA: 0s - loss: 0.0051\n",
      "Epoch 24: val_loss did not improve from 0.00241\n",
      "32/32 [==============================] - 0s 13ms/step - loss: 0.0051 - val_loss: 0.0030\n",
      "Epoch 25/150\n",
      "30/32 [===========================>..] - ETA: 0s - loss: 0.0046\n",
      "Epoch 25: val_loss did not improve from 0.00241\n",
      "32/32 [==============================] - 0s 11ms/step - loss: 0.0049 - val_loss: 0.0066\n",
      "Epoch 26/150\n",
      "27/32 [========================>.....] - ETA: 0s - loss: 0.0049\n",
      "Epoch 26: val_loss did not improve from 0.00241\n",
      "32/32 [==============================] - 0s 12ms/step - loss: 0.0056 - val_loss: 0.0026\n",
      "Epoch 27/150\n",
      "29/32 [==========================>...] - ETA: 0s - loss: 0.0033\n",
      "Epoch 27: val_loss did not improve from 0.00241\n",
      "32/32 [==============================] - 0s 11ms/step - loss: 0.0036 - val_loss: 0.0045\n",
      "Epoch 28/150\n",
      "30/32 [===========================>..] - ETA: 0s - loss: 0.0047\n",
      "Epoch 28: val_loss did not improve from 0.00241\n",
      "32/32 [==============================] - 0s 11ms/step - loss: 0.0049 - val_loss: 0.0050\n",
      "Epoch 29/150\n",
      "31/32 [============================>.] - ETA: 0s - loss: 0.0037\n",
      "Epoch 29: val_loss did not improve from 0.00241\n",
      "32/32 [==============================] - 0s 11ms/step - loss: 0.0039 - val_loss: 0.0032\n",
      "Epoch 30/150\n",
      "31/32 [============================>.] - ETA: 0s - loss: 0.0034\n",
      "Epoch 30: val_loss did not improve from 0.00241\n",
      "32/32 [==============================] - 0s 11ms/step - loss: 0.0035 - val_loss: 0.0056\n",
      "Epoch 31/150\n",
      "30/32 [===========================>..] - ETA: 0s - loss: 0.0034\n",
      "Epoch 31: val_loss improved from 0.00241 to 0.00218, saving model to new_crypto_model.hdf5\n",
      "32/32 [==============================] - 0s 13ms/step - loss: 0.0038 - val_loss: 0.0022\n",
      "Epoch 32/150\n",
      "30/32 [===========================>..] - ETA: 0s - loss: 0.0029   \n",
      "Epoch 32: val_loss did not improve from 0.00218\n",
      "32/32 [==============================] - 0s 11ms/step - loss: 0.0033 - val_loss: 0.0029\n",
      "Epoch 33/150\n",
      "31/32 [============================>.] - ETA: 0s - loss: 0.0027   \n",
      "Epoch 33: val_loss did not improve from 0.00218\n",
      "32/32 [==============================] - 0s 11ms/step - loss: 0.0030 - val_loss: 0.0030\n",
      "Epoch 34/150\n",
      "29/32 [==========================>...] - ETA: 0s - loss: 0.0023    \n",
      "Epoch 34: val_loss did not improve from 0.00218\n",
      "32/32 [==============================] - 0s 11ms/step - loss: 0.0027 - val_loss: 0.0023\n",
      "Epoch 35/150\n",
      "29/32 [==========================>...] - ETA: 0s - loss: 0.0020   \n",
      "Epoch 35: val_loss did not improve from 0.00218\n",
      "32/32 [==============================] - 0s 11ms/step - loss: 0.0023 - val_loss: 0.0023\n",
      "Epoch 36/150\n",
      "31/32 [============================>.] - ETA: 0s - loss: 0.0026   \n",
      "Epoch 36: val_loss did not improve from 0.00218\n",
      "32/32 [==============================] - 0s 11ms/step - loss: 0.0028 - val_loss: 0.0030\n",
      "Epoch 37/150\n",
      "31/32 [============================>.] - ETA: 0s - loss: 0.0028   \n",
      "Epoch 37: val_loss did not improve from 0.00218\n",
      "32/32 [==============================] - 0s 11ms/step - loss: 0.0030 - val_loss: 0.0025\n"
     ]
    },
    {
     "name": "stdout",
     "output_type": "stream",
     "text": [
      "Epoch 38/150\n",
      "31/32 [============================>.] - ETA: 0s - loss: 0.0025   \n",
      "Epoch 38: val_loss improved from 0.00218 to 0.00213, saving model to new_crypto_model.hdf5\n",
      "32/32 [==============================] - 0s 12ms/step - loss: 0.0027 - val_loss: 0.0021\n",
      "Epoch 39/150\n",
      "31/32 [============================>.] - ETA: 0s - loss: 0.0025   \n",
      "Epoch 39: val_loss did not improve from 0.00213\n",
      "32/32 [==============================] - 0s 11ms/step - loss: 0.0025 - val_loss: 0.0027\n",
      "Epoch 40/150\n",
      "31/32 [============================>.] - ETA: 0s - loss: 0.0022   \n",
      "Epoch 40: val_loss improved from 0.00213 to 0.00199, saving model to new_crypto_model.hdf5\n",
      "32/32 [==============================] - 0s 12ms/step - loss: 0.0024 - val_loss: 0.0020\n",
      "Epoch 41/150\n",
      "31/32 [============================>.] - ETA: 0s - loss: 0.0024   \n",
      "Epoch 41: val_loss did not improve from 0.00199\n",
      "32/32 [==============================] - 0s 11ms/step - loss: 0.0026 - val_loss: 0.0021\n",
      "Epoch 42/150\n",
      "31/32 [============================>.] - ETA: 0s - loss: 0.0024   \n",
      "Epoch 42: val_loss did not improve from 0.00199\n",
      "32/32 [==============================] - 0s 11ms/step - loss: 0.0026 - val_loss: 0.0023\n",
      "Epoch 43/150\n",
      "29/32 [==========================>...] - ETA: 0s - loss: 0.0019    \n",
      "Epoch 43: val_loss improved from 0.00199 to 0.00196, saving model to new_crypto_model.hdf5\n",
      "32/32 [==============================] - 0s 14ms/step - loss: 0.0022 - val_loss: 0.0020\n",
      "Epoch 44/150\n",
      "31/32 [============================>.] - ETA: 0s - loss: 0.0025   \n",
      "Epoch 44: val_loss did not improve from 0.00196\n",
      "32/32 [==============================] - 0s 11ms/step - loss: 0.0027 - val_loss: 0.0033\n",
      "Epoch 45/150\n",
      "31/32 [============================>.] - ETA: 0s - loss: 0.0025   \n",
      "Epoch 45: val_loss did not improve from 0.00196\n",
      "32/32 [==============================] - 0s 11ms/step - loss: 0.0027 - val_loss: 0.0021\n",
      "Epoch 46/150\n",
      "31/32 [============================>.] - ETA: 0s - loss: 0.0021    \n",
      "Epoch 46: val_loss did not improve from 0.00196\n",
      "32/32 [==============================] - 0s 11ms/step - loss: 0.0022 - val_loss: 0.0024\n",
      "Epoch 47/150\n",
      "31/32 [============================>.] - ETA: 0s - loss: 0.0020   \n",
      "Epoch 47: val_loss did not improve from 0.00196\n",
      "32/32 [==============================] - 0s 11ms/step - loss: 0.0021 - val_loss: 0.0031\n",
      "Epoch 48/150\n",
      "31/32 [============================>.] - ETA: 0s - loss: 0.0023   \n",
      "Epoch 48: val_loss did not improve from 0.00196\n",
      "32/32 [==============================] - 0s 11ms/step - loss: 0.0023 - val_loss: 0.0021\n",
      "Epoch 49/150\n",
      "31/32 [============================>.] - ETA: 0s - loss: 0.0021   \n",
      "Epoch 49: val_loss did not improve from 0.00196\n",
      "32/32 [==============================] - 0s 11ms/step - loss: 0.0023 - val_loss: 0.0037\n",
      "Epoch 50/150\n",
      "31/32 [============================>.] - ETA: 0s - loss: 0.0022   \n",
      "Epoch 50: val_loss did not improve from 0.00196\n",
      "32/32 [==============================] - 0s 11ms/step - loss: 0.0023 - val_loss: 0.0023\n",
      "Epoch 51/150\n",
      "31/32 [============================>.] - ETA: 0s - loss: 0.0022    \n",
      "Epoch 51: val_loss did not improve from 0.00196\n",
      "32/32 [==============================] - 0s 11ms/step - loss: 0.0024 - val_loss: 0.0035\n",
      "Epoch 52/150\n",
      "31/32 [============================>.] - ETA: 0s - loss: 0.0021   \n",
      "Epoch 52: val_loss did not improve from 0.00196\n",
      "32/32 [==============================] - 0s 11ms/step - loss: 0.0023 - val_loss: 0.0026\n",
      "Epoch 53/150\n",
      "31/32 [============================>.] - ETA: 0s - loss: 0.0023   \n",
      "Epoch 53: val_loss did not improve from 0.00196\n",
      "32/32 [==============================] - 0s 11ms/step - loss: 0.0024 - val_loss: 0.0024\n"
     ]
    }
   ],
   "source": [
    "## Compile the LSTM model\n",
    "\n",
    "from  keras.callbacks import ModelCheckpoint, EarlyStopping\n",
    "\n",
    "# Compiling the LSTM\n",
    "regressor.compile(optimizer = 'adam', loss = 'mean_squared_error')\n",
    "\n",
    "checkpoint_path = 'new_crypto_model.hdf5'\n",
    "\n",
    "checkpoint = ModelCheckpoint(filepath=checkpoint_path,\n",
    "                             monitor='val_loss',\n",
    "                             verbose=1,\n",
    "                             save_best_only=True,\n",
    "                             mode='min')\n",
    "\n",
    "\n",
    "earlystopping = EarlyStopping(monitor='val_loss', patience=10, restore_best_weights=True)\n",
    "\n",
    "callbacks = [checkpoint, earlystopping]\n",
    "\n",
    "\n",
    "history = regressor.fit(trainX, trainY, batch_size = 32, epochs = 150, verbose=1, shuffle=False, validation_data=(testX, testY), callbacks=callbacks)"
   ]
  },
  {
   "cell_type": "code",
   "execution_count": 63,
   "id": "47a53e87",
   "metadata": {
    "pycharm": {
     "name": "#%%\n"
    }
   },
   "outputs": [],
   "source": [
    "## Save LSTM Model\n",
    "#\n",
    "from  keras.models import load_model\n",
    "\n",
    "model_from_saved_checkpoint = load_model(checkpoint_path)"
   ]
  },
  {
   "cell_type": "code",
   "execution_count": 64,
   "id": "08375184",
   "metadata": {
    "pycharm": {
     "name": "#%%\n"
    }
   },
   "outputs": [
    {
     "data": {
      "image/png": "[encoded data removed]",
      "text/plain": [
       "<Figure size 1152x504 with 1 Axes>"
      ]
     },
     "metadata": {},
     "output_type": "display_data"
    }
   ],
   "source": [
    "## Visualise Loss\n",
    "\n",
    "plt.figure(figsize=(16,7))\n",
    "plt.plot(history.history['loss'], label='train')\n",
    "\n",
    "plt.plot(history.history['val_loss'], label='test')\n",
    "plt.legend()\n",
    "plt.show()"
   ]
  },
  {
   "cell_type": "code",
   "execution_count": 65,
   "id": "06282b27",
   "metadata": {
    "pycharm": {
     "name": "#%%\n"
    }
   },
   "outputs": [
    {
     "name": "stdout",
     "output_type": "stream",
     "text": [
      "8/8 [==============================] - 1s 4ms/step\n"
     ]
    }
   ],
   "source": [
    "# Transformation to original form and making the predictions\n",
    "\n",
    "predicted_btc_price_test_data = regressor.predict(testX)\n",
    "# test_predicted = model_from_saved_checkpoint.predict(testing_data_X)\n",
    "\n",
    "predicted_btc_price_test_data = scaler_test.inverse_transform(predicted_btc_price_test_data.reshape(-1, 1))\n",
    "test_actual = scaler_test.inverse_transform(testY.reshape(-1, 1))"
   ]
  },
  {
   "cell_type": "code",
   "execution_count": 83,
   "id": "9750d755",
   "metadata": {
    "pycharm": {
     "name": "#%%\n"
    }
   },
   "outputs": [
    {
     "data": {
      "text/plain": [
       "2151.8864299727534"
      ]
     },
     "execution_count": 83,
     "metadata": {},
     "output_type": "execute_result"
    }
   ],
   "source": [
    "def rmse(actual, predict):\n",
    "    \n",
    "    predict = np.array(predict)\n",
    "    actual = np.array(actual)\n",
    "    mse = mean_squared_error(actual, predict)\n",
    "    rmse = math.sqrt(mse)\n",
    "    return rmse\n",
    "\n",
    "rmse(test_actual, predicted_btc_price_test_data )"
   ]
  },
  {
   "cell_type": "code",
   "execution_count": 67,
   "id": "fe5511c3",
   "metadata": {
    "pycharm": {
     "name": "#%%\n"
    }
   },
   "outputs": [
    {
     "data": {
      "image/png": "[encoded data removed]",
      "text/plain": [
       "<Figure size 1152x504 with 1 Axes>"
      ]
     },
     "metadata": {},
     "output_type": "display_data"
    }
   ],
   "source": [
    "plt.figure(figsize=(16,7))\n",
    "\n",
    "plt.plot(predicted_btc_price_test_data, 'r', marker='.', label='Predicted Test')\n",
    "\n",
    "plt.plot(test_actual, marker='.', label='Actual Test')\n",
    "\n",
    "plt.legend()\n",
    "plt.show()"
   ]
  },
  {
   "cell_type": "code",
   "execution_count": 84,
   "id": "90e4ce4d",
   "metadata": {
    "pycharm": {
     "name": "#%%\n"
    }
   },
   "outputs": [
    {
     "name": "stdout",
     "output_type": "stream",
     "text": [
      "1/1 [==============================] - 0s 18ms/step\n",
      "1/1 [==============================] - 0s 18ms/step\n",
      "1/1 [==============================] - 0s 19ms/step\n",
      "1/1 [==============================] - 0s 17ms/step\n",
      "1/1 [==============================] - 0s 17ms/step\n",
      "Forecast: [[[20536.395]]\n",
      "\n",
      " [[21043.666]]\n",
      "\n",
      " [[21146.39 ]]\n",
      "\n",
      " [[21132.93 ]]\n",
      "\n",
      " [[20799.85 ]]]\n"
     ]
    }
   ],
   "source": [
    "## Future 5 days\n",
    "\n",
    "testX.shape\n",
    "look_back = 5\n",
    "past_days = testX[testX.shape[0] - look_back :]\n",
    "\n",
    "past_days.shape\n",
    "past_days\n",
    "\n",
    "future_days = []\n",
    "for i in range(5):\n",
    "    forecast_test_x = model_from_saved_checkpoint.predict(past_days[i:i+1])\n",
    "    forecast_test_x = scaler_test.inverse_transform(forecast_test_x.reshape(-1,1))\n",
    "    future_days.append(forecast_test_x)\n",
    "\n",
    "print (\"Forecast:\", np.array(future_days))\n",
    "\n"
   ]
  },
  {
   "cell_type": "code",
   "execution_count": null,
   "id": "d257312c",
   "metadata": {
    "pycharm": {
     "name": "#%%\n"
    }
   },
   "outputs": [],
   "source": []
  }
 ],
 "metadata": {
  "kernelspec": {
   "display_name": "Python 3 (ipykernel)",
   "language": "python",
   "name": "python3"
  },
  "language_info": {
   "codemirror_mode": {
    "name": "ipython",
    "version": 3
   },
   "file_extension": ".py",
   "mimetype": "text/x-python",
   "name": "python",
   "nbconvert_exporter": "python",
   "pygments_lexer": "ipython3",
   "version": "3.9.10"
  }
 },
 "nbformat": 4,
 "nbformat_minor": 5
}