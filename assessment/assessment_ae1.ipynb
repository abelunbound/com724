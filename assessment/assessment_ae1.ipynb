{
 "cells": [
  {
   "cell_type": "code",
   "execution_count": 3,
   "metadata": {
    "collapsed": true,
    "pycharm": {
     "name": "#%%\n"
    }
   },
   "outputs": [],
   "source": [
    "# Background\n",
    "# Problem Statement\n",
    "# Value Proposition\n",
    "# Success Metrics"
   ]
  },
  {
   "cell_type": "code",
   "execution_count": 4,
   "outputs": [],
   "source": [
    "# Past Solutions and Challenges\n",
    "\n",
    "# Brownian movement\n",
    "# Monte Carlo simulation\n",
    "# Twitter sentiments\n",
    "# Black Swan events"
   ],
   "metadata": {
    "collapsed": false,
    "pycharm": {
     "name": "#%%\n"
    }
   }
  },
  {
   "cell_type": "code",
   "execution_count": 8,
   "outputs": [
    {
     "ename": "ModuleNotFoundError",
     "evalue": "No module named 'yfinance'",
     "output_type": "error",
     "traceback": [
      "\u001B[1;31m---------------------------------------------------------------------------\u001B[0m",
      "\u001B[1;31mModuleNotFoundError\u001B[0m                       Traceback (most recent call last)",
      "Input \u001B[1;32mIn [8]\u001B[0m, in \u001B[0;36m<cell line: 5>\u001B[1;34m()\u001B[0m\n\u001B[0;32m      1\u001B[0m \u001B[38;5;66;03m##Data Collection and Storage\u001B[39;00m\n\u001B[0;32m      2\u001B[0m \n\u001B[0;32m      3\u001B[0m \u001B[38;5;66;03m###Import relevant libraries\u001B[39;00m\n\u001B[1;32m----> 5\u001B[0m \u001B[38;5;28;01mimport\u001B[39;00m \u001B[38;5;21;01myfinance\u001B[39;00m \u001B[38;5;28;01mas\u001B[39;00m \u001B[38;5;21;01myf\u001B[39;00m\n\u001B[0;32m      6\u001B[0m \u001B[38;5;28;01mimport\u001B[39;00m \u001B[38;5;21;01mpandas\u001B[39;00m \u001B[38;5;28;01mas\u001B[39;00m \u001B[38;5;21;01mpd\u001B[39;00m\n\u001B[0;32m      7\u001B[0m \u001B[38;5;28;01mfrom\u001B[39;00m \u001B[38;5;21;01mpandas\u001B[39;00m \u001B[38;5;28;01mimport\u001B[39;00m  read_csv\n",
      "\u001B[1;31mModuleNotFoundError\u001B[0m: No module named 'yfinance'"
     ]
    }
   ],
   "source": [
    "##Data Collection and Storage\n",
    "\n",
    "###Import relevant libraries\n",
    "\n",
    "import yfinance as yf\n",
    "import pandas as pd\n",
    "from pandas import  read_csv\n",
    "from pandas import set_option\n",
    "from matplotlib import pyplot as plt\n",
    "\n",
    "###Import live data from YahooFinance! API and Store in a dataframe\n",
    "#Create an empty pandas dataframe\n",
    "df = pd.DataFrame()\n",
    "\n",
    "#Create a list with all crypto symbols. Use top 10 coins by market capitalisation according to CoinGecko.com\n",
    "crypto_ticker = ['BTC', 'ETH', 'USDT', 'USDC', 'BNB', 'BUSD', 'XRP', 'ADA', 'SOL', 'DOGE']\n",
    "\n",
    "#Extract data for each of the 10 coins from YahooFinance! using a For loop.\n",
    "for each_crypto_ticker in crypto_ticker:\n",
    "\n",
    "    #Get the numerical value representing the position of each crypto symbol in the list; store this in a variable\n",
    "    each_crypto_ticker_index = crypto_ticker.index(each_crypto_ticker)\n",
    "\n",
    "    #Get crypto data for the cryptocurrency corresponding to the crypto_ticker symbol represented by the index number in the variable above.\n",
    "    crypto_data = yf.Ticker(f\"{each_crypto_ticker}-USD\").history(start='2019-01-01', end='2022-06-30', interval='1d')\n",
    "\n",
    "    #Put data for each crypto coin in a Pandas Dataframe\n",
    "    crypto_dataframe = pd.DataFrame(crypto_data)\n",
    "\n",
    "    #Create a new column called 'crypto_ticker' and fill each row with the item in the crypto_ticker list being looped over.\n",
    "    crypto_dataframe['crypto_ticker'] = each_crypto_ticker\n",
    "\n",
    "    #Append the collected data in 'crypto_dataframe' for a particular ticker symbol into the 'df' dataframe for each loop because by the next loop, content of crypto_dataframe would be replaced with content for that loop.\n",
    "    df = pd.concat([df, crypto_dataframe])\n",
    "\n",
    "\n",
    "set_option('display.width', 500)\n",
    "df\n",
    "\n",
    "###Convert data to CSV and store it\n",
    "df.to_csv(\"soligencecryptodata.csv\")\n",
    "\n",
    "###Extract data to different dataframes to simplify data understanding for each cryptocurrency\n",
    "BTC_crypto_data = df.loc[df['crypto_ticker'] == 'BTC']\n",
    "ETH_crypto_data = df.loc[df['crypto_ticker'] == 'ETH']\n",
    "USDT_crypto_data = df.loc[df['crypto_ticker'] == 'USDT']\n",
    "USDC_crypto_data = df.loc[df['crypto_ticker'] == 'USDC']\n",
    "BNB_crypto_data = df.loc[df['crypto_ticker'] == 'BNB']\n",
    "BUSD_crypto_data = df.loc[df['crypto_ticker'] == 'BUSD']\n",
    "XRP_crypto_data = df.loc[df['crypto_ticker'] == 'XRP']\n",
    "ADA_crypto_data = df.loc[df['crypto_ticker'] == 'ADA']\n",
    "SOL_crypto_data = df.loc[df['crypto_ticker'] == 'SOL']\n",
    "DOGE_crypto_data = df.loc[df['crypto_ticker'] == 'DOGE']\n",
    "\n",
    "\n",
    "###Twitter and other Social media sentiment?\n",
    "\n",
    "##Data Understanding\n",
    "print(\"\\n-----Data Profile-----\\n\")\n",
    "print(df.shape)\n",
    "print(df.dtypes)\n",
    "print(\"\\n-----Statistical Analysis-----\\n\")\n",
    "print(BTC_crypto_data.describe())\n",
    "\n",
    "BTC_crypto_data.hist()\n",
    "plt.tight_layout()\n",
    "plt.show()\n",
    "\n",
    "\n",
    "\n",
    "#Data Preprocessing\n",
    "print(\"\\n-----Missing Values-----\\n\")\n",
    "print(df.isna().sum())\n"
   ],
   "metadata": {
    "collapsed": false,
    "pycharm": {
     "name": "#%%\n"
    }
   }
  },
  {
   "cell_type": "code",
   "execution_count": null,
   "outputs": [],
   "source": [],
   "metadata": {
    "collapsed": false,
    "pycharm": {
     "name": "#%%\n"
    }
   }
  },
  {
   "cell_type": "code",
   "execution_count": null,
   "outputs": [],
   "source": [],
   "metadata": {
    "collapsed": false,
    "pycharm": {
     "name": "#%%\n"
    }
   }
  },
  {
   "cell_type": "code",
   "execution_count": null,
   "outputs": [],
   "source": [
    "#Predictive Modelling"
   ],
   "metadata": {
    "collapsed": false,
    "pycharm": {
     "name": "#%%\n"
    }
   }
  }
 ],
 "metadata": {
  "kernelspec": {
   "display_name": "Python 3",
   "language": "python",
   "name": "python3"
  },
  "language_info": {
   "codemirror_mode": {
    "name": "ipython",
    "version": 2
   },
   "file_extension": ".py",
   "mimetype": "text/x-python",
   "name": "python",
   "nbconvert_exporter": "python",
   "pygments_lexer": "ipython2",
   "version": "2.7.6"
  }
 },
 "nbformat": 4,
 "nbformat_minor": 0
}