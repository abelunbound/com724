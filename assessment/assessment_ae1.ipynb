{
 "cells": [
  {
   "cell_type": "code",
   "execution_count": null,
   "metadata": {
    "collapsed": true,
    "pycharm": {
     "name": "#%%\n"
    }
   },
   "outputs": [],
   "source": [
    "# Background\n",
    "# Problem Statement\n",
    "# Value Proposition\n",
    "# Success Metrics"
   ]
  },
  {
   "cell_type": "code",
   "execution_count": null,
   "outputs": [],
   "source": [
    "#Past Solutions and Challenges\n",
    "\n",
    "# Brownian movement\n",
    "# Monte Carlo simulation\n",
    "# Twitter sentiments\n",
    "# Black Swan events"
   ],
   "metadata": {
    "collapsed": false,
    "pycharm": {
     "name": "#%%\n"
    }
   }
  },
  {
   "cell_type": "code",
   "execution_count": 3,
   "outputs": [
    {
     "name": "stdout",
     "output_type": "stream",
     "text": [
      "\n",
      "-----Data Profile-----\n",
      "\n",
      "(12033, 8)\n",
      "Open             float64\n",
      "High             float64\n",
      "Low              float64\n",
      "Close            float64\n",
      "Volume             int64\n",
      "Dividends          int64\n",
      "Stock Splits       int64\n",
      "crypto_ticker     object\n",
      "dtype: object\n",
      "\n",
      "-----Statistical Analysis-----\n",
      "\n",
      "               Open          High           Low         Close        Volume  Dividends  Stock Splits\n",
      "count   1276.000000   1276.000000   1276.000000   1276.000000  1.276000e+03     1276.0        1276.0\n",
      "mean   24079.027707  24691.323822  23391.427833  24088.473262  3.186891e+10        0.0           0.0\n",
      "std    18714.402283  19201.156018  18138.906995  18700.679567  1.948569e+10        0.0           0.0\n",
      "min     3401.376465   3427.945557   3391.023682   3399.471680  4.324201e+09        0.0           0.0\n",
      "25%     8705.438965   8857.788086   8556.485352   8716.995117  1.935492e+10        0.0           0.0\n",
      "50%    11776.084961  11974.938965  11552.476074  11787.527344  2.861859e+10        0.0           0.0\n",
      "75%    40683.366211  41961.235352  39612.325195  40715.941406  3.935808e+10        0.0           0.0\n",
      "max    67549.734375  68789.625000  66382.062500  67566.828125  3.509679e+11        0.0           0.0\n"
     ]
    },
    {
     "data": {
      "text/plain": "<Figure size 432x288 with 9 Axes>",
      "image/png": "[encoded data removed]"
     },
     "metadata": {
      "needs_background": "light"
     },
     "output_type": "display_data"
    },
    {
     "name": "stdout",
     "output_type": "stream",
     "text": [
      "\n",
      "-----Missing Values-----\n",
      "\n",
      "Open             0\n",
      "High             0\n",
      "Low              0\n",
      "Close            0\n",
      "Volume           0\n",
      "Dividends        0\n",
      "Stock Splits     0\n",
      "crypto_ticker    0\n",
      "dtype: int64\n"
     ]
    }
   ],
   "source": [
    "##Data Collection and Storage\n",
    "\n",
    "###Import relevant libraries\n",
    "\n",
    "import yfinance as yf\n",
    "import pandas as pd\n",
    "from pandas import  read_csv\n",
    "from pandas import set_option\n",
    "from matplotlib import pyplot as plt\n",
    "\n",
    "\n",
    "###Import live data from YahooFinance! API and Store in a dataframe\n",
    "#Create an empty pandas dataframe\n",
    "df = pd.DataFrame()\n",
    "\n",
    "#Create a list with all crypto symbols. Use top 10 coins by market capitalisation according to CoinGecko.com\n",
    "crypto_ticker = ['BTC', 'ETH', 'USDT', 'USDC', 'BNB', 'BUSD', 'XRP', 'ADA', 'SOL', 'DOGE']\n",
    "\n",
    "#Extract data for each of the 10 coins from YahooFinance! using a For loop.\n",
    "for each_crypto_ticker in crypto_ticker:\n",
    "\n",
    "    #Get the numerical value representing the position of each crypto symbol in the list; store this in a variable\n",
    "    each_crypto_ticker_index = crypto_ticker.index(each_crypto_ticker)\n",
    "\n",
    "    #Get crypto data for the cryptocurrency corresponding to the crypto_ticker symbol represented by the index number in the variable above.\n",
    "    crypto_data = yf.Ticker(f\"{each_crypto_ticker}-USD\").history(start='2019-01-01', end='2022-06-30', interval='1d')\n",
    "\n",
    "    #Put data for each crypto coin in a Pandas Dataframe\n",
    "    crypto_dataframe = pd.DataFrame(crypto_data)\n",
    "\n",
    "    #Create a new column called 'crypto_ticker' and fill each row with the item in the crypto_ticker list being looped over.\n",
    "    crypto_dataframe['crypto_ticker'] = each_crypto_ticker\n",
    "\n",
    "    #Append the collected data in 'crypto_dataframe' for a particular ticker symbol into the 'df' dataframe for each loop because by the next loop, content of crypto_dataframe would be replaced with content for that loop.\n",
    "    df = pd.concat([df, crypto_dataframe])\n",
    "\n",
    "\n",
    "set_option('display.width', 500)\n",
    "df\n",
    "\n",
    "###Convert data to CSV and store it\n",
    "df.to_csv(\"soligencecryptodata.csv\")\n",
    "\n",
    "###Extract data to different dataframes to simplify data understanding for each cryptocurrency\n",
    "BTC_crypto_data = df.loc[df['crypto_ticker'] == 'BTC']\n",
    "ETH_crypto_data = df.loc[df['crypto_ticker'] == 'ETH']\n",
    "USDT_crypto_data = df.loc[df['crypto_ticker'] == 'USDT']\n",
    "USDC_crypto_data = df.loc[df['crypto_ticker'] == 'USDC']\n",
    "BNB_crypto_data = df.loc[df['crypto_ticker'] == 'BNB']\n",
    "BUSD_crypto_data = df.loc[df['crypto_ticker'] == 'BUSD']\n",
    "XRP_crypto_data = df.loc[df['crypto_ticker'] == 'XRP']\n",
    "ADA_crypto_data = df.loc[df['crypto_ticker'] == 'ADA']\n",
    "SOL_crypto_data = df.loc[df['crypto_ticker'] == 'SOL']\n",
    "DOGE_crypto_data = df.loc[df['crypto_ticker'] == 'DOGE']\n",
    "\n",
    "\n",
    "###Twitter and other Social media sentiment?\n",
    "\n",
    "##Data Understanding\n",
    "print(\"\\n-----Data Profile-----\\n\")\n",
    "print(df.shape)\n",
    "print(df.dtypes)\n",
    "print(\"\\n-----Statistical Analysis-----\\n\")\n",
    "print(BTC_crypto_data.describe())\n",
    "\n",
    "BTC_crypto_data.hist()\n",
    "plt.tight_layout()\n",
    "plt.show()\n",
    "\n",
    "\n",
    "\n",
    "#Data Preprocessing\n",
    "print(\"\\n-----Missing Values-----\\n\")\n",
    "print(df.isna().sum())\n"
   ],
   "metadata": {
    "collapsed": false,
    "pycharm": {
     "name": "#%%\n"
    }
   }
  },
  {
   "cell_type": "code",
   "execution_count": null,
   "outputs": [],
   "source": [],
   "metadata": {
    "collapsed": false,
    "pycharm": {
     "name": "#%%\n"
    }
   }
  },
  {
   "cell_type": "code",
   "execution_count": null,
   "outputs": [],
   "source": [
    "#Predictive Modelling"
   ],
   "metadata": {
    "collapsed": false,
    "pycharm": {
     "name": "#%%\n"
    }
   }
  }
 ],
 "metadata": {
  "kernelspec": {
   "display_name": "Python 3",
   "language": "python",
   "name": "python3"
  },
  "language_info": {
   "codemirror_mode": {
    "name": "ipython",
    "version": 2
   },
   "file_extension": ".py",
   "mimetype": "text/x-python",
   "name": "python",
   "nbconvert_exporter": "python",
   "pygments_lexer": "ipython2",
   "version": "2.7.6"
  }
 },
 "nbformat": 4,
 "nbformat_minor": 0
}