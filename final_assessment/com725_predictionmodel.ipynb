{
 "cells": [
  {
   "cell_type": "code",
   "execution_count": 1,
   "metadata": {
    "pycharm": {
     "name": "#%%\n"
    }
   },
   "outputs": [],
   "source": [
    "## General Notes"
   ]
  },
  {
   "cell_type": "code",
   "execution_count": 1,
   "metadata": {
    "pycharm": {
     "name": "#%%\n"
    }
   },
   "outputs": [],
   "source": [
    "#### All dependencies\n",
    "\n",
    "## Data collection and visualisation\n",
    "\n",
    "import yfinance as yf\n",
    "import pandas as pd\n",
    "from pandas import  read_csv\n",
    "from pandas import set_option\n",
    "from matplotlib import pyplot as plt\n",
    "%matplotlib inline\n",
    "import matplotlib.dates as mpl_dates\n",
    "\n",
    "\n",
    "import plotly.offline as py\n",
    "import plotly.graph_objects as go\n",
    "import plotly.express as px\n",
    "from plotly.subplots import make_subplots\n",
    "\n",
    "plt.style.use('seaborn-darkgrid')\n",
    "\n",
    "## Prediction Engine, Featuring Engineering, Model Evaluation\n",
    "import warnings\n",
    "warnings.filterwarnings('ignore')\n",
    "import os\n",
    "# import pandas as pd\n",
    "import numpy as np\n",
    "import math\n",
    "import datetime as dt\n",
    "# import matplotlib.pyplot as plt\n",
    "\n",
    "from sklearn.metrics import mean_squared_error, mean_absolute_error, explained_variance_score, r2_score \n",
    "from sklearn.metrics import mean_poisson_deviance, mean_gamma_deviance, accuracy_score\n",
    "from sklearn.preprocessing import MinMaxScaler\n",
    "\n",
    "from itertools import product\n",
    "import statsmodels.api as sm\n",
    "\n",
    "import tensorflow as tf\n",
    "\n",
    "from keras.models import Sequential\n",
    "from keras.models import load_model\n",
    "from keras.layers import Activation, Dense, Dropout\n",
    "from keras.layers import LSTM\n",
    "\n",
    "from itertools import cycle\n",
    "# import plotly.offline as py\n",
    "# import plotly.graph_objects as go\n",
    "# import plotly.express as px\n",
    "# from plotly.subplots import make_subplots\n",
    "\n",
    "# plt.style.use('seaborn-darkgrid')\n",
    "\n"
   ]
  },
  {
   "cell_type": "code",
   "execution_count": 13,
   "metadata": {
    "pycharm": {
     "name": "#%%\n"
    }
   },
   "outputs": [],
   "source": [
    "prepared_data = pd.read_csv('combined_data.csv', encoding='latin-1')\n",
    "nigeria = prepared_data.loc[prepared_data['NAME'] == 'Nigeria']\n",
    "\n",
    "nigeria.drop(nigeria.columns[[15,16,17,19,20,21,22,23,24,25,26,]], axis=1, inplace=True)\n",
    "\n",
    "nigeria=nigeria.loc[:,['Poliomyelitis']]\n",
    "\n",
    "\n",
    "# Split data into training and test data 80% for training data and 20% for test data\n",
    "prediction_period = 15 # In days\n",
    "\n",
    "training_data = nigeria[:len(nigeria)-prediction_period].values.reshape(-1,1)\n",
    "testing_data = nigeria[len(nigeria)-prediction_period:].values.reshape(-1,1)\n",
    "\n",
    "# Scale the data\n",
    "scaler_train = MinMaxScaler(feature_range=(0,1))\n",
    "scaled_train = scaler_train.fit_transform(training_data)\n",
    "\n",
    "\n",
    "scaler_test = MinMaxScaler(feature_range=(0,1))\n",
    "scaled_test = scaler_test.fit_transform(testing_data)\n"
   ]
  },
  {
   "cell_type": "code",
   "execution_count": 14,
   "metadata": {
    "pycharm": {
     "name": "#%%\n"
    }
   },
   "outputs": [
    {
     "data": {
      "text/plain": "array([[1.00000000e+00],\n       [3.11188811e-01],\n       [7.56993007e-01],\n       [4.74650350e-01],\n       [4.19580420e-02],\n       [8.39160839e-02],\n       [1.13636364e-01],\n       [4.98251748e-02],\n       [5.24475524e-03],\n       [8.74125874e-04],\n       [3.49650350e-03],\n       [0.00000000e+00],\n       [2.97202797e-02],\n       [1.57342657e-02],\n       [6.99300699e-03]])"
     },
     "execution_count": 14,
     "metadata": {},
     "output_type": "execute_result"
    }
   ],
   "source": [
    "scaled_test"
   ]
  },
  {
   "cell_type": "code",
   "execution_count": 15,
   "metadata": {
    "pycharm": {
     "name": "#%%\n"
    }
   },
   "outputs": [
    {
     "name": "stdout",
     "output_type": "stream",
     "text": [
      "(23, 3)\n",
      "(23,)\n",
      "(12, 3)\n",
      "(12,)\n",
      "Shape of trainX:  (23, 3, 1)\n",
      "Shape of testX:  (12, 3, 1)\n"
     ]
    }
   ],
   "source": [
    "#### Feature Engineering\n",
    "\n",
    "\n",
    "#Create a series of timesteps and observations for X and Y axis for test and training data\n",
    "\n",
    "def split_x_and_yaxis(dataset, look_back=3):\n",
    "\n",
    "    dataX, dataY = [], []\n",
    "\n",
    "    for i in range(len(dataset) - look_back):\n",
    "        window_size_x = dataset[i:(i + look_back), 0]\n",
    "        \n",
    "        dataX.append(window_size_x)\n",
    "        dataY.append(dataset[i + look_back, 0]) # this is the label or actual y-value\n",
    "    return np.array(dataX), np.array(dataY)\n",
    "\n",
    "trainX, trainY = split_x_and_yaxis(scaled_train)\n",
    "testX, testY = split_x_and_yaxis(scaled_test)\n",
    "\n",
    "\n",
    "\n",
    "## View shape of the datasets\n",
    "print(trainX.shape)\n",
    "print(trainY.shape)\n",
    "print(testX.shape)\n",
    "print(testY.shape)\n",
    "\n",
    "## Reshape data to 3D Tensors for LSTM for (Samples, timesteps, features) Batch size, timesteps or lookback, target features\n",
    "\n",
    "trainX = np.reshape(trainX, (trainX.shape[0], trainX.shape[1], 1))\n",
    "testX = np.reshape(testX, (testX.shape[0], testX.shape[1], 1 ))\n",
    "\n",
    "print(\"Shape of trainX: \", trainX.shape)\n",
    "print(\"Shape of testX: \", testX.shape)\n"
   ]
  },
  {
   "cell_type": "code",
   "execution_count": 16,
   "metadata": {
    "pycharm": {
     "name": "#%%\n"
    }
   },
   "outputs": [
    {
     "data": {
      "text/plain": "array([[[0.41827188],\n        [0.15354981],\n        [0.18657127]],\n\n       [[0.15354981],\n        [0.18657127],\n        [0.1849202 ]],\n\n       [[0.18657127],\n        [0.1849202 ],\n        [0.31315355]],\n\n       [[0.1849202 ],\n        [0.31315355],\n        [0.49697303]],\n\n       [[0.31315355],\n        [0.49697303],\n        [0.21849202]],\n\n       [[0.49697303],\n        [0.21849202],\n        [0.30269675]],\n\n       [[0.21849202],\n        [0.30269675],\n        [0.77270226]],\n\n       [[0.30269675],\n        [0.77270226],\n        [0.21959274]],\n\n       [[0.77270226],\n        [0.21959274],\n        [1.        ]],\n\n       [[0.21959274],\n        [1.        ],\n        [0.43258118]],\n\n       [[1.        ],\n        [0.43258118],\n        [0.49587232]],\n\n       [[0.43258118],\n        [0.49587232],\n        [0.56521739]],\n\n       [[0.49587232],\n        [0.56521739],\n        [0.24545955]],\n\n       [[0.56521739],\n        [0.24545955],\n        [0.21078701]],\n\n       [[0.24545955],\n        [0.21078701],\n        [0.48761695]],\n\n       [[0.21078701],\n        [0.48761695],\n        [0.17996698]],\n\n       [[0.48761695],\n        [0.17996698],\n        [0.14089158]],\n\n       [[0.17996698],\n        [0.14089158],\n        [0.5090809 ]],\n\n       [[0.14089158],\n        [0.5090809 ],\n        [0.3203082 ]],\n\n       [[0.5090809 ],\n        [0.3203082 ],\n        [0.        ]],\n\n       [[0.3203082 ],\n        [0.        ],\n        [0.08035223]],\n\n       [[0.        ],\n        [0.08035223],\n        [0.16455696]],\n\n       [[0.08035223],\n        [0.16455696],\n        [0.39955971]]])"
     },
     "execution_count": 16,
     "metadata": {},
     "output_type": "execute_result"
    }
   ],
   "source": [
    "trainX"
   ]
  },
  {
   "cell_type": "code",
   "execution_count": 17,
   "metadata": {
    "pycharm": {
     "name": "#%%\n"
    }
   },
   "outputs": [
    {
     "name": "stdout",
     "output_type": "stream",
     "text": [
      "Model: \"sequential\"\n",
      "_________________________________________________________________\n",
      " Layer (type)                Output Shape              Param #   \n",
      "=================================================================\n",
      " lstm (LSTM)                 (None, 3, 128)            66560     \n",
      "                                                                 \n",
      " dropout (Dropout)           (None, 3, 128)            0         \n",
      "                                                                 \n",
      " lstm_1 (LSTM)               (None, 3, 64)             49408     \n",
      "                                                                 \n",
      " dropout_1 (Dropout)         (None, 3, 64)             0         \n",
      "                                                                 \n",
      " lstm_2 (LSTM)               (None, 3, 64)             33024     \n",
      "                                                                 \n",
      " dropout_2 (Dropout)         (None, 3, 64)             0         \n",
      "                                                                 \n",
      " lstm_3 (LSTM)               (None, 64)                33024     \n",
      "                                                                 \n",
      " dropout_3 (Dropout)         (None, 64)                0         \n",
      "                                                                 \n",
      " dense (Dense)               (None, 1)                 65        \n",
      "                                                                 \n",
      "=================================================================\n",
      "Total params: 182,081\n",
      "Trainable params: 182,081\n",
      "Non-trainable params: 0\n",
      "_________________________________________________________________\n"
     ]
    }
   ],
   "source": [
    "#### LSTM Prediction Engine\n",
    "\n",
    "##Create the LSTM Model\n",
    "\n",
    "regressor = Sequential()\n",
    "# First Layer\n",
    "regressor.add(LSTM(units = 128, activation = 'relu',return_sequences=True, input_shape = (trainX.shape[1], trainX.shape[2])))\n",
    "regressor.add(Dropout(0.2))\n",
    "\n",
    "# Second Layer\n",
    "regressor.add(LSTM(units = 64, activation = 'relu',return_sequences=True, input_shape = (trainX.shape[1], trainX.shape[2])))\n",
    "regressor.add(Dropout(0.2))\n",
    "\n",
    "# Third Layer\n",
    "regressor.add(LSTM(units = 64, activation = 'relu',return_sequences=True, input_shape = (trainX.shape[1], trainX.shape[2])))\n",
    "regressor.add(Dropout(0.2))\n",
    "\n",
    "# Fourth Layer\n",
    "regressor.add(LSTM(units = 64, input_shape = (trainX.shape[1], trainX.shape[2])))\n",
    "regressor.add(Dropout(0.2))\n",
    "\n",
    "# Adding the output layer\n",
    "regressor.add(Dense(units = 1))\n",
    "regressor.summary()\n"
   ]
  },
  {
   "cell_type": "code",
   "execution_count": 28,
   "metadata": {
    "pycharm": {
     "name": "#%%\n"
    }
   },
   "outputs": [
    {
     "name": "stdout",
     "output_type": "stream",
     "text": [
      "Epoch 1/150\n",
      "1/1 [==============================] - ETA: 0s - loss: 0.1325\n",
      "Epoch 1: val_loss improved from inf to 0.01611, saving model to diseasemodel.hdf5\n",
      "1/1 [==============================] - 6s 6s/step - loss: 0.1325 - val_loss: 0.0161\n",
      "Epoch 2/150\n",
      "1/1 [==============================] - ETA: 0s - loss: 0.1239\n",
      "Epoch 2: val_loss did not improve from 0.01611\n",
      "1/1 [==============================] - 0s 36ms/step - loss: 0.1239 - val_loss: 0.0165\n",
      "Epoch 3/150\n",
      "1/1 [==============================] - ETA: 0s - loss: 0.1166\n",
      "Epoch 3: val_loss did not improve from 0.01611\n",
      "1/1 [==============================] - 0s 36ms/step - loss: 0.1166 - val_loss: 0.0174\n",
      "Epoch 4/150\n",
      "1/1 [==============================] - ETA: 0s - loss: 0.1107\n",
      "Epoch 4: val_loss did not improve from 0.01611\n",
      "1/1 [==============================] - 0s 37ms/step - loss: 0.1107 - val_loss: 0.0187\n",
      "Epoch 5/150\n",
      "1/1 [==============================] - ETA: 0s - loss: 0.1032\n",
      "Epoch 5: val_loss did not improve from 0.01611\n",
      "1/1 [==============================] - 0s 43ms/step - loss: 0.1032 - val_loss: 0.0205\n",
      "Epoch 6/150\n",
      "1/1 [==============================] - ETA: 0s - loss: 0.0948\n",
      "Epoch 6: val_loss did not improve from 0.01611\n",
      "1/1 [==============================] - 0s 38ms/step - loss: 0.0948 - val_loss: 0.0231\n",
      "Epoch 7/150\n",
      "1/1 [==============================] - ETA: 0s - loss: 0.0885\n",
      "Epoch 7: val_loss did not improve from 0.01611\n",
      "1/1 [==============================] - 0s 37ms/step - loss: 0.0885 - val_loss: 0.0265\n",
      "Epoch 8/150\n",
      "1/1 [==============================] - ETA: 0s - loss: 0.0790\n",
      "Epoch 8: val_loss did not improve from 0.01611\n",
      "1/1 [==============================] - 0s 38ms/step - loss: 0.0790 - val_loss: 0.0310\n",
      "Epoch 9/150\n",
      "1/1 [==============================] - ETA: 0s - loss: 0.0755\n",
      "Epoch 9: val_loss did not improve from 0.01611\n",
      "1/1 [==============================] - 0s 38ms/step - loss: 0.0755 - val_loss: 0.0366\n",
      "Epoch 10/150\n",
      "1/1 [==============================] - ETA: 0s - loss: 0.0685\n",
      "Epoch 10: val_loss did not improve from 0.01611\n",
      "1/1 [==============================] - 0s 39ms/step - loss: 0.0685 - val_loss: 0.0438\n",
      "Epoch 11/150\n",
      "1/1 [==============================] - ETA: 0s - loss: 0.0648\n",
      "Epoch 11: val_loss did not improve from 0.01611\n",
      "1/1 [==============================] - 0s 46ms/step - loss: 0.0648 - val_loss: 0.0526\n"
     ]
    }
   ],
   "source": [
    "## Compile the LSTM model\n",
    "\n",
    "from  keras.callbacks import ModelCheckpoint, EarlyStopping\n",
    "\n",
    "# Compiling the LSTM\n",
    "regressor.compile(optimizer = 'adam', loss = 'mean_squared_error')\n",
    "\n",
    "checkpoint_path = 'diseasemodel.hdf5'\n",
    "\n",
    "checkpoint = ModelCheckpoint(filepath=checkpoint_path,\n",
    "                             monitor='val_loss',\n",
    "                             verbose=1,\n",
    "                             save_best_only=True,\n",
    "                             mode='min')\n",
    "\n",
    "\n",
    "earlystopping = EarlyStopping(monitor='val_loss', patience=10, restore_best_weights=True)\n",
    "\n",
    "callbacks = [checkpoint, earlystopping]\n",
    "\n",
    "\n",
    "history = regressor.fit(trainX, trainY, batch_size = 32, epochs = 150, verbose=1, shuffle=False, validation_data=(testX, testY), callbacks=callbacks)"
   ]
  },
  {
   "cell_type": "code",
   "execution_count": 19,
   "metadata": {
    "pycharm": {
     "name": "#%%\n"
    }
   },
   "outputs": [],
   "source": [
    "## Save LSTM Model\n",
    "#\n",
    "from  keras.models import load_model\n",
    "\n",
    "model_from_saved_checkpoint = load_model(checkpoint_path)"
   ]
  },
  {
   "cell_type": "code",
   "execution_count": 20,
   "metadata": {
    "pycharm": {
     "name": "#%%\n"
    }
   },
   "outputs": [
    {
     "data": {
      "text/plain": "<Figure size 1152x504 with 1 Axes>",
      "image/png": "[encoded data removed]"
     },
     "metadata": {},
     "output_type": "display_data"
    }
   ],
   "source": [
    "## Visualise Loss\n",
    "\n",
    "plt.figure(figsize=(16,7))\n",
    "plt.plot(history.history['loss'], label='train')\n",
    "\n",
    "plt.plot(history.history['val_loss'], label='test')\n",
    "plt.legend()\n",
    "plt.show()"
   ]
  },
  {
   "cell_type": "code",
   "execution_count": 22,
   "metadata": {
    "pycharm": {
     "name": "#%%\n"
    }
   },
   "outputs": [
    {
     "name": "stdout",
     "output_type": "stream",
     "text": [
      "1/1 [==============================] - 0s 29ms/step\n"
     ]
    }
   ],
   "source": [
    "# Transformation to original form and making the predictions\n",
    "\n",
    "predicted_disease_cases = regressor.predict(testX)\n",
    "# test_predicted = model_from_saved_checkpoint.predict(testing_data_X)\n",
    "\n",
    "predicted_disease_cases  = scaler_test.inverse_transform(predicted_disease_cases .reshape(-1, 1))\n",
    "test_actual = scaler_test.inverse_transform(testY.reshape(-1, 1))"
   ]
  },
  {
   "cell_type": "code",
   "execution_count": 23,
   "metadata": {
    "pycharm": {
     "name": "#%%\n"
    }
   },
   "outputs": [
    {
     "data": {
      "text/plain": "array([[543.],\n       [ 48.],\n       [ 96.],\n       [130.],\n       [ 57.],\n       [  6.],\n       [  1.],\n       [  4.],\n       [  0.],\n       [ 34.],\n       [ 18.],\n       [  8.]])"
     },
     "execution_count": 23,
     "metadata": {},
     "output_type": "execute_result"
    }
   ],
   "source": [
    "test_actual"
   ]
  },
  {
   "cell_type": "code",
   "execution_count": 25,
   "metadata": {
    "pycharm": {
     "name": "#%%\n"
    }
   },
   "outputs": [
    {
     "data": {
      "text/plain": "<Figure size 1152x504 with 1 Axes>",
      "image/png": "[encoded data removed]"
     },
     "metadata": {},
     "output_type": "display_data"
    }
   ],
   "source": [
    "plt.figure(figsize=(16,7))\n",
    "\n",
    "plt.plot(predicted_disease_cases , 'r', marker='.', label='Predicted Test')\n",
    "\n",
    "plt.plot(test_actual, marker='.', label='Actual Test')\n",
    "\n",
    "plt.legend()\n",
    "plt.show()"
   ]
  },
  {
   "cell_type": "code",
   "execution_count": 26,
   "metadata": {
    "pycharm": {
     "name": "#%%\n"
    }
   },
   "outputs": [
    {
     "data": {
      "text/plain": "(12, 3, 1)"
     },
     "execution_count": 26,
     "metadata": {},
     "output_type": "execute_result"
    }
   ],
   "source": [
    "testX.shape"
   ]
  },
  {
   "cell_type": "code",
   "execution_count": 27,
   "metadata": {
    "pycharm": {
     "name": "#%%\n"
    }
   },
   "outputs": [
    {
     "name": "stdout",
     "output_type": "stream",
     "text": [
      "1/1 [==============================] - 1s 1s/step\n",
      "1/1 [==============================] - 0s 30ms/step\n",
      "1/1 [==============================] - 0s 86ms/step\n",
      "1/1 [==============================] - 0s 21ms/step\n",
      "Forecast: [[[79.28294 ]]\n",
      "\n",
      " [[79.19345 ]]\n",
      "\n",
      " [[79.18691 ]]\n",
      "\n",
      " [[79.197586]]]\n"
     ]
    }
   ],
   "source": [
    "## Future 5 days\n",
    "\n",
    "testX.shape\n",
    "look_back_years = 5\n",
    "past_years = testX[testX.shape[0] - look_back_years :]\n",
    "\n",
    "past_years.shape\n",
    "past_years\n",
    "\n",
    "future_years = []\n",
    "for i in range(4):\n",
    "    forecast_test_x = model_from_saved_checkpoint.predict(past_years[i:i+1])\n",
    "    forecast_test_x = scaler_test.inverse_transform(forecast_test_x.reshape(-1,1))\n",
    "    future_years.append(forecast_test_x)\n",
    "\n",
    "print (\"Forecast:\", np.array(future_years))\n",
    "\n"
   ]
  },
  {
   "cell_type": "code",
   "execution_count": 29,
   "metadata": {
    "pycharm": {
     "name": "#%%\n"
    }
   },
   "outputs": [
    {
     "data": {
      "text/plain": "144.67242195872672"
     },
     "execution_count": 29,
     "metadata": {},
     "output_type": "execute_result"
    }
   ],
   "source": [
    "def rmse(actual, predict):\n",
    "\n",
    "    predict = np.array(predict)\n",
    "    actual = np.array(actual)\n",
    "    mse = mean_squared_error(actual, predict)\n",
    "    rmse = math.sqrt(mse)\n",
    "    return rmse\n",
    "\n",
    "rmse(test_actual, predicted_disease_cases )"
   ]
  }
 ],
 "metadata": {
  "kernelspec": {
   "display_name": "Python 3 (ipykernel)",
   "language": "python",
   "name": "python3"
  },
  "language_info": {
   "codemirror_mode": {
    "name": "ipython",
    "version": 3
   },
   "file_extension": ".py",
   "mimetype": "text/x-python",
   "name": "python",
   "nbconvert_exporter": "python",
   "pygments_lexer": "ipython3",
   "version": "3.9.10"
  }
 },
 "nbformat": 4,
 "nbformat_minor": 1
}