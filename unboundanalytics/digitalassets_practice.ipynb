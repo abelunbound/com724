{
 "cells": [
  {
   "cell_type": "code",
   "execution_count": 1,
   "metadata": {
    "collapsed": true,
    "pycharm": {
     "name": "#%%\n"
    }
   },
   "outputs": [],
   "source": [
    "import yfinance as yf\n",
    "import pandas as pd\n",
    "import psycopg2\n",
    "\n",
    "from pandas import set_option\n",
    "from matplotlib import pyplot as plt\n",
    "# %matplotlib inline\n",
    "# %matplotlib inline\n",
    "# import matplotlib.dates as mpl_dates\n",
    "#\n",
    "#\n",
    "# import plotly.offline as py\n",
    "# import plotly.graph_objects as go\n",
    "# import plotly.express as px\n",
    "# from plotly.subplots import make_subplots"
   ]
  },
  {
   "cell_type": "markdown",
   "source": [
    "# Data Pipeline"
   ],
   "metadata": {
    "collapsed": false,
    "pycharm": {
     "name": "#%% md\n"
    }
   }
  },
  {
   "cell_type": "code",
   "execution_count": 14,
   "outputs": [],
   "source": [
    "\n",
    "def get_crypto_data(crypto_ticker, start_date, end_date):\n",
    "    data = pd.DataFrame()  #This is not really nessessary? Remove along with the concatenation that depends on it?\n",
    "\n",
    "    for each_crypto_ticker in crypto_ticker:\n",
    "        each_crypto_ticker_index = crypto_ticker.index(each_crypto_ticker) #This is redundant? Remove?\n",
    "        #Collect data from YFinance\n",
    "        crypto_data = yf.Ticker(f\"{each_crypto_ticker}-USD\").history(start=start_date, end=end_date, interval='1d')\n",
    "        #Store data in Pandas Dataframe\n",
    "        crypto_dataframe = pd.DataFrame(crypto_data)\n",
    "        #Create column to uniquely identify each crypto ticker\n",
    "        crypto_dataframe['crypto_ticker'] = each_crypto_ticker\n",
    "        #combine with empty data frame created\n",
    "        data = pd.concat([data, crypto_dataframe])\n",
    "\n",
    "    # data = data.rename_axis('cryptodate').reset_index()\n",
    "    data = data.rename_axis('cryptodate')\n",
    "    return data"
   ],
   "metadata": {
    "collapsed": false,
    "pycharm": {
     "name": "#%%\n"
    }
   }
  },
  {
   "cell_type": "code",
   "execution_count": 21,
   "outputs": [],
   "source": [
    "#Store data in SQL\n",
    "\n",
    "\n",
    "def store_in_postgresql(data, table_name):\n",
    "    try:\n",
    "        connection = psycopg2.connect(\n",
    "            user='abelakeni',\n",
    "            password='unbound365',\n",
    "            host='34.170.57.79',\n",
    "            port='5432',\n",
    "            database='unbound_digital_assets'\n",
    "        )\n",
    "\n",
    "        cursor = connection.cursor()\n",
    "\n",
    "        # Create table if not exists\n",
    "        create_table_query = f\"CREATE TABLE IF NOT EXISTS {table_name} (crypto_date DATE, Open FLOAT, High FLOAT, Low FLOAT, Close FLOAT, Volume FLOAT, Dividends FLOAT, Stock_Splits FLOAT, crypto_ticker VARCHAR)\"\n",
    "        cursor.execute(create_table_query)\n",
    "\n",
    "        # Insert data into the table\n",
    "        for index, row in data.iterrows():\n",
    "            sql = f\"INSERT INTO {table_name} (crypto_date, Open, High, Low, Close, Volume, Dividends, Stock_Splits, crypto_ticker ) VALUES (%s, %s, %s, %s, %s, %s, %s, %s, %s)\"\n",
    "            cursor.execute(sql, (index.date(), row['Open'], row['High'], row['Low'], row['Close'], row['Volume'], row['Dividends'], row['Stock Splits'], row['crypto_ticker'] ))\n",
    "\n",
    "        connection.commit()\n",
    "        print(\"Data inserted successfully into PostgreSQL database\")\n",
    "\n",
    "    except psycopg2.Error as error:\n",
    "        print(f\"Error: {error}\")\n",
    "    finally:\n",
    "        if 'connection' in locals() and connection is not None:\n",
    "            cursor.close()\n",
    "            connection.close()\n",
    "            print(\"PostgreSQL connection is closed\")\n",
    "\n",
    "\n",
    "\n",
    "# Replace 'your_table_name' with the name you want for your table in PostgreSQL\n",
    "# store_in_postgresql(your_dataframe, 'your_table_name')\n"
   ],
   "metadata": {
    "collapsed": false,
    "pycharm": {
     "name": "#%%\n"
    }
   }
  },
  {
   "cell_type": "code",
   "execution_count": 7,
   "outputs": [
    {
     "data": {
      "text/plain": "     cryptodate        Open        High         Low       Close       Volume  \\\n0    2015-01-01  320.434998  320.434998  314.002991  314.248993      8036550   \n1    2015-01-02  314.079010  315.838989  313.565002  315.032013      7860650   \n2    2015-01-03  314.846008  315.149994  281.082001  281.082001     33054400   \n3    2015-01-04  281.145996  287.230011  257.612000  264.195007     55629100   \n4    2015-01-05  265.084015  278.341003  265.084015  274.473999     43962800   \n...         ...         ...         ...         ...         ...          ...   \n7677 2023-11-26    1.000486    1.000609    0.999623    1.000211  30299804822   \n7678 2023-11-27    1.000214    1.000661    0.999835    0.999980  38568585545   \n7679 2023-11-28    1.000112    1.000668    0.999888    1.000377  37720536626   \n7680 2023-11-29    1.000326    1.000817    0.999889    1.000220  35115076722   \n7681 2023-11-30    1.000236    1.000390    0.999863    1.000156  29247809691   \n\n      Dividends  Stock Splits crypto_ticker  \n0             0             0           BTC  \n1             0             0           BTC  \n2             0             0           BTC  \n3             0             0           BTC  \n4             0             0           BTC  \n...         ...           ...           ...  \n7677          0             0          USDT  \n7678          0             0          USDT  \n7679          0             0          USDT  \n7680          0             0          USDT  \n7681          0             0          USDT  \n\n[7682 rows x 9 columns]",
      "text/html": "<div>\n<style scoped>\n    .dataframe tbody tr th:only-of-type {\n        vertical-align: middle;\n    }\n\n    .dataframe tbody tr th {\n        vertical-align: top;\n    }\n\n    .dataframe thead th {\n        text-align: right;\n    }\n</style>\n<table border=\"1\" class=\"dataframe\">\n  <thead>\n    <tr style=\"text-align: right;\">\n      <th></th>\n      <th>cryptodate</th>\n      <th>Open</th>\n      <th>High</th>\n      <th>Low</th>\n      <th>Close</th>\n      <th>Volume</th>\n      <th>Dividends</th>\n      <th>Stock Splits</th>\n      <th>crypto_ticker</th>\n    </tr>\n  </thead>\n  <tbody>\n    <tr>\n      <th>0</th>\n      <td>2015-01-01</td>\n      <td>320.434998</td>\n      <td>320.434998</td>\n      <td>314.002991</td>\n      <td>314.248993</td>\n      <td>8036550</td>\n      <td>0</td>\n      <td>0</td>\n      <td>BTC</td>\n    </tr>\n    <tr>\n      <th>1</th>\n      <td>2015-01-02</td>\n      <td>314.079010</td>\n      <td>315.838989</td>\n      <td>313.565002</td>\n      <td>315.032013</td>\n      <td>7860650</td>\n      <td>0</td>\n      <td>0</td>\n      <td>BTC</td>\n    </tr>\n    <tr>\n      <th>2</th>\n      <td>2015-01-03</td>\n      <td>314.846008</td>\n      <td>315.149994</td>\n      <td>281.082001</td>\n      <td>281.082001</td>\n      <td>33054400</td>\n      <td>0</td>\n      <td>0</td>\n      <td>BTC</td>\n    </tr>\n    <tr>\n      <th>3</th>\n      <td>2015-01-04</td>\n      <td>281.145996</td>\n      <td>287.230011</td>\n      <td>257.612000</td>\n      <td>264.195007</td>\n      <td>55629100</td>\n      <td>0</td>\n      <td>0</td>\n      <td>BTC</td>\n    </tr>\n    <tr>\n      <th>4</th>\n      <td>2015-01-05</td>\n      <td>265.084015</td>\n      <td>278.341003</td>\n      <td>265.084015</td>\n      <td>274.473999</td>\n      <td>43962800</td>\n      <td>0</td>\n      <td>0</td>\n      <td>BTC</td>\n    </tr>\n    <tr>\n      <th>...</th>\n      <td>...</td>\n      <td>...</td>\n      <td>...</td>\n      <td>...</td>\n      <td>...</td>\n      <td>...</td>\n      <td>...</td>\n      <td>...</td>\n      <td>...</td>\n    </tr>\n    <tr>\n      <th>7677</th>\n      <td>2023-11-26</td>\n      <td>1.000486</td>\n      <td>1.000609</td>\n      <td>0.999623</td>\n      <td>1.000211</td>\n      <td>30299804822</td>\n      <td>0</td>\n      <td>0</td>\n      <td>USDT</td>\n    </tr>\n    <tr>\n      <th>7678</th>\n      <td>2023-11-27</td>\n      <td>1.000214</td>\n      <td>1.000661</td>\n      <td>0.999835</td>\n      <td>0.999980</td>\n      <td>38568585545</td>\n      <td>0</td>\n      <td>0</td>\n      <td>USDT</td>\n    </tr>\n    <tr>\n      <th>7679</th>\n      <td>2023-11-28</td>\n      <td>1.000112</td>\n      <td>1.000668</td>\n      <td>0.999888</td>\n      <td>1.000377</td>\n      <td>37720536626</td>\n      <td>0</td>\n      <td>0</td>\n      <td>USDT</td>\n    </tr>\n    <tr>\n      <th>7680</th>\n      <td>2023-11-29</td>\n      <td>1.000326</td>\n      <td>1.000817</td>\n      <td>0.999889</td>\n      <td>1.000220</td>\n      <td>35115076722</td>\n      <td>0</td>\n      <td>0</td>\n      <td>USDT</td>\n    </tr>\n    <tr>\n      <th>7681</th>\n      <td>2023-11-30</td>\n      <td>1.000236</td>\n      <td>1.000390</td>\n      <td>0.999863</td>\n      <td>1.000156</td>\n      <td>29247809691</td>\n      <td>0</td>\n      <td>0</td>\n      <td>USDT</td>\n    </tr>\n  </tbody>\n</table>\n<p>7682 rows × 9 columns</p>\n</div>"
     },
     "execution_count": 7,
     "metadata": {},
     "output_type": "execute_result"
    }
   ],
   "source": [
    "crypto_ticker = ['BTC', 'ETH', 'USDT']\n",
    "start_date = '2015-01-01'\n",
    "end_date = '2023-11-30'\n",
    "\n",
    "\n",
    "test_data = get_crypto_data(crypto_ticker, start_date, end_date)\n",
    "# store_in_postgresql(test_data, 'digital_assets')\n",
    "test_data"
   ],
   "metadata": {
    "collapsed": false,
    "pycharm": {
     "name": "#%%\n"
    }
   }
  },
  {
   "cell_type": "code",
   "execution_count": 15,
   "outputs": [
    {
     "data": {
      "text/plain": "                  Open        High         Low       Close       Volume  \\\ncryptodate                                                                \n2015-01-01  320.434998  320.434998  314.002991  314.248993      8036550   \n2015-01-02  314.079010  315.838989  313.565002  315.032013      7860650   \n2015-01-03  314.846008  315.149994  281.082001  281.082001     33054400   \n2015-01-04  281.145996  287.230011  257.612000  264.195007     55629100   \n2015-01-05  265.084015  278.341003  265.084015  274.473999     43962800   \n...                ...         ...         ...         ...          ...   \n2023-11-26    1.000486    1.000609    0.999623    1.000211  30299804822   \n2023-11-27    1.000214    1.000661    0.999835    0.999980  38568585545   \n2023-11-28    1.000112    1.000668    0.999888    1.000377  37720536626   \n2023-11-29    1.000326    1.000817    0.999889    1.000220  35115076722   \n2023-11-30    1.000236    1.000390    0.999863    1.000156  29247809691   \n\n            Dividends  Stock Splits crypto_ticker  \ncryptodate                                         \n2015-01-01          0             0           BTC  \n2015-01-02          0             0           BTC  \n2015-01-03          0             0           BTC  \n2015-01-04          0             0           BTC  \n2015-01-05          0             0           BTC  \n...               ...           ...           ...  \n2023-11-26          0             0          USDT  \n2023-11-27          0             0          USDT  \n2023-11-28          0             0          USDT  \n2023-11-29          0             0          USDT  \n2023-11-30          0             0          USDT  \n\n[7682 rows x 8 columns]",
      "text/html": "<div>\n<style scoped>\n    .dataframe tbody tr th:only-of-type {\n        vertical-align: middle;\n    }\n\n    .dataframe tbody tr th {\n        vertical-align: top;\n    }\n\n    .dataframe thead th {\n        text-align: right;\n    }\n</style>\n<table border=\"1\" class=\"dataframe\">\n  <thead>\n    <tr style=\"text-align: right;\">\n      <th></th>\n      <th>Open</th>\n      <th>High</th>\n      <th>Low</th>\n      <th>Close</th>\n      <th>Volume</th>\n      <th>Dividends</th>\n      <th>Stock Splits</th>\n      <th>crypto_ticker</th>\n    </tr>\n    <tr>\n      <th>cryptodate</th>\n      <th></th>\n      <th></th>\n      <th></th>\n      <th></th>\n      <th></th>\n      <th></th>\n      <th></th>\n      <th></th>\n    </tr>\n  </thead>\n  <tbody>\n    <tr>\n      <th>2015-01-01</th>\n      <td>320.434998</td>\n      <td>320.434998</td>\n      <td>314.002991</td>\n      <td>314.248993</td>\n      <td>8036550</td>\n      <td>0</td>\n      <td>0</td>\n      <td>BTC</td>\n    </tr>\n    <tr>\n      <th>2015-01-02</th>\n      <td>314.079010</td>\n      <td>315.838989</td>\n      <td>313.565002</td>\n      <td>315.032013</td>\n      <td>7860650</td>\n      <td>0</td>\n      <td>0</td>\n      <td>BTC</td>\n    </tr>\n    <tr>\n      <th>2015-01-03</th>\n      <td>314.846008</td>\n      <td>315.149994</td>\n      <td>281.082001</td>\n      <td>281.082001</td>\n      <td>33054400</td>\n      <td>0</td>\n      <td>0</td>\n      <td>BTC</td>\n    </tr>\n    <tr>\n      <th>2015-01-04</th>\n      <td>281.145996</td>\n      <td>287.230011</td>\n      <td>257.612000</td>\n      <td>264.195007</td>\n      <td>55629100</td>\n      <td>0</td>\n      <td>0</td>\n      <td>BTC</td>\n    </tr>\n    <tr>\n      <th>2015-01-05</th>\n      <td>265.084015</td>\n      <td>278.341003</td>\n      <td>265.084015</td>\n      <td>274.473999</td>\n      <td>43962800</td>\n      <td>0</td>\n      <td>0</td>\n      <td>BTC</td>\n    </tr>\n    <tr>\n      <th>...</th>\n      <td>...</td>\n      <td>...</td>\n      <td>...</td>\n      <td>...</td>\n      <td>...</td>\n      <td>...</td>\n      <td>...</td>\n      <td>...</td>\n    </tr>\n    <tr>\n      <th>2023-11-26</th>\n      <td>1.000486</td>\n      <td>1.000609</td>\n      <td>0.999623</td>\n      <td>1.000211</td>\n      <td>30299804822</td>\n      <td>0</td>\n      <td>0</td>\n      <td>USDT</td>\n    </tr>\n    <tr>\n      <th>2023-11-27</th>\n      <td>1.000214</td>\n      <td>1.000661</td>\n      <td>0.999835</td>\n      <td>0.999980</td>\n      <td>38568585545</td>\n      <td>0</td>\n      <td>0</td>\n      <td>USDT</td>\n    </tr>\n    <tr>\n      <th>2023-11-28</th>\n      <td>1.000112</td>\n      <td>1.000668</td>\n      <td>0.999888</td>\n      <td>1.000377</td>\n      <td>37720536626</td>\n      <td>0</td>\n      <td>0</td>\n      <td>USDT</td>\n    </tr>\n    <tr>\n      <th>2023-11-29</th>\n      <td>1.000326</td>\n      <td>1.000817</td>\n      <td>0.999889</td>\n      <td>1.000220</td>\n      <td>35115076722</td>\n      <td>0</td>\n      <td>0</td>\n      <td>USDT</td>\n    </tr>\n    <tr>\n      <th>2023-11-30</th>\n      <td>1.000236</td>\n      <td>1.000390</td>\n      <td>0.999863</td>\n      <td>1.000156</td>\n      <td>29247809691</td>\n      <td>0</td>\n      <td>0</td>\n      <td>USDT</td>\n    </tr>\n  </tbody>\n</table>\n<p>7682 rows × 8 columns</p>\n</div>"
     },
     "execution_count": 15,
     "metadata": {},
     "output_type": "execute_result"
    }
   ],
   "source": [
    "# No .reset_index() applied to the data\n",
    "test_data2 = get_crypto_data(crypto_ticker, start_date, end_date)\n",
    "# store_in_postgresql(test_data, 'digital_assets')\n",
    "test_data2"
   ],
   "metadata": {
    "collapsed": false,
    "pycharm": {
     "name": "#%%\n"
    }
   }
  },
  {
   "cell_type": "code",
   "execution_count": 22,
   "outputs": [
    {
     "name": "stdout",
     "output_type": "stream",
     "text": [
      "Data inserted successfully into PostgreSQL database\n",
      "PostgreSQL connection is closed\n"
     ]
    }
   ],
   "source": [
    "store_in_postgresql(test_data2, 'digital_assets')\n",
    "\n",
    "\n",
    "# Error Log: resolved by enabling public access to the database from my home computer\n",
    "\n",
    "# Error: connection to server at \"34.170.57.79\", port 5432 failed: Connection timed out (0x0000274C/10060)\n",
    "# \tIs the server running on that host and accepting TCP/IP connections?\n",
    "\n",
    "#Error Log2: resolved by putting the complete list of columns before the VALUES (%s...)... the last two column names were missing\n",
    "# Error: INSERT has more expressions than target columns\n",
    "# LINE 1: ...314.00299072265625, 314.2489929199219, 8036550, 0, 0, 'BTC')\n",
    "# sql = f\"INSERT INTO {table_name} (crypto_date, Open, High, Low, Close, Volume, Dividends) VALUES (%s, %s, %s, %s, %s, %s, %s, %s, %s)\"\n",
    "\n",
    "\n",
    "# ErrorLog3: Resolved by making the column a VARCHAR (could have been TEXT?) 'BTC' column assigned datatype of float when a string was found in the dataframe\n",
    "\n",
    "# Error: invalid input syntax for type double precision: \"BTC\"\n",
    "# LINE 1: ...314.00299072265625, 314.2489929199219, 8036550, 0, 0, 'BTC')\n",
    "#                                                                  ^\n",
    "#\n",
    "# PostgreSQL connection is closed"
   ],
   "metadata": {
    "collapsed": false,
    "pycharm": {
     "name": "#%%\n"
    }
   }
  },
  {
   "cell_type": "code",
   "execution_count": 27,
   "outputs": [
    {
     "name": "stdout",
     "output_type": "stream",
     "text": [
      "     crypto_date        open        high         low       close        volume  dividends  stock_splits crypto_ticker\n",
      "0     2015-01-01  320.434998  320.434998  314.002991  314.248993  8.036550e+06        0.0           0.0           BTC\n",
      "1     2015-01-02  314.079010  315.838989  313.565002  315.032013  7.860650e+06        0.0           0.0           BTC\n",
      "2     2015-01-03  314.846008  315.149994  281.082001  281.082001  3.305440e+07        0.0           0.0           BTC\n",
      "3     2015-01-04  281.145996  287.230011  257.612000  264.195007  5.562910e+07        0.0           0.0           BTC\n",
      "4     2015-01-05  265.084015  278.341003  265.084015  274.473999  4.396280e+07        0.0           0.0           BTC\n",
      "...          ...         ...         ...         ...         ...           ...        ...           ...           ...\n",
      "7677  2023-11-26    1.000486    1.000609    0.999623    1.000211  3.029980e+10        0.0           0.0          USDT\n",
      "7678  2023-11-27    1.000214    1.000661    0.999835    0.999980  3.856859e+10        0.0           0.0          USDT\n",
      "7679  2023-11-28    1.000112    1.000668    0.999888    1.000377  3.772054e+10        0.0           0.0          USDT\n",
      "7680  2023-11-29    1.000326    1.000817    0.999889    1.000220  3.511508e+10        0.0           0.0          USDT\n",
      "7681  2023-11-30    1.000236    1.000390    0.999863    1.000156  2.924781e+10        0.0           0.0          USDT\n",
      "\n",
      "[7682 rows x 9 columns]\n",
      "PostgreSQL connection is closed\n"
     ]
    }
   ],
   "source": [
    "#Fetch data from PostgreSQL & convert to dataframe\n",
    "\n",
    "# My IP Address (86.3.67.247) from WhatsMyIPAddress.com https://whatismyipaddress.com/ 86.3.67.247\n",
    "\n",
    "def fetch_data_from_sql(table_name):\n",
    "    try:\n",
    "\n",
    "        # Connect to Google Cloud SQL PostgreSQL\n",
    "        connection = psycopg2.connect(\n",
    "            user='abelakeni',\n",
    "            password='unbound365',\n",
    "            host='34.170.57.79',\n",
    "            port='5432',\n",
    "            database='unbound_digital_assets'\n",
    "        )\n",
    "\n",
    "        cursor = connection.cursor()\n",
    "\n",
    "        # Execute a query to fetch data from PostgreSQL\n",
    "        query = f\"SELECT * FROM {table_name}\"\n",
    "        cursor.execute(query)\n",
    "\n",
    "        # Fetch all rows from the result\n",
    "        result = cursor.fetchall()\n",
    "\n",
    "        # Convert fetched data to a DataFrame\n",
    "        column_names = [desc[0] for desc in cursor.description]\n",
    "        df = pd.DataFrame(result, columns=column_names)\n",
    "\n",
    "        # Display fetched data\n",
    "        print(df)\n",
    "\n",
    "    except psycopg2.Error as error:\n",
    "        print(f\"Error: {error}\")\n",
    "\n",
    "    finally:\n",
    "        if 'connection' in locals() and connection is not None:\n",
    "            cursor.close()\n",
    "            connection.close()\n",
    "            print(\"PostgreSQL connection is closed\")\n",
    "\n",
    "# set_option('display.width', 500)\n",
    "# Usage example:\n",
    "fetch_data_from_sql('digital_assets')\n"
   ],
   "metadata": {
    "collapsed": false,
    "pycharm": {
     "name": "#%%\n"
    }
   }
  },
  {
   "cell_type": "code",
   "execution_count": null,
   "outputs": [],
   "source": [],
   "metadata": {
    "collapsed": false,
    "pycharm": {
     "name": "#%%\n"
    }
   }
  },
  {
   "cell_type": "code",
   "execution_count": null,
   "outputs": [],
   "source": [],
   "metadata": {
    "collapsed": false,
    "pycharm": {
     "name": "#%%\n"
    }
   }
  },
  {
   "cell_type": "code",
   "execution_count": null,
   "outputs": [],
   "source": [],
   "metadata": {
    "collapsed": false,
    "pycharm": {
     "name": "#%%\n"
    }
   }
  },
  {
   "cell_type": "code",
   "execution_count": null,
   "outputs": [],
   "source": [],
   "metadata": {
    "collapsed": false,
    "pycharm": {
     "name": "#%%\n"
    }
   }
  },
  {
   "cell_type": "code",
   "execution_count": 6,
   "outputs": [
    {
     "data": {
      "text/plain": "     cryptodate      Open      High       Low     Close       Volume  \\\n7677 2023-11-26  1.000486  1.000609  0.999623  1.000211  30299804822   \n7678 2023-11-27  1.000214  1.000661  0.999835  0.999980  38568585545   \n7679 2023-11-28  1.000112  1.000668  0.999888  1.000377  37720536626   \n7680 2023-11-29  1.000326  1.000817  0.999889  1.000220  35115076722   \n7681 2023-11-30  1.000236  1.000390  0.999863  1.000156  29247809691   \n\n      Dividends  Stock Splits crypto_ticker  \n7677          0             0          USDT  \n7678          0             0          USDT  \n7679          0             0          USDT  \n7680          0             0          USDT  \n7681          0             0          USDT  ",
      "text/html": "<div>\n<style scoped>\n    .dataframe tbody tr th:only-of-type {\n        vertical-align: middle;\n    }\n\n    .dataframe tbody tr th {\n        vertical-align: top;\n    }\n\n    .dataframe thead th {\n        text-align: right;\n    }\n</style>\n<table border=\"1\" class=\"dataframe\">\n  <thead>\n    <tr style=\"text-align: right;\">\n      <th></th>\n      <th>cryptodate</th>\n      <th>Open</th>\n      <th>High</th>\n      <th>Low</th>\n      <th>Close</th>\n      <th>Volume</th>\n      <th>Dividends</th>\n      <th>Stock Splits</th>\n      <th>crypto_ticker</th>\n    </tr>\n  </thead>\n  <tbody>\n    <tr>\n      <th>7677</th>\n      <td>2023-11-26</td>\n      <td>1.000486</td>\n      <td>1.000609</td>\n      <td>0.999623</td>\n      <td>1.000211</td>\n      <td>30299804822</td>\n      <td>0</td>\n      <td>0</td>\n      <td>USDT</td>\n    </tr>\n    <tr>\n      <th>7678</th>\n      <td>2023-11-27</td>\n      <td>1.000214</td>\n      <td>1.000661</td>\n      <td>0.999835</td>\n      <td>0.999980</td>\n      <td>38568585545</td>\n      <td>0</td>\n      <td>0</td>\n      <td>USDT</td>\n    </tr>\n    <tr>\n      <th>7679</th>\n      <td>2023-11-28</td>\n      <td>1.000112</td>\n      <td>1.000668</td>\n      <td>0.999888</td>\n      <td>1.000377</td>\n      <td>37720536626</td>\n      <td>0</td>\n      <td>0</td>\n      <td>USDT</td>\n    </tr>\n    <tr>\n      <th>7680</th>\n      <td>2023-11-29</td>\n      <td>1.000326</td>\n      <td>1.000817</td>\n      <td>0.999889</td>\n      <td>1.000220</td>\n      <td>35115076722</td>\n      <td>0</td>\n      <td>0</td>\n      <td>USDT</td>\n    </tr>\n    <tr>\n      <th>7681</th>\n      <td>2023-11-30</td>\n      <td>1.000236</td>\n      <td>1.000390</td>\n      <td>0.999863</td>\n      <td>1.000156</td>\n      <td>29247809691</td>\n      <td>0</td>\n      <td>0</td>\n      <td>USDT</td>\n    </tr>\n  </tbody>\n</table>\n</div>"
     },
     "execution_count": 6,
     "metadata": {},
     "output_type": "execute_result"
    }
   ],
   "source": [
    "crypto_ticker = ['BTC', 'ETH', 'USDT']\n",
    "start_date = '2015-01-01'\n",
    "end_date = '2023-11-30'\n",
    "\n",
    "\n",
    "test_data = get_crypto_data(crypto_ticker, start_date, end_date)\n",
    "test_data.tail()"
   ],
   "metadata": {
    "collapsed": false,
    "pycharm": {
     "name": "#%%\n"
    }
   }
  },
  {
   "cell_type": "code",
   "execution_count": null,
   "outputs": [],
   "source": [],
   "metadata": {
    "collapsed": false,
    "pycharm": {
     "name": "#%%\n"
    }
   }
  },
  {
   "cell_type": "code",
   "execution_count": 24,
   "outputs": [],
   "source": [
    "# Time functions\n",
    "import time\n",
    "\n",
    "start_time = time.time()\n",
    "\n",
    "# Insert Pandas DataFrame into PostgreSQL using the appropriate method (e.g., psycopg2)\n",
    "# Your insertion code here\n",
    "\n",
    "end_time = time.time()\n",
    "elapsed_time = end_time - start_time\n",
    "print(f\"Time taken for insertion: {elapsed_time} seconds\")\n"
   ],
   "metadata": {
    "collapsed": false,
    "pycharm": {
     "name": "#%%\n"
    }
   }
  }
 ],
 "metadata": {
  "kernelspec": {
   "display_name": "Python 3",
   "language": "python",
   "name": "python3"
  },
  "language_info": {
   "codemirror_mode": {
    "name": "ipython",
    "version": 2
   },
   "file_extension": ".py",
   "mimetype": "text/x-python",
   "name": "python",
   "nbconvert_exporter": "python",
   "pygments_lexer": "ipython2",
   "version": "2.7.6"
  }
 },
 "nbformat": 4,
 "nbformat_minor": 0
}