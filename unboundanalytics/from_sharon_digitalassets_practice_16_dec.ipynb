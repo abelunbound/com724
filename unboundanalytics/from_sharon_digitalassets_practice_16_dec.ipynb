{
 "cells": [
  {
   "cell_type": "markdown",
   "source": [
    "# Project - Price forecasting for volatile digital assets"
   ],
   "metadata": {
    "collapsed": false,
    "pycharm": {
     "name": "#%% md\n"
    }
   }
  },
  {
   "cell_type": "markdown",
   "source": [
    "Sharon's log/short description here"
   ],
   "metadata": {
    "collapsed": false,
    "pycharm": {
     "name": "#%% md\n"
    }
   }
  },
  {
   "cell_type": "markdown",
   "source": [
    "# Dependencies"
   ],
   "metadata": {
    "collapsed": false,
    "pycharm": {
     "name": "#%% md\n"
    }
   }
  },
  {
   "cell_type": "code",
   "execution_count": 2,
   "outputs": [],
   "source": [
    "import yfinance as yf\n",
    "import pandas as pd\n",
    "import psycopg2\n"
   ],
   "metadata": {
    "collapsed": false,
    "pycharm": {
     "name": "#%%\n"
    },
    "ExecuteTime": {
     "end_time": "2023-12-20T20:17:37.961068100Z",
     "start_time": "2023-12-20T20:17:32.347891300Z"
    }
   }
  },
  {
   "cell_type": "markdown",
   "source": [
    "# Data Pipeline"
   ],
   "metadata": {
    "collapsed": false,
    "pycharm": {
     "name": "#%% md\n"
    }
   }
  },
  {
   "cell_type": "code",
   "execution_count": 8,
   "outputs": [],
   "source": [
    "# original function with issue with function returning only one cryptocurrency\n",
    "# create a function to establish a connection with the Api and retrieve data\n",
    "def retrieve_data(symbols, start_date, end_date):\n",
    "    for each_symbols in symbols:\n",
    "        crypto_data = yf.Ticker(f\"{each_symbols}-USD\").history(start = start_date, end = end_date, interval = \"1d\")\n",
    "        crypto_data_df = pd.DataFrame(crypto_data)\n",
    "        crypto_data_df[\"Symbols\"] = each_symbols\n",
    "        crypto_data_df.columns.values[6] = 'Stock_Splits'\n",
    "\n",
    "    return crypto_data_df\n"
   ],
   "metadata": {
    "collapsed": false,
    "pycharm": {
     "name": "#%%\n"
    }
   }
  },
  {
   "cell_type": "code",
   "execution_count": 3,
   "outputs": [],
   "source": [
    "# Fixed issue with function returning only one cryptocurrency\n",
    "# create a function to establish a connection with the Api and retrieve data\n",
    "def fixed_retrieve_data(symbols, start_date, end_date):\n",
    "    data_holder = pd.DataFrame() # Create an empty DataFrame to store all data\n",
    "\n",
    "    for each_symbols in symbols:\n",
    "        crypto_data = yf.Ticker(f\"{each_symbols}-USD\").history(start = start_date, end = end_date, interval = \"1d\")\n",
    "        crypto_data_df = pd.DataFrame(crypto_data)\n",
    "        crypto_data_df[\"Symbols\"] = each_symbols\n",
    "        crypto_data_df.columns.values[6] = 'Stock_Splits'\n",
    "        all_dataframes = [data_holder, crypto_data_df]\n",
    "        data_holder = pd.concat(all_dataframes)\n",
    "\n",
    "    return data_holder\n",
    "\n"
   ],
   "metadata": {
    "collapsed": false,
    "pycharm": {
     "name": "#%%\n"
    }
   }
  },
  {
   "cell_type": "code",
   "execution_count": 4,
   "outputs": [
    {
     "data": {
      "text/plain": "                  Open        High         Low       Close       Volume  \\\nDate                                                                      \n2015-01-01  320.434998  320.434998  314.002991  314.248993      8036550   \n2015-01-02  314.079010  315.838989  313.565002  315.032013      7860650   \n2015-01-03  314.846008  315.149994  281.082001  281.082001     33054400   \n2015-01-04  281.145996  287.230011  257.612000  264.195007     55629100   \n2015-01-05  265.084015  278.341003  265.084015  274.473999     43962800   \n...                ...         ...         ...         ...          ...   \n2023-12-11    1.000072    1.000773    0.998850    0.999547  73473005079   \n2023-12-12    0.999582    1.000987    0.999030    0.999786  50960203250   \n2023-12-13    0.999721    1.000719    0.999246    1.000191  52038965688   \n2023-12-14    1.000275    1.000986    0.999786    1.000155  50697278985   \n2023-12-15    1.000228    1.001034    0.999585    1.000150  45289072124   \n\n            Dividends  Stock_Splits Symbols  \nDate                                         \n2015-01-01          0             0     BTC  \n2015-01-02          0             0     BTC  \n2015-01-03          0             0     BTC  \n2015-01-04          0             0     BTC  \n2015-01-05          0             0     BTC  \n...               ...           ...     ...  \n2023-12-11          0             0    USDT  \n2023-12-12          0             0    USDT  \n2023-12-13          0             0    USDT  \n2023-12-14          0             0    USDT  \n2023-12-15          0             0    USDT  \n\n[7727 rows x 8 columns]",
      "text/html": "<div>\n<style scoped>\n    .dataframe tbody tr th:only-of-type {\n        vertical-align: middle;\n    }\n\n    .dataframe tbody tr th {\n        vertical-align: top;\n    }\n\n    .dataframe thead th {\n        text-align: right;\n    }\n</style>\n<table border=\"1\" class=\"dataframe\">\n  <thead>\n    <tr style=\"text-align: right;\">\n      <th></th>\n      <th>Open</th>\n      <th>High</th>\n      <th>Low</th>\n      <th>Close</th>\n      <th>Volume</th>\n      <th>Dividends</th>\n      <th>Stock_Splits</th>\n      <th>Symbols</th>\n    </tr>\n    <tr>\n      <th>Date</th>\n      <th></th>\n      <th></th>\n      <th></th>\n      <th></th>\n      <th></th>\n      <th></th>\n      <th></th>\n      <th></th>\n    </tr>\n  </thead>\n  <tbody>\n    <tr>\n      <th>2015-01-01</th>\n      <td>320.434998</td>\n      <td>320.434998</td>\n      <td>314.002991</td>\n      <td>314.248993</td>\n      <td>8036550</td>\n      <td>0</td>\n      <td>0</td>\n      <td>BTC</td>\n    </tr>\n    <tr>\n      <th>2015-01-02</th>\n      <td>314.079010</td>\n      <td>315.838989</td>\n      <td>313.565002</td>\n      <td>315.032013</td>\n      <td>7860650</td>\n      <td>0</td>\n      <td>0</td>\n      <td>BTC</td>\n    </tr>\n    <tr>\n      <th>2015-01-03</th>\n      <td>314.846008</td>\n      <td>315.149994</td>\n      <td>281.082001</td>\n      <td>281.082001</td>\n      <td>33054400</td>\n      <td>0</td>\n      <td>0</td>\n      <td>BTC</td>\n    </tr>\n    <tr>\n      <th>2015-01-04</th>\n      <td>281.145996</td>\n      <td>287.230011</td>\n      <td>257.612000</td>\n      <td>264.195007</td>\n      <td>55629100</td>\n      <td>0</td>\n      <td>0</td>\n      <td>BTC</td>\n    </tr>\n    <tr>\n      <th>2015-01-05</th>\n      <td>265.084015</td>\n      <td>278.341003</td>\n      <td>265.084015</td>\n      <td>274.473999</td>\n      <td>43962800</td>\n      <td>0</td>\n      <td>0</td>\n      <td>BTC</td>\n    </tr>\n    <tr>\n      <th>...</th>\n      <td>...</td>\n      <td>...</td>\n      <td>...</td>\n      <td>...</td>\n      <td>...</td>\n      <td>...</td>\n      <td>...</td>\n      <td>...</td>\n    </tr>\n    <tr>\n      <th>2023-12-11</th>\n      <td>1.000072</td>\n      <td>1.000773</td>\n      <td>0.998850</td>\n      <td>0.999547</td>\n      <td>73473005079</td>\n      <td>0</td>\n      <td>0</td>\n      <td>USDT</td>\n    </tr>\n    <tr>\n      <th>2023-12-12</th>\n      <td>0.999582</td>\n      <td>1.000987</td>\n      <td>0.999030</td>\n      <td>0.999786</td>\n      <td>50960203250</td>\n      <td>0</td>\n      <td>0</td>\n      <td>USDT</td>\n    </tr>\n    <tr>\n      <th>2023-12-13</th>\n      <td>0.999721</td>\n      <td>1.000719</td>\n      <td>0.999246</td>\n      <td>1.000191</td>\n      <td>52038965688</td>\n      <td>0</td>\n      <td>0</td>\n      <td>USDT</td>\n    </tr>\n    <tr>\n      <th>2023-12-14</th>\n      <td>1.000275</td>\n      <td>1.000986</td>\n      <td>0.999786</td>\n      <td>1.000155</td>\n      <td>50697278985</td>\n      <td>0</td>\n      <td>0</td>\n      <td>USDT</td>\n    </tr>\n    <tr>\n      <th>2023-12-15</th>\n      <td>1.000228</td>\n      <td>1.001034</td>\n      <td>0.999585</td>\n      <td>1.000150</td>\n      <td>45289072124</td>\n      <td>0</td>\n      <td>0</td>\n      <td>USDT</td>\n    </tr>\n  </tbody>\n</table>\n<p>7727 rows × 8 columns</p>\n</div>"
     },
     "execution_count": 4,
     "metadata": {},
     "output_type": "execute_result"
    }
   ],
   "source": [
    "symbols = [\"BTC\", \"ETH\", \"USDT\"]\n",
    "start_date = \"2015-01-01\"\n",
    "end_date = \"2023-12-15\"\n",
    "# table_name = \"crypto_table\"\n",
    "\n",
    "view_all = fixed_retrieve_data(symbols, start_date, end_date)\n",
    "view_all"
   ],
   "metadata": {
    "collapsed": false,
    "pycharm": {
     "name": "#%%\n"
    }
   }
  },
  {
   "cell_type": "code",
   "execution_count": 9,
   "outputs": [
    {
     "data": {
      "text/plain": "           Date      Open      High       Low     Close       Volume  \\\n0    2017-11-09  1.010870  1.013270  0.996515  1.008180    358188000   \n1    2017-11-10  1.006500  1.024230  0.995486  1.006010    756446016   \n2    2017-11-11  1.005980  1.026210  0.995799  1.008990    746227968   \n3    2017-11-12  1.006020  1.105910  0.967601  1.012470   1466060032   \n4    2017-11-13  1.004480  1.029290  0.975103  1.009350    767884032   \n...         ...       ...       ...       ...       ...          ...   \n2223 2023-12-11  1.000072  1.000773  0.998850  0.999547  73473005079   \n2224 2023-12-12  0.999582  1.000987  0.999030  0.999786  50960203250   \n2225 2023-12-13  0.999721  1.000719  0.999246  1.000191  52038965688   \n2226 2023-12-14  1.000275  1.000986  0.999786  1.000155  50697278985   \n2227 2023-12-15  1.000228  1.001034  0.999585  1.000150  45289072124   \n\n      Dividends  Stock_Splits Symbols  \n0             0             0    USDT  \n1             0             0    USDT  \n2             0             0    USDT  \n3             0             0    USDT  \n4             0             0    USDT  \n...         ...           ...     ...  \n2223          0             0    USDT  \n2224          0             0    USDT  \n2225          0             0    USDT  \n2226          0             0    USDT  \n2227          0             0    USDT  \n\n[2228 rows x 9 columns]",
      "text/html": "<div>\n<style scoped>\n    .dataframe tbody tr th:only-of-type {\n        vertical-align: middle;\n    }\n\n    .dataframe tbody tr th {\n        vertical-align: top;\n    }\n\n    .dataframe thead th {\n        text-align: right;\n    }\n</style>\n<table border=\"1\" class=\"dataframe\">\n  <thead>\n    <tr style=\"text-align: right;\">\n      <th></th>\n      <th>Date</th>\n      <th>Open</th>\n      <th>High</th>\n      <th>Low</th>\n      <th>Close</th>\n      <th>Volume</th>\n      <th>Dividends</th>\n      <th>Stock_Splits</th>\n      <th>Symbols</th>\n    </tr>\n  </thead>\n  <tbody>\n    <tr>\n      <th>0</th>\n      <td>2017-11-09</td>\n      <td>1.010870</td>\n      <td>1.013270</td>\n      <td>0.996515</td>\n      <td>1.008180</td>\n      <td>358188000</td>\n      <td>0</td>\n      <td>0</td>\n      <td>USDT</td>\n    </tr>\n    <tr>\n      <th>1</th>\n      <td>2017-11-10</td>\n      <td>1.006500</td>\n      <td>1.024230</td>\n      <td>0.995486</td>\n      <td>1.006010</td>\n      <td>756446016</td>\n      <td>0</td>\n      <td>0</td>\n      <td>USDT</td>\n    </tr>\n    <tr>\n      <th>2</th>\n      <td>2017-11-11</td>\n      <td>1.005980</td>\n      <td>1.026210</td>\n      <td>0.995799</td>\n      <td>1.008990</td>\n      <td>746227968</td>\n      <td>0</td>\n      <td>0</td>\n      <td>USDT</td>\n    </tr>\n    <tr>\n      <th>3</th>\n      <td>2017-11-12</td>\n      <td>1.006020</td>\n      <td>1.105910</td>\n      <td>0.967601</td>\n      <td>1.012470</td>\n      <td>1466060032</td>\n      <td>0</td>\n      <td>0</td>\n      <td>USDT</td>\n    </tr>\n    <tr>\n      <th>4</th>\n      <td>2017-11-13</td>\n      <td>1.004480</td>\n      <td>1.029290</td>\n      <td>0.975103</td>\n      <td>1.009350</td>\n      <td>767884032</td>\n      <td>0</td>\n      <td>0</td>\n      <td>USDT</td>\n    </tr>\n    <tr>\n      <th>...</th>\n      <td>...</td>\n      <td>...</td>\n      <td>...</td>\n      <td>...</td>\n      <td>...</td>\n      <td>...</td>\n      <td>...</td>\n      <td>...</td>\n      <td>...</td>\n    </tr>\n    <tr>\n      <th>2223</th>\n      <td>2023-12-11</td>\n      <td>1.000072</td>\n      <td>1.000773</td>\n      <td>0.998850</td>\n      <td>0.999547</td>\n      <td>73473005079</td>\n      <td>0</td>\n      <td>0</td>\n      <td>USDT</td>\n    </tr>\n    <tr>\n      <th>2224</th>\n      <td>2023-12-12</td>\n      <td>0.999582</td>\n      <td>1.000987</td>\n      <td>0.999030</td>\n      <td>0.999786</td>\n      <td>50960203250</td>\n      <td>0</td>\n      <td>0</td>\n      <td>USDT</td>\n    </tr>\n    <tr>\n      <th>2225</th>\n      <td>2023-12-13</td>\n      <td>0.999721</td>\n      <td>1.000719</td>\n      <td>0.999246</td>\n      <td>1.000191</td>\n      <td>52038965688</td>\n      <td>0</td>\n      <td>0</td>\n      <td>USDT</td>\n    </tr>\n    <tr>\n      <th>2226</th>\n      <td>2023-12-14</td>\n      <td>1.000275</td>\n      <td>1.000986</td>\n      <td>0.999786</td>\n      <td>1.000155</td>\n      <td>50697278985</td>\n      <td>0</td>\n      <td>0</td>\n      <td>USDT</td>\n    </tr>\n    <tr>\n      <th>2227</th>\n      <td>2023-12-15</td>\n      <td>1.000228</td>\n      <td>1.001034</td>\n      <td>0.999585</td>\n      <td>1.000150</td>\n      <td>45289072124</td>\n      <td>0</td>\n      <td>0</td>\n      <td>USDT</td>\n    </tr>\n  </tbody>\n</table>\n<p>2228 rows × 9 columns</p>\n</div>"
     },
     "execution_count": 9,
     "metadata": {},
     "output_type": "execute_result"
    }
   ],
   "source": [
    "symbols = [\"BTC\", \"ETH\", \"USDT\"]\n",
    "start_date = \"2015-01-01\"\n",
    "end_date = \"2023-12-15\"\n",
    "table_name = \"crypto_table\"\n",
    "\n",
    "data = retrieve_data(symbols, start_date, end_date)\n",
    "# new_data = data.rename(columns={'Stock Split': 'Stock_Splits'})\n",
    "# If you don't use inplace=True you have to assign it to a new dataframe\n",
    "# data.columns.values[6] = 'Stock_Splits' # resolve KeyError: 'Stock_Splits'\n",
    "new_data = data.rename_axis('Date').reset_index() # resolve KeyError: 'Symbols'\n",
    "# new_data.columns.values[8] = 'Symbols' # resolve KeyError: 'Symbols'\n",
    "new_data"
   ],
   "metadata": {
    "collapsed": false,
    "pycharm": {
     "name": "#%%\n"
    }
   }
  },
  {
   "cell_type": "code",
   "execution_count": 21,
   "outputs": [],
   "source": [
    "# Create a function to store a copy in SQL -\n",
    "# updated w/Abel's database details\n",
    "\n",
    "def sql_data_storage(data, table_name):\n",
    "    try:\n",
    "        # Create connection to the SQL database\n",
    "        connection = psycopg2.connect(\n",
    "            dbname = 'crypto_database',\n",
    "            user = 'abelakeni',\n",
    "            password = 'postgresdb',\n",
    "            host = '34.30.85.80',\n",
    "            port = '5432'   \n",
    "        )\n",
    "        # Create a cursor \n",
    "        cursor = connection.cursor()\n",
    "      \n",
    "        # Create a table\n",
    "        table_query = f\"CREATE TABLE IF NOT EXISTS {table_name} (Date DATE, Open FLOAT, High FLOAT, Low FLOAT, Close FLOAT, Volume FLOAT, Dividends FLOAT , Stock_Splits FLOAT, Symbols VARCHAR(225)) \"\n",
    "        cursor.execute(table_query)\n",
    "       \n",
    "        # Insert data into the table\n",
    "        for index, row in data.iterrows():\n",
    "            insert_query = f\"INSERT INTO {table_name} (Date, Open, High, Low, Close, Volume, Dividends, Stock_Splits, Symbols) VALUES (%s,%s,%s,%s,%s,%s,%s,%s,%s)\"\n",
    "            values = (row[\"Date\"], row[\"Open\"], row[\"High\"], row[\"Low\"], row[\"Close\"], row[\"Volume\"], row[\"Dividends\"], row[\"Stock_Splits\"], row[\"Symbols\"])\n",
    "            cursor.execute(insert_query, values)\n",
    "       \n",
    "        # Commit the data into the connection\n",
    "        connection.commit()\n",
    "        \n",
    "        # Success note/ Inform user\n",
    "        print(\"Your data has been inserted successfully into the SQL database\")\n",
    "        \n",
    "    except psycopg2.Error as error:\n",
    "        print(f\" an error has occurred : {error}\")\n",
    "        \n",
    "    finally:\n",
    "        if \"connection\" in locals() and connection is not None:\n",
    "            cursor.close()\n",
    "            connection.close()\n",
    "            print(\"Your connection is closed\")\n",
    "\n"
   ],
   "metadata": {
    "collapsed": false,
    "pycharm": {
     "name": "#%%\n"
    }
   }
  },
  {
   "cell_type": "code",
   "execution_count": 28,
   "outputs": [
    {
     "name": "stdout",
     "output_type": "stream",
     "text": [
      "Your data has been inserted successfully into the SQL database\n",
      "Your connection is closed\n"
     ]
    }
   ],
   "source": [
    "sql_data_storage(new_data, table_name)"
   ],
   "metadata": {
    "collapsed": false,
    "pycharm": {
     "name": "#%%\n"
    }
   }
  },
  {
   "cell_type": "code",
   "execution_count": 3,
   "outputs": [],
   "source": [
    "# create a function to Connect to an SQL database to retrieve Data\n",
    "def retrieve_sql_data(table_name):\n",
    "    try:\n",
    "        # Create a connection with the database\n",
    "        connection = psycopg2.connect(\n",
    "            dbname = 'crypto_database',\n",
    "            user = 'sharon_anya',\n",
    "            password = 'datapipelines',\n",
    "            host = '35.193.208.235', \n",
    "            port = '5432'   \n",
    "        )\n",
    "        # Create a cursor\n",
    "        cursor = connection.cursor()\n",
    "        \n",
    "        # Retrieve Data from the table\n",
    "        table_query = f\"SELECT * FROM {table_name}\"\n",
    "        cursor.execute(table_query)\n",
    "        result = cursor.fetchall()\n",
    "        \n",
    "        # Convert the data from the SQL database to a dataframe\n",
    "        column_name = [header[0] for header in cursor.description] # what other items are held in the cursor.description \n",
    "        crypto_data_df = pd.DataFrame(result, columns= column_name) \n",
    "        \n",
    "    except psycopg2.Error as error:\n",
    "        print(f\"You have encountered an error: {error}\")\n",
    "    finally:\n",
    "        if \"connection\" in locals() and connection is not None:\n",
    "            cursor.close()\n",
    "            connection.close()\n",
    "            print(\"Your connection is closed\")\n",
    "    return crypto_data_df\n",
    "\n"
   ],
   "metadata": {
    "collapsed": false,
    "ExecuteTime": {
     "end_time": "2023-12-20T20:16:35.064647900Z",
     "start_time": "2023-12-20T20:16:35.042316500Z"
    },
    "pycharm": {
     "name": "#%%\n"
    }
   }
  },
  {
   "cell_type": "code",
   "execution_count": 6,
   "outputs": [
    {
     "data": {
      "text/plain": "                              Open     High       Low    Close      Volume  \\\nDate                                                                         \n2017-11-09 00:00:00+00:00  1.01087  1.01327  0.996515  1.00818   358188000   \n2017-11-10 00:00:00+00:00  1.00650  1.02423  0.995486  1.00601   756446016   \n2017-11-11 00:00:00+00:00  1.00598  1.02621  0.995799  1.00899   746227968   \n2017-11-12 00:00:00+00:00  1.00602  1.10591  0.967601  1.01247  1466060032   \n2017-11-13 00:00:00+00:00  1.00448  1.02929  0.975103  1.00935   767884032   \n\n                           Dividends  Stock Splits Symbol  \nDate                                                       \n2017-11-09 00:00:00+00:00        0.0           0.0   USDT  \n2017-11-10 00:00:00+00:00        0.0           0.0   USDT  \n2017-11-11 00:00:00+00:00        0.0           0.0   USDT  \n2017-11-12 00:00:00+00:00        0.0           0.0   USDT  \n2017-11-13 00:00:00+00:00        0.0           0.0   USDT  ",
      "text/html": "<div>\n<style scoped>\n    .dataframe tbody tr th:only-of-type {\n        vertical-align: middle;\n    }\n\n    .dataframe tbody tr th {\n        vertical-align: top;\n    }\n\n    .dataframe thead th {\n        text-align: right;\n    }\n</style>\n<table border=\"1\" class=\"dataframe\">\n  <thead>\n    <tr style=\"text-align: right;\">\n      <th></th>\n      <th>Open</th>\n      <th>High</th>\n      <th>Low</th>\n      <th>Close</th>\n      <th>Volume</th>\n      <th>Dividends</th>\n      <th>Stock Splits</th>\n      <th>Symbol</th>\n    </tr>\n    <tr>\n      <th>Date</th>\n      <th></th>\n      <th></th>\n      <th></th>\n      <th></th>\n      <th></th>\n      <th></th>\n      <th></th>\n      <th></th>\n    </tr>\n  </thead>\n  <tbody>\n    <tr>\n      <th>2017-11-09 00:00:00+00:00</th>\n      <td>1.01087</td>\n      <td>1.01327</td>\n      <td>0.996515</td>\n      <td>1.00818</td>\n      <td>358188000</td>\n      <td>0.0</td>\n      <td>0.0</td>\n      <td>USDT</td>\n    </tr>\n    <tr>\n      <th>2017-11-10 00:00:00+00:00</th>\n      <td>1.00650</td>\n      <td>1.02423</td>\n      <td>0.995486</td>\n      <td>1.00601</td>\n      <td>756446016</td>\n      <td>0.0</td>\n      <td>0.0</td>\n      <td>USDT</td>\n    </tr>\n    <tr>\n      <th>2017-11-11 00:00:00+00:00</th>\n      <td>1.00598</td>\n      <td>1.02621</td>\n      <td>0.995799</td>\n      <td>1.00899</td>\n      <td>746227968</td>\n      <td>0.0</td>\n      <td>0.0</td>\n      <td>USDT</td>\n    </tr>\n    <tr>\n      <th>2017-11-12 00:00:00+00:00</th>\n      <td>1.00602</td>\n      <td>1.10591</td>\n      <td>0.967601</td>\n      <td>1.01247</td>\n      <td>1466060032</td>\n      <td>0.0</td>\n      <td>0.0</td>\n      <td>USDT</td>\n    </tr>\n    <tr>\n      <th>2017-11-13 00:00:00+00:00</th>\n      <td>1.00448</td>\n      <td>1.02929</td>\n      <td>0.975103</td>\n      <td>1.00935</td>\n      <td>767884032</td>\n      <td>0.0</td>\n      <td>0.0</td>\n      <td>USDT</td>\n    </tr>\n  </tbody>\n</table>\n</div>"
     },
     "execution_count": 6,
     "metadata": {},
     "output_type": "execute_result"
    }
   ],
   "source": [
    "# Conditional statement to switch to an SQL database\n",
    "# if API data is null get data from the SQL database\n",
    "symbols = [\"BTC\", \"ETH\", \"USDT\"]\n",
    "start_date = \"2015-01-01\"\n",
    "end_date = \"2023-11-30\"\n",
    "table_name = \"crypto_table\"\n",
    "\n",
    "store_data = retrieve_data(symbols, start_date, end_date)\n",
    "if store_data is None:\n",
    "    store_data = retrieve_sql_data(table_name)\n",
    "\n",
    "if store_data is None:\n",
    "    store_data = pd.read_csv(\"data/soligencecryptodata_withdate.csv\")\n",
    "\n",
    "store_data.head()\n",
    "\n",
    "\n",
    "\n",
    "# Retrieve data from a csv file\n",
    "\n",
    "# Store data in a pandas dataframe"
   ],
   "metadata": {
    "collapsed": false,
    "ExecuteTime": {
     "end_time": "2023-12-20T20:18:07.017031100Z",
     "start_time": "2023-12-20T20:17:45.394302100Z"
    },
    "pycharm": {
     "name": "#%%\n"
    }
   }
  },
  {
   "cell_type": "code",
   "execution_count": 7,
   "outputs": [
    {
     "data": {
      "text/plain": "                              Open     High       Low    Close      Volume  \\\nDate                                                                         \n2017-11-09 00:00:00+00:00  1.01087  1.01327  0.996515  1.00818   358188000   \n2017-11-10 00:00:00+00:00  1.00650  1.02423  0.995486  1.00601   756446016   \n2017-11-11 00:00:00+00:00  1.00598  1.02621  0.995799  1.00899   746227968   \n2017-11-12 00:00:00+00:00  1.00602  1.10591  0.967601  1.01247  1466060032   \n2017-11-13 00:00:00+00:00  1.00448  1.02929  0.975103  1.00935   767884032   \n\n                           Dividends  Stock Splits Symbol  \nDate                                                       \n2017-11-09 00:00:00+00:00        0.0           0.0   USDT  \n2017-11-10 00:00:00+00:00        0.0           0.0   USDT  \n2017-11-11 00:00:00+00:00        0.0           0.0   USDT  \n2017-11-12 00:00:00+00:00        0.0           0.0   USDT  \n2017-11-13 00:00:00+00:00        0.0           0.0   USDT  ",
      "text/html": "<div>\n<style scoped>\n    .dataframe tbody tr th:only-of-type {\n        vertical-align: middle;\n    }\n\n    .dataframe tbody tr th {\n        vertical-align: top;\n    }\n\n    .dataframe thead th {\n        text-align: right;\n    }\n</style>\n<table border=\"1\" class=\"dataframe\">\n  <thead>\n    <tr style=\"text-align: right;\">\n      <th></th>\n      <th>Open</th>\n      <th>High</th>\n      <th>Low</th>\n      <th>Close</th>\n      <th>Volume</th>\n      <th>Dividends</th>\n      <th>Stock Splits</th>\n      <th>Symbol</th>\n    </tr>\n    <tr>\n      <th>Date</th>\n      <th></th>\n      <th></th>\n      <th></th>\n      <th></th>\n      <th></th>\n      <th></th>\n      <th></th>\n      <th></th>\n    </tr>\n  </thead>\n  <tbody>\n    <tr>\n      <th>2017-11-09 00:00:00+00:00</th>\n      <td>1.01087</td>\n      <td>1.01327</td>\n      <td>0.996515</td>\n      <td>1.00818</td>\n      <td>358188000</td>\n      <td>0.0</td>\n      <td>0.0</td>\n      <td>USDT</td>\n    </tr>\n    <tr>\n      <th>2017-11-10 00:00:00+00:00</th>\n      <td>1.00650</td>\n      <td>1.02423</td>\n      <td>0.995486</td>\n      <td>1.00601</td>\n      <td>756446016</td>\n      <td>0.0</td>\n      <td>0.0</td>\n      <td>USDT</td>\n    </tr>\n    <tr>\n      <th>2017-11-11 00:00:00+00:00</th>\n      <td>1.00598</td>\n      <td>1.02621</td>\n      <td>0.995799</td>\n      <td>1.00899</td>\n      <td>746227968</td>\n      <td>0.0</td>\n      <td>0.0</td>\n      <td>USDT</td>\n    </tr>\n    <tr>\n      <th>2017-11-12 00:00:00+00:00</th>\n      <td>1.00602</td>\n      <td>1.10591</td>\n      <td>0.967601</td>\n      <td>1.01247</td>\n      <td>1466060032</td>\n      <td>0.0</td>\n      <td>0.0</td>\n      <td>USDT</td>\n    </tr>\n    <tr>\n      <th>2017-11-13 00:00:00+00:00</th>\n      <td>1.00448</td>\n      <td>1.02929</td>\n      <td>0.975103</td>\n      <td>1.00935</td>\n      <td>767884032</td>\n      <td>0.0</td>\n      <td>0.0</td>\n      <td>USDT</td>\n    </tr>\n  </tbody>\n</table>\n</div>"
     },
     "execution_count": 7,
     "metadata": {},
     "output_type": "execute_result"
    }
   ],
   "source": [
    "# NO INTERNET\n",
    "symbols = [\"BTC\", \"ETH\", \"USDT\"]\n",
    "start_date = \"2015-01-01\"\n",
    "end_date = \"2023-11-30\"\n",
    "table_name = \"crypto_table\"\n",
    "\n",
    "store_data_2 = retrieve_data(symbols, start_date, end_date)\n",
    "if store_data_2 is None:\n",
    "    store_data_2 = retrieve_sql_data(table_name)\n",
    "if store_data_2 is None:\n",
    "    store_data_2 = pd.read_csv(\"data/soligencecryptodata_withdate.csv\") \n",
    "store_data_2.head()\n"
   ],
   "metadata": {
    "collapsed": false,
    "ExecuteTime": {
     "end_time": "2023-12-20T20:21:29.408200600Z",
     "start_time": "2023-12-20T20:21:29.258177400Z"
    },
    "pycharm": {
     "name": "#%%\n"
    }
   }
  },
  {
   "cell_type": "code",
   "execution_count": 4,
   "outputs": [
    {
     "data": {
      "text/plain": "                              Open     High       Low    Close      Volume  \\\nDate                                                                         \n2017-11-09 00:00:00+00:00  1.01087  1.01327  0.996515  1.00818   358188000   \n2017-11-10 00:00:00+00:00  1.00650  1.02423  0.995486  1.00601   756446016   \n2017-11-11 00:00:00+00:00  1.00598  1.02621  0.995799  1.00899   746227968   \n2017-11-12 00:00:00+00:00  1.00602  1.10591  0.967601  1.01247  1466060032   \n2017-11-13 00:00:00+00:00  1.00448  1.02929  0.975103  1.00935   767884032   \n\n                           Dividends  Stock Splits Symbol  \nDate                                                       \n2017-11-09 00:00:00+00:00        0.0           0.0   USDT  \n2017-11-10 00:00:00+00:00        0.0           0.0   USDT  \n2017-11-11 00:00:00+00:00        0.0           0.0   USDT  \n2017-11-12 00:00:00+00:00        0.0           0.0   USDT  \n2017-11-13 00:00:00+00:00        0.0           0.0   USDT  ",
      "text/html": "<div>\n<style scoped>\n    .dataframe tbody tr th:only-of-type {\n        vertical-align: middle;\n    }\n\n    .dataframe tbody tr th {\n        vertical-align: top;\n    }\n\n    .dataframe thead th {\n        text-align: right;\n    }\n</style>\n<table border=\"1\" class=\"dataframe\">\n  <thead>\n    <tr style=\"text-align: right;\">\n      <th></th>\n      <th>Open</th>\n      <th>High</th>\n      <th>Low</th>\n      <th>Close</th>\n      <th>Volume</th>\n      <th>Dividends</th>\n      <th>Stock Splits</th>\n      <th>Symbol</th>\n    </tr>\n    <tr>\n      <th>Date</th>\n      <th></th>\n      <th></th>\n      <th></th>\n      <th></th>\n      <th></th>\n      <th></th>\n      <th></th>\n      <th></th>\n    </tr>\n  </thead>\n  <tbody>\n    <tr>\n      <th>2017-11-09 00:00:00+00:00</th>\n      <td>1.01087</td>\n      <td>1.01327</td>\n      <td>0.996515</td>\n      <td>1.00818</td>\n      <td>358188000</td>\n      <td>0.0</td>\n      <td>0.0</td>\n      <td>USDT</td>\n    </tr>\n    <tr>\n      <th>2017-11-10 00:00:00+00:00</th>\n      <td>1.00650</td>\n      <td>1.02423</td>\n      <td>0.995486</td>\n      <td>1.00601</td>\n      <td>756446016</td>\n      <td>0.0</td>\n      <td>0.0</td>\n      <td>USDT</td>\n    </tr>\n    <tr>\n      <th>2017-11-11 00:00:00+00:00</th>\n      <td>1.00598</td>\n      <td>1.02621</td>\n      <td>0.995799</td>\n      <td>1.00899</td>\n      <td>746227968</td>\n      <td>0.0</td>\n      <td>0.0</td>\n      <td>USDT</td>\n    </tr>\n    <tr>\n      <th>2017-11-12 00:00:00+00:00</th>\n      <td>1.00602</td>\n      <td>1.10591</td>\n      <td>0.967601</td>\n      <td>1.01247</td>\n      <td>1466060032</td>\n      <td>0.0</td>\n      <td>0.0</td>\n      <td>USDT</td>\n    </tr>\n    <tr>\n      <th>2017-11-13 00:00:00+00:00</th>\n      <td>1.00448</td>\n      <td>1.02929</td>\n      <td>0.975103</td>\n      <td>1.00935</td>\n      <td>767884032</td>\n      <td>0.0</td>\n      <td>0.0</td>\n      <td>USDT</td>\n    </tr>\n  </tbody>\n</table>\n</div>"
     },
     "execution_count": 4,
     "metadata": {},
     "output_type": "execute_result"
    }
   ],
   "source": [
    "symbols = [\"BTC\", \"ETH\", \"USDT\"]\n",
    "start_date = \"2015-01-01\"\n",
    "end_date = \"2023-11-30\"\n",
    "test_data = retrieve_data(symbols, start_date, end_date)\n",
    "test_data.head(5)"
   ],
   "metadata": {
    "collapsed": false,
    "pycharm": {
     "name": "#%%\n"
    },
    "ExecuteTime": {
     "end_time": "2023-12-16T20:12:52.777078900Z",
     "start_time": "2023-12-16T20:12:29.986420Z"
    }
   }
  },
  {
   "cell_type": "code",
   "execution_count": null,
   "outputs": [],
   "source": [
    "sql_data_storage(test_data,\"crypto_table\")\n"
   ],
   "metadata": {
    "collapsed": false,
    "pycharm": {
     "name": "#%%\n"
    }
   }
  },
  {
   "cell_type": "code",
   "execution_count": null,
   "outputs": [],
   "source": [
    "# Date, Open, High, Low, Close, Volume, Dividends, Stock Splits, Symbol"
   ],
   "metadata": {
    "collapsed": false,
    "pycharm": {
     "name": "#%%\n"
    }
   }
  },
  {
   "cell_type": "code",
   "execution_count": null,
   "outputs": [],
   "source": [],
   "metadata": {
    "collapsed": false,
    "pycharm": {
     "name": "#%%\n"
    }
   }
  },
  {
   "cell_type": "markdown",
   "source": [
    "# Data Quality Testing"
   ],
   "metadata": {
    "collapsed": false,
    "pycharm": {
     "name": "#%% md\n"
    }
   }
  },
  {
   "cell_type": "code",
   "execution_count": 10,
   "outputs": [
    {
     "data": {
      "text/plain": "  crypto_symbol  count_per_symbol\n0          USDT              2228\n1         Total              2228",
      "text/html": "<div>\n<style scoped>\n    .dataframe tbody tr th:only-of-type {\n        vertical-align: middle;\n    }\n\n    .dataframe tbody tr th {\n        vertical-align: top;\n    }\n\n    .dataframe thead th {\n        text-align: right;\n    }\n</style>\n<table border=\"1\" class=\"dataframe\">\n  <thead>\n    <tr style=\"text-align: right;\">\n      <th></th>\n      <th>crypto_symbol</th>\n      <th>count_per_symbol</th>\n    </tr>\n  </thead>\n  <tbody>\n    <tr>\n      <th>0</th>\n      <td>USDT</td>\n      <td>2228</td>\n    </tr>\n    <tr>\n      <th>1</th>\n      <td>Total</td>\n      <td>2228</td>\n    </tr>\n  </tbody>\n</table>\n</div>"
     },
     "execution_count": 10,
     "metadata": {},
     "output_type": "execute_result"
    }
   ],
   "source": [
    "# counting occurences of a particular entry\n",
    "# checking for inconsistent entries and volume of occurrence (e.g. JAN, jan, JAN or credit_meter, credit, cred etc)\n",
    "\n",
    "\"\"\"\n",
    "1. Counts total occurrence of unique entries in a particular column.\n",
    "2. Reset index transforms it into a dataframe with two columns: unique entry & corresponding counts\n",
    "3. Rename each columns to legible, intuitive names\n",
    "4. Get the total for the counts, create a dictionary with 'Total' and corresponding 'Total_Count'\n",
    "5. Append the dictionary in #4 above to the entry_count dataframe\n",
    "\"\"\"\n",
    "crypto_type_count = new_data['Symbols'].value_counts().reset_index()\n",
    "crypto_type_count.columns = ['crypto_symbol','count_per_symbol' ]\n",
    "total_count = crypto_type_count['count_per_symbol'].sum()\n",
    "total_row = {'crypto_symbol': 'Total',\n",
    "             'count_per_symbol': total_count}\n",
    "\n",
    "\n",
    "# crypto_type_count = crypto_type_count.append(total_row, ignore_index=True) # This method produced Error xxx: FutureWarning: The frame.append method is deprecated and will be removed from pandas in a future version. Use pandas.concat instead.\n",
    "\n",
    "total_row = pd.DataFrame([total_row]) # in converting a dictionary to a dataframe, enclose the dictionary in a square bracket.\n",
    "all_dataframes = [crypto_type_count, total_row]\n",
    "\n",
    "crypto_type_count = pd.concat(all_dataframes, ignore_index=True)\n",
    "\n",
    "# Show summary dataframe\n",
    "crypto_type_count\n",
    "# total_row\n",
    "\n",
    "# rename"
   ],
   "metadata": {
    "collapsed": false,
    "pycharm": {
     "name": "#%%\n"
    }
   }
  },
  {
   "cell_type": "code",
   "execution_count": 11,
   "outputs": [
    {
     "data": {
      "text/plain": "  Symbols  count\n0    USDT   2228",
      "text/html": "<div>\n<style scoped>\n    .dataframe tbody tr th:only-of-type {\n        vertical-align: middle;\n    }\n\n    .dataframe tbody tr th {\n        vertical-align: top;\n    }\n\n    .dataframe thead th {\n        text-align: right;\n    }\n</style>\n<table border=\"1\" class=\"dataframe\">\n  <thead>\n    <tr style=\"text-align: right;\">\n      <th></th>\n      <th>Symbols</th>\n      <th>count</th>\n    </tr>\n  </thead>\n  <tbody>\n    <tr>\n      <th>0</th>\n      <td>USDT</td>\n      <td>2228</td>\n    </tr>\n  </tbody>\n</table>\n</div>"
     },
     "execution_count": 11,
     "metadata": {},
     "output_type": "execute_result"
    }
   ],
   "source": [
    "# Alternative method - using groupby\n",
    "\"\"\"\n",
    "Dataframe can be sorted in ascending or descending order\n",
    "sorted_df = crypto_type_count2.sort_values(by='count', ascending=True)\n",
    "\n",
    "\"\"\"\n",
    "# You can also count unique occurrence of a pair of columns by including them in the list for .groupby([])\n",
    "crypto_type_count2 = new_data.groupby(['Symbols']).size().reset_index(name='count') #reset index so the column becomes a proper column and not an index\n",
    "crypto_type_count2\n",
    "\n"
   ],
   "metadata": {
    "collapsed": false,
    "pycharm": {
     "name": "#%%\n"
    }
   }
  },
  {
   "cell_type": "code",
   "execution_count": 12,
   "outputs": [
    {
     "data": {
      "text/plain": "Date\n2015     365\n2016     366\n2017     471\n2018    1095\n2019    1095\n2020    1098\n2021    1095\n2022    1095\n2023    1047\ndtype: int64"
     },
     "execution_count": 12,
     "metadata": {},
     "output_type": "execute_result"
    }
   ],
   "source": [
    "crypto_type_count3 = view_all.groupby(view_all.index.year).size() #reset index so the column becomes a proper column and not an index\n",
    "crypto_type_count3\n"
   ],
   "metadata": {
    "collapsed": false,
    "pycharm": {
     "name": "#%%\n"
    }
   }
  },
  {
   "cell_type": "code",
   "execution_count": null,
   "outputs": [],
   "source": [
    "# Revisit code from InsightsPaper_undelivered\n",
    "# There is an interesting code mapping two dataframes, and fillling NA  towards the end\n",
    "\n",
    "\n"
   ],
   "metadata": {
    "collapsed": false,
    "pycharm": {
     "name": "#%%\n"
    }
   }
  },
  {
   "cell_type": "code",
   "execution_count": 15,
   "outputs": [
    {
     "data": {
      "text/plain": "           Date      Open      High       Low     Close       Volume  \\\n1    2017-11-10  1.006500  1.024230  0.995486  1.006010    756446016   \n2    2017-11-11  1.005980  1.026210  0.995799  1.008990    746227968   \n3    2017-11-12  1.006020  1.105910  0.967601  1.012470   1466060032   \n4    2017-11-13  1.004480  1.029290  0.975103  1.009350    767884032   \n5    2017-11-14  1.005240  1.013430  0.996898  1.006830    429857984   \n...         ...       ...       ...       ...       ...          ...   \n2223 2023-12-11  1.000072  1.000773  0.998850  0.999547  73473005079   \n2224 2023-12-12  0.999582  1.000987  0.999030  0.999786  50960203250   \n2225 2023-12-13  0.999721  1.000719  0.999246  1.000191  52038965688   \n2226 2023-12-14  1.000275  1.000986  0.999786  1.000155  50697278985   \n2227 2023-12-15  1.000228  1.001034  0.999585  1.000150  45289072124   \n\n      Dividends  Stock_Splits Symbols  \n1             0             0    USDT  \n2             0             0    USDT  \n3             0             0    USDT  \n4             0             0    USDT  \n5             0             0    USDT  \n...         ...           ...     ...  \n2223          0             0    USDT  \n2224          0             0    USDT  \n2225          0             0    USDT  \n2226          0             0    USDT  \n2227          0             0    USDT  \n\n[2227 rows x 9 columns]",
      "text/html": "<div>\n<style scoped>\n    .dataframe tbody tr th:only-of-type {\n        vertical-align: middle;\n    }\n\n    .dataframe tbody tr th {\n        vertical-align: top;\n    }\n\n    .dataframe thead th {\n        text-align: right;\n    }\n</style>\n<table border=\"1\" class=\"dataframe\">\n  <thead>\n    <tr style=\"text-align: right;\">\n      <th></th>\n      <th>Date</th>\n      <th>Open</th>\n      <th>High</th>\n      <th>Low</th>\n      <th>Close</th>\n      <th>Volume</th>\n      <th>Dividends</th>\n      <th>Stock_Splits</th>\n      <th>Symbols</th>\n    </tr>\n  </thead>\n  <tbody>\n    <tr>\n      <th>1</th>\n      <td>2017-11-10</td>\n      <td>1.006500</td>\n      <td>1.024230</td>\n      <td>0.995486</td>\n      <td>1.006010</td>\n      <td>756446016</td>\n      <td>0</td>\n      <td>0</td>\n      <td>USDT</td>\n    </tr>\n    <tr>\n      <th>2</th>\n      <td>2017-11-11</td>\n      <td>1.005980</td>\n      <td>1.026210</td>\n      <td>0.995799</td>\n      <td>1.008990</td>\n      <td>746227968</td>\n      <td>0</td>\n      <td>0</td>\n      <td>USDT</td>\n    </tr>\n    <tr>\n      <th>3</th>\n      <td>2017-11-12</td>\n      <td>1.006020</td>\n      <td>1.105910</td>\n      <td>0.967601</td>\n      <td>1.012470</td>\n      <td>1466060032</td>\n      <td>0</td>\n      <td>0</td>\n      <td>USDT</td>\n    </tr>\n    <tr>\n      <th>4</th>\n      <td>2017-11-13</td>\n      <td>1.004480</td>\n      <td>1.029290</td>\n      <td>0.975103</td>\n      <td>1.009350</td>\n      <td>767884032</td>\n      <td>0</td>\n      <td>0</td>\n      <td>USDT</td>\n    </tr>\n    <tr>\n      <th>5</th>\n      <td>2017-11-14</td>\n      <td>1.005240</td>\n      <td>1.013430</td>\n      <td>0.996898</td>\n      <td>1.006830</td>\n      <td>429857984</td>\n      <td>0</td>\n      <td>0</td>\n      <td>USDT</td>\n    </tr>\n    <tr>\n      <th>...</th>\n      <td>...</td>\n      <td>...</td>\n      <td>...</td>\n      <td>...</td>\n      <td>...</td>\n      <td>...</td>\n      <td>...</td>\n      <td>...</td>\n      <td>...</td>\n    </tr>\n    <tr>\n      <th>2223</th>\n      <td>2023-12-11</td>\n      <td>1.000072</td>\n      <td>1.000773</td>\n      <td>0.998850</td>\n      <td>0.999547</td>\n      <td>73473005079</td>\n      <td>0</td>\n      <td>0</td>\n      <td>USDT</td>\n    </tr>\n    <tr>\n      <th>2224</th>\n      <td>2023-12-12</td>\n      <td>0.999582</td>\n      <td>1.000987</td>\n      <td>0.999030</td>\n      <td>0.999786</td>\n      <td>50960203250</td>\n      <td>0</td>\n      <td>0</td>\n      <td>USDT</td>\n    </tr>\n    <tr>\n      <th>2225</th>\n      <td>2023-12-13</td>\n      <td>0.999721</td>\n      <td>1.000719</td>\n      <td>0.999246</td>\n      <td>1.000191</td>\n      <td>52038965688</td>\n      <td>0</td>\n      <td>0</td>\n      <td>USDT</td>\n    </tr>\n    <tr>\n      <th>2226</th>\n      <td>2023-12-14</td>\n      <td>1.000275</td>\n      <td>1.000986</td>\n      <td>0.999786</td>\n      <td>1.000155</td>\n      <td>50697278985</td>\n      <td>0</td>\n      <td>0</td>\n      <td>USDT</td>\n    </tr>\n    <tr>\n      <th>2227</th>\n      <td>2023-12-15</td>\n      <td>1.000228</td>\n      <td>1.001034</td>\n      <td>0.999585</td>\n      <td>1.000150</td>\n      <td>45289072124</td>\n      <td>0</td>\n      <td>0</td>\n      <td>USDT</td>\n    </tr>\n  </tbody>\n</table>\n<p>2227 rows × 9 columns</p>\n</div>"
     },
     "execution_count": 15,
     "metadata": {},
     "output_type": "execute_result"
    }
   ],
   "source": [
    "# check duplicates in a specific column\n",
    "crypto_duplicates = new_data['Symbols'].duplicated()\n",
    "\n",
    "\"\"\"\n",
    "\n",
    "columns_to_check = ['Date']\n",
    "Alternatively this code below also works\n",
    "crypto_specific_columns = new_data.duplicated(subset=columns_to_check)\n",
    "rows_with_duplicates = new_data[crypto_specific_columns]\n",
    "print(rows_with_duplicates)\n",
    "\n",
    "\"\"\"\n",
    "# check duplicates in whole dataframe. returns a new dataframe with true of false per row\n",
    "# crypto_duplicates = new_data.duplicated()\n",
    "\n",
    "# display only rows with duplicate entries\n",
    "duplicate_rows = new_data[crypto_duplicates]\n",
    "# crypto_duplicates\n",
    "duplicate_rows"
   ],
   "metadata": {
    "collapsed": false,
    "pycharm": {
     "name": "#%%\n"
    }
   }
  },
  {
   "cell_type": "code",
   "execution_count": 55,
   "outputs": [
    {
     "data": {
      "text/plain": "Date            0\nOpen            0\nHigh            0\nLow             0\nClose           0\nVolume          0\nDividends       0\nStock_Splits    0\nSymbols         0\ndtype: int64"
     },
     "execution_count": 55,
     "metadata": {},
     "output_type": "execute_result"
    }
   ],
   "source": [
    "# Missing Data - count missing data per column\n",
    "\n",
    "missing_data = new_data.isna() # the aliase .isnull() can also be used\n",
    "missing_data_count = missing_data.sum()\n",
    "missing_data_count"
   ],
   "metadata": {
    "collapsed": false,
    "pycharm": {
     "name": "#%%\n"
    }
   }
  },
  {
   "cell_type": "code",
   "execution_count": null,
   "outputs": [],
   "source": [
    "# Missing Data - count entire rows with missing data\n",
    "missing_values = new_data.isna().sum(axis=1)\n",
    "rows_missing = (missing_values >= 9).sum()\n",
    "rows_missing"
   ],
   "metadata": {
    "collapsed": false,
    "pycharm": {
     "name": "#%%\n"
    }
   }
  },
  {
   "cell_type": "code",
   "execution_count": 70,
   "outputs": [
    {
     "name": "stdout",
     "output_type": "stream",
     "text": [
      "Inferred frequency: D\n"
     ]
    }
   ],
   "source": [
    "# Missing Data - check for missing entries in time series\n",
    "inferred_freq = pd.infer_freq(new_data['Date'])\n",
    "print(f\"Inferred frequency: {inferred_freq}\")"
   ],
   "metadata": {
    "collapsed": false,
    "pycharm": {
     "name": "#%%\n"
    }
   }
  },
  {
   "cell_type": "code",
   "execution_count": 72,
   "outputs": [
    {
     "name": "stdout",
     "output_type": "stream",
     "text": [
      "Inferred frequency: None\n"
     ]
    }
   ],
   "source": [
    "# inferred_freq = view_all.index.inferred_freq # use this code if the date is still the index of the data frame\n",
    "\n",
    "print(f\"Inferred frequency: {inferred_freq}\")"
   ],
   "metadata": {
    "collapsed": false,
    "pycharm": {
     "name": "#%%\n"
    }
   }
  },
  {
   "cell_type": "code",
   "execution_count": null,
   "outputs": [],
   "source": [],
   "metadata": {
    "collapsed": false,
    "pycharm": {
     "name": "#%%\n"
    }
   }
  },
  {
   "cell_type": "markdown",
   "source": [
    "# Data Understanding"
   ],
   "metadata": {
    "collapsed": false,
    "pycharm": {
     "name": "#%% md\n"
    }
   }
  },
  {
   "cell_type": "code",
   "execution_count": 1,
   "outputs": [],
   "source": [
    "\n"
   ],
   "metadata": {
    "collapsed": false,
    "pycharm": {
     "name": "#%%\n"
    }
   }
  },
  {
   "cell_type": "code",
   "execution_count": 1,
   "outputs": [],
   "source": [],
   "metadata": {
    "collapsed": false,
    "pycharm": {
     "name": "#%%\n"
    }
   }
  },
  {
   "cell_type": "markdown",
   "source": [
    "# Feature Selection"
   ],
   "metadata": {
    "collapsed": false,
    "pycharm": {
     "name": "#%% md\n"
    }
   }
  },
  {
   "cell_type": "raw",
   "source": [],
   "metadata": {
    "collapsed": false,
    "pycharm": {
     "name": "#%% raw\n"
    }
   }
  },
  {
   "cell_type": "code",
   "execution_count": 1,
   "outputs": [],
   "source": [
    "# Domain Knowledge"
   ],
   "metadata": {
    "collapsed": false,
    "pycharm": {
     "name": "#%%\n"
    }
   }
  },
  {
   "cell_type": "markdown",
   "source": [
    "# Data preprocessing"
   ],
   "metadata": {
    "collapsed": false,
    "pycharm": {
     "name": "#%% md\n"
    }
   }
  },
  {
   "cell_type": "code",
   "execution_count": 1,
   "outputs": [],
   "source": [],
   "metadata": {
    "collapsed": false,
    "pycharm": {
     "name": "#%%\n"
    }
   }
  },
  {
   "cell_type": "code",
   "execution_count": 1,
   "outputs": [],
   "source": [],
   "metadata": {
    "collapsed": false,
    "pycharm": {
     "name": "#%%\n"
    }
   }
  },
  {
   "cell_type": "markdown",
   "source": [
    "# Analytical Models"
   ],
   "metadata": {
    "collapsed": false,
    "pycharm": {
     "name": "#%% md\n"
    }
   }
  },
  {
   "cell_type": "code",
   "execution_count": 1,
   "outputs": [],
   "source": [],
   "metadata": {
    "collapsed": false,
    "pycharm": {
     "name": "#%%\n"
    }
   }
  },
  {
   "cell_type": "code",
   "execution_count": 1,
   "outputs": [],
   "source": [],
   "metadata": {
    "collapsed": false,
    "pycharm": {
     "name": "#%%\n"
    }
   }
  },
  {
   "cell_type": "markdown",
   "source": [
    "# Model Evaluation"
   ],
   "metadata": {
    "collapsed": false,
    "pycharm": {
     "name": "#%% md\n"
    }
   }
  },
  {
   "cell_type": "code",
   "execution_count": 1,
   "outputs": [],
   "source": [],
   "metadata": {
    "collapsed": false,
    "pycharm": {
     "name": "#%%\n"
    }
   }
  },
  {
   "cell_type": "code",
   "execution_count": 1,
   "outputs": [],
   "source": [],
   "metadata": {
    "collapsed": false,
    "pycharm": {
     "name": "#%%\n"
    }
   }
  },
  {
   "cell_type": "markdown",
   "source": [
    "# GUI"
   ],
   "metadata": {
    "collapsed": false,
    "pycharm": {
     "name": "#%% md\n"
    }
   }
  },
  {
   "cell_type": "code",
   "execution_count": 1,
   "outputs": [],
   "source": [],
   "metadata": {
    "collapsed": false,
    "pycharm": {
     "name": "#%%\n"
    }
   }
  },
  {
   "cell_type": "code",
   "execution_count": 1,
   "outputs": [],
   "source": [],
   "metadata": {
    "collapsed": false,
    "pycharm": {
     "name": "#%%\n"
    }
   }
  }
 ],
 "metadata": {
  "kernelspec": {
   "display_name": "Python 3",
   "language": "python",
   "name": "python3"
  },
  "language_info": {
   "codemirror_mode": {
    "name": "ipython",
    "version": 2
   },
   "file_extension": ".py",
   "mimetype": "text/x-python",
   "name": "python",
   "nbconvert_exporter": "python",
   "pygments_lexer": "ipython2",
   "version": "2.7.6"
  }
 },
 "nbformat": 4,
 "nbformat_minor": 0
}