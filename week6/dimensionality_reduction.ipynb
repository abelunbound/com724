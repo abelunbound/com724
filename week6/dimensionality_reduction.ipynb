{
 "cells": [
  {
   "cell_type": "code",
   "execution_count": 30,
   "metadata": {
    "collapsed": true,
    "pycharm": {
     "name": "#%%\n"
    }
   },
   "outputs": [
    {
     "name": "stdout",
     "output_type": "stream",
     "text": [
      "(771, 9)\n",
      "tets\n"
     ]
    }
   ],
   "source": [
    "# Missing value ratio\n",
    "import numpy as np\n",
    "import pandas as pd\n",
    "from pandas import read_csv\n",
    "from numpy import set_printoptions\n",
    "from sklearn import preprocessing\n",
    "from sklearn.impute import SimpleImputer\n",
    "from sklearn.preprocessing import MinMaxScaler, Normalizer\n",
    "\n",
    "#load your data into a dataframe\n",
    "\n",
    "header_names = ['preg', 'plas', 'pres', 'skin', 'test', 'mass', 'pedi', 'age', 'class']\n",
    "my_data = read_csv(\"../data/pima_indians_diabetes_2.csv\", names=header_names)\n",
    "\n",
    "#get the data dimension of the dataframe\n",
    "print(my_data.shape)\n",
    "print(\"tets\")"
   ]
  },
  {
   "cell_type": "code",
   "execution_count": 31,
   "outputs": [
    {
     "data": {
      "text/plain": "     preg   plas  pres  skin   test  mass   pedi   age  class\n0       6  148.0  72.0    35    0.0  33.6  0.627  50.0      1\n1       1   85.0  66.0    29    0.0  26.6  0.351  31.0      0\n2       8  183.0  64.0     0    0.0  23.3  0.672  32.0      1\n3       1   89.0  66.0    23   94.0  28.1  0.167  21.0      0\n4       0  137.0  40.0    35  168.0  43.1  2.288  33.0      1\n..    ...    ...   ...   ...    ...   ...    ...   ...    ...\n766     2    NaN  70.0    27    0.0  36.8  0.340  27.0      0\n767     5    NaN  72.0    23  112.0  26.2  0.245  30.0      0\n768     1    NaN  60.0     0    0.0  30.1  0.349  47.0      1\n769     1    NaN  70.0    31    0.0  30.4  0.315  23.0      0\n770     2    NaN  58.0    26    NaN  28.4  0.766   NaN      0\n\n[771 rows x 9 columns]",
      "text/html": "<div>\n<style scoped>\n    .dataframe tbody tr th:only-of-type {\n        vertical-align: middle;\n    }\n\n    .dataframe tbody tr th {\n        vertical-align: top;\n    }\n\n    .dataframe thead th {\n        text-align: right;\n    }\n</style>\n<table border=\"1\" class=\"dataframe\">\n  <thead>\n    <tr style=\"text-align: right;\">\n      <th></th>\n      <th>preg</th>\n      <th>plas</th>\n      <th>pres</th>\n      <th>skin</th>\n      <th>test</th>\n      <th>mass</th>\n      <th>pedi</th>\n      <th>age</th>\n      <th>class</th>\n    </tr>\n  </thead>\n  <tbody>\n    <tr>\n      <th>0</th>\n      <td>6</td>\n      <td>148.0</td>\n      <td>72.0</td>\n      <td>35</td>\n      <td>0.0</td>\n      <td>33.6</td>\n      <td>0.627</td>\n      <td>50.0</td>\n      <td>1</td>\n    </tr>\n    <tr>\n      <th>1</th>\n      <td>1</td>\n      <td>85.0</td>\n      <td>66.0</td>\n      <td>29</td>\n      <td>0.0</td>\n      <td>26.6</td>\n      <td>0.351</td>\n      <td>31.0</td>\n      <td>0</td>\n    </tr>\n    <tr>\n      <th>2</th>\n      <td>8</td>\n      <td>183.0</td>\n      <td>64.0</td>\n      <td>0</td>\n      <td>0.0</td>\n      <td>23.3</td>\n      <td>0.672</td>\n      <td>32.0</td>\n      <td>1</td>\n    </tr>\n    <tr>\n      <th>3</th>\n      <td>1</td>\n      <td>89.0</td>\n      <td>66.0</td>\n      <td>23</td>\n      <td>94.0</td>\n      <td>28.1</td>\n      <td>0.167</td>\n      <td>21.0</td>\n      <td>0</td>\n    </tr>\n    <tr>\n      <th>4</th>\n      <td>0</td>\n      <td>137.0</td>\n      <td>40.0</td>\n      <td>35</td>\n      <td>168.0</td>\n      <td>43.1</td>\n      <td>2.288</td>\n      <td>33.0</td>\n      <td>1</td>\n    </tr>\n    <tr>\n      <th>...</th>\n      <td>...</td>\n      <td>...</td>\n      <td>...</td>\n      <td>...</td>\n      <td>...</td>\n      <td>...</td>\n      <td>...</td>\n      <td>...</td>\n      <td>...</td>\n    </tr>\n    <tr>\n      <th>766</th>\n      <td>2</td>\n      <td>NaN</td>\n      <td>70.0</td>\n      <td>27</td>\n      <td>0.0</td>\n      <td>36.8</td>\n      <td>0.340</td>\n      <td>27.0</td>\n      <td>0</td>\n    </tr>\n    <tr>\n      <th>767</th>\n      <td>5</td>\n      <td>NaN</td>\n      <td>72.0</td>\n      <td>23</td>\n      <td>112.0</td>\n      <td>26.2</td>\n      <td>0.245</td>\n      <td>30.0</td>\n      <td>0</td>\n    </tr>\n    <tr>\n      <th>768</th>\n      <td>1</td>\n      <td>NaN</td>\n      <td>60.0</td>\n      <td>0</td>\n      <td>0.0</td>\n      <td>30.1</td>\n      <td>0.349</td>\n      <td>47.0</td>\n      <td>1</td>\n    </tr>\n    <tr>\n      <th>769</th>\n      <td>1</td>\n      <td>NaN</td>\n      <td>70.0</td>\n      <td>31</td>\n      <td>0.0</td>\n      <td>30.4</td>\n      <td>0.315</td>\n      <td>23.0</td>\n      <td>0</td>\n    </tr>\n    <tr>\n      <th>770</th>\n      <td>2</td>\n      <td>NaN</td>\n      <td>58.0</td>\n      <td>26</td>\n      <td>NaN</td>\n      <td>28.4</td>\n      <td>0.766</td>\n      <td>NaN</td>\n      <td>0</td>\n    </tr>\n  </tbody>\n</table>\n<p>771 rows × 9 columns</p>\n</div>"
     },
     "execution_count": 31,
     "metadata": {},
     "output_type": "execute_result"
    }
   ],
   "source": [
    "my_data"
   ],
   "metadata": {
    "collapsed": false,
    "pycharm": {
     "name": "#%%\n"
    }
   }
  },
  {
   "cell_type": "code",
   "execution_count": 32,
   "outputs": [
    {
     "name": "stdout",
     "output_type": "stream",
     "text": [
      "     preg   plas  pres  skin   test  mass   pedi   age  class\n",
      "440     2  120.0   NaN    26   16.0  36.8  0.766  22.0      0\n",
      "661     2  120.0  58.0    26   16.0   NaN  0.766  22.0      0\n",
      "763     9    NaN  74.0    31    0.0  44.0  0.403  43.0      1\n",
      "764     9    NaN  62.0     0    0.0  22.5  0.142  33.0      0\n",
      "765    10    NaN  76.0    48  180.0  32.9  0.171  63.0      0\n",
      "766     2    NaN  70.0    27    0.0  36.8  0.340  27.0      0\n",
      "767     5    NaN  72.0    23  112.0  26.2  0.245  30.0      0\n",
      "768     1    NaN  60.0     0    0.0  30.1  0.349  47.0      1\n",
      "769     1    NaN  70.0    31    0.0  30.4  0.315  23.0      0\n",
      "770     2    NaN  58.0    26    NaN  28.4  0.766   NaN      0\n"
     ]
    }
   ],
   "source": [
    "#get rows with empty values from the data framexxx\n",
    "empty_value_data = my_data[my_data.isna().any(axis=1)]\n",
    "print(empty_value_data)"
   ],
   "metadata": {
    "collapsed": false,
    "pycharm": {
     "name": "#%%\n"
    }
   }
  },
  {
   "cell_type": "code",
   "execution_count": 33,
   "outputs": [
    {
     "name": "stdout",
     "output_type": "stream",
     "text": [
      "\n",
      "-----Empty rows-----\n",
      "\n",
      "10\n"
     ]
    }
   ],
   "source": [
    "print(\"\\n-----Empty rows-----\\n\")\n",
    "print(len(empty_value_data))"
   ],
   "metadata": {
    "collapsed": false,
    "pycharm": {
     "name": "#%%\n"
    }
   }
  },
  {
   "cell_type": "code",
   "execution_count": 58,
   "outputs": [
    {
     "name": "stdout",
     "output_type": "stream",
     "text": [
      "\n",
      "----- Percent Missing-----\n",
      "preg     0.000000\n",
      "plas     1.037613\n",
      "pres     0.129702\n",
      "skin     0.000000\n",
      "test     0.129702\n",
      "mass     0.129702\n",
      "pedi     0.000000\n",
      "age      0.129702\n",
      "class    0.000000\n",
      "dtype: float64\n"
     ]
    }
   ],
   "source": [
    "# What proportion of each column contains a missing value?\n",
    "#count rows with missing values / total rows multiply by 100\n",
    "#len(perc_missing)/len(my_data) multiply by 100\n",
    "perc_missing = my_data.isnull().sum()/len(my_data)*100\n",
    "print(f\"\\n----- Percent Missing-----\\n{perc_missing}\")"
   ],
   "metadata": {
    "collapsed": false,
    "pycharm": {
     "name": "#%%\n"
    }
   }
  },
  {
   "cell_type": "code",
   "execution_count": 66,
   "outputs": [
    {
     "name": "stdout",
     "output_type": "stream",
     "text": [
      "     preg   plas  pres  skin   test  mass   pedi   age  class\n",
      "440     2  120.0   NaN    26   16.0  36.8  0.766  22.0      0\n",
      "661     2  120.0  58.0    26   16.0   NaN  0.766  22.0      0\n",
      "763     9    NaN  74.0    31    0.0  44.0  0.403  43.0      1\n",
      "764     9    NaN  62.0     0    0.0  22.5  0.142  33.0      0\n",
      "765    10    NaN  76.0    48  180.0  32.9  0.171  63.0      0\n",
      "766     2    NaN  70.0    27    0.0  36.8  0.340  27.0      0\n",
      "767     5    NaN  72.0    23  112.0  26.2  0.245  30.0      0\n",
      "768     1    NaN  60.0     0    0.0  30.1  0.349  47.0      1\n",
      "769     1    NaN  70.0    31    0.0  30.4  0.315  23.0      0\n",
      "770     2    NaN  58.0    26    NaN  28.4  0.766   NaN      0\n"
     ]
    }
   ],
   "source": [
    "new_box = my_data[my_data['test'] > 30]\n",
    "#print(len(new_box))\n",
    "#print(new_box)\n",
    "#print(my_data[my_data.isnull().any(axis=1)])\n",
    "\n",
    "print(my_data[my_data.isnull().any(axis=1)])"
   ],
   "metadata": {
    "collapsed": false,
    "pycharm": {
     "name": "#%%b\n"
    }
   }
  },
  {
   "cell_type": "code",
   "execution_count": 39,
   "outputs": [
    {
     "name": "stderr",
     "output_type": "stream",
     "text": [
      "C:\\Users\\5akena74\\AppData\\Local\\Temp\\ipykernel_14324\\658143844.py:1: SettingWithCopyWarning: \n",
      "A value is trying to be set on a copy of a slice from a DataFrame\n",
      "\n",
      "See the caveats in the documentation: https://pandas.pydata.org/pandas-docs/stable/user_guide/indexing.html#returning-a-view-versus-a-copy\n",
      "  new_box['test'].replace({0:5}, inplace=True)\n"
     ]
    }
   ],
   "source": [
    "new_box['test'].replace({0:5}, inplace=True)"
   ],
   "metadata": {
    "collapsed": false,
    "pycharm": {
     "name": "#%%\n"
    }
   }
  },
  {
   "cell_type": "code",
   "execution_count": 78,
   "outputs": [
    {
     "name": "stdout",
     "output_type": "stream",
     "text": [
      "['preg', 'plas', 'pres', 'skin', 'test', 'mass', 'pedi', 'age', 'class']\n"
     ]
    }
   ],
   "source": [
    "#saving column names in a variable\n",
    "\n",
    "\n",
    "var = []\n",
    "\n",
    "for i in range(0,9):\n",
    "    if perc_missing[i]<=25: #Set the missing threshold to 25%\n",
    "        var.append(header_names[i])\n",
    "print(var)"
   ],
   "metadata": {
    "collapsed": false,
    "pycharm": {
     "name": "#%%\n"
    }
   }
  },
  {
   "cell_type": "code",
   "execution_count": 83,
   "outputs": [
    {
     "name": "stdout",
     "output_type": "stream",
     "text": [
      "(771, 9)\n",
      "SimpleImputer(strategy='most_frequent')\n"
     ]
    }
   ],
   "source": [
    "#Low variance filter\n",
    "\n",
    "#Load your data into a dataframe\n",
    "#This has been done already above\n",
    "#Get the data dimension of the data frame\n",
    "print(my_data.shape)\n",
    "\n",
    "#get the row with empty values from the actual data frame\n",
    "#done in previous sell\n",
    "\n",
    "#use the SimpleImputer function to replace missing values\n",
    "imputer = SimpleImputer(strategy='most_frequent') #replace most_frequent with median, mean and observe\n",
    "imputer.fit(my_data)\n",
    "my_new_data = imputer.transform(my_data)\n",
    "\n",
    "#load data back in a data frame\n",
    "my_data = pd.DataFrame(my_new_data, columns=)"
   ],
   "metadata": {
    "collapsed": false,
    "pycharm": {
     "name": "#%%\n"
    }
   }
  }
 ],
 "metadata": {
  "kernelspec": {
   "display_name": "Python 3",
   "language": "python",
   "name": "python3"
  },
  "language_info": {
   "codemirror_mode": {
    "name": "ipython",
    "version": 2
   },
   "file_extension": ".py",
   "mimetype": "text/x-python",
   "name": "python",
   "nbconvert_exporter": "python",
   "pygments_lexer": "ipython2",
   "version": "2.7.6"
  }
 },
 "nbformat": 4,
 "nbformat_minor": 0
}